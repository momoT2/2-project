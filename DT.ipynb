{
 "cells": [
  {
   "cell_type": "code",
   "execution_count": null,
   "id": "76f1a509",
   "metadata": {},
   "outputs": [],
   "source": [
    "import pandas as pd\n",
    "from pandas.plotting import scatter_matrix\n",
    "import numpy as np\n",
    "import matplotlib\n",
    "%matplotlib inline\n",
    "import matplotlib.pyplot as plt\n",
    "from sklearn.model_selection import train_test_split, StratifiedKFold, cross_val_score\n",
    "from sklearn.svm import SVC\n",
    "from sklearn.neighbors import KNeighborsClassifier\n",
    "from sklearn.preprocessing import StandardScaler\n",
    "from sklearn.pipeline import Pipeline\n",
    "from sklearn.metrics import accuracy_score\n",
    "from sklearn.metrics import classification_report"
   ]
  },
  {
   "cell_type": "code",
   "execution_count": 12,
   "id": "d976bf4e",
   "metadata": {},
   "outputs": [
    {
     "name": "stderr",
     "output_type": "stream",
     "text": [
      "C:\\Users\\user\\AppData\\Local\\Temp\\ipykernel_17284\\3633785355.py:1: DtypeWarning: Columns (10,13,44,46,274,290,346,390) have mixed types. Specify dtype option on import or set low_memory=False.\n",
      "  data_raw = pd.read_csv('E:\\\\2차 프로젝트 문서\\\\엑셀_한국산업안전보건공단_근로환경조사_20231231\\\\(데이터) 2023년 제7차 근로환경조사.csv', encoding=\"cp949\")\n"
     ]
    },
    {
     "name": "stdout",
     "output_type": "stream",
     "text": [
      "<class 'pandas.core.frame.DataFrame'>\n",
      "RangeIndex: 50195 entries, 0 to 50194\n",
      "Columns: 439 entries, id to hm_08_rel_t\n",
      "dtypes: float64(6), int64(199), object(234)\n",
      "memory usage: 168.1+ MB\n"
     ]
    }
   ],
   "source": [
    "data_raw = pd.read_csv('E:\\\\2차 프로젝트 문서\\\\엑셀_한국산업안전보건공단_근로환경조사_20231231\\\\(데이터) 2023년 제7차 근로환경조사.csv', encoding=\"cp949\")\n",
    "\n",
    "data_raw.info()"
   ]
  },
  {
   "cell_type": "code",
   "execution_count": 13,
   "id": "a96b0bcf",
   "metadata": {},
   "outputs": [
    {
     "data": {
      "text/plain": [
       "count    50195.000000\n",
       "mean        52.324315\n",
       "std         14.643423\n",
       "min         15.000000\n",
       "25%         41.000000\n",
       "50%         54.000000\n",
       "75%         63.000000\n",
       "max        100.000000\n",
       "Name: age, dtype: float64"
      ]
     },
     "execution_count": 13,
     "metadata": {},
     "output_type": "execute_result"
    }
   ],
   "source": [
    "data_raw[\"age\"].describe()"
   ]
  },
  {
   "cell_type": "code",
   "execution_count": 14,
   "id": "abc4a213",
   "metadata": {},
   "outputs": [
    {
     "data": {
      "text/plain": [
       "count     50195\n",
       "unique        8\n",
       "top        5.00\n",
       "freq      24661\n",
       "Name: wday_week, dtype: object"
      ]
     },
     "execution_count": 14,
     "metadata": {},
     "output_type": "execute_result"
    }
   ],
   "source": [
    "data_raw[\"wday_week\"].describe()"
   ]
  },
  {
   "cell_type": "code",
   "execution_count": null,
   "id": "ec159f72",
   "metadata": {},
   "outputs": [
    {
     "name": "stdout",
     "output_type": "stream",
     "text": [
      "['6.00' '5.00' '7.00' '3.00' '4.00' '#NULL!' '2.00' '1.00']\n"
     ]
    }
   ],
   "source": [
    "# 딥러닝_실전데이터분석(관상동맥(심장)질환) 참고해서 전체 반복문으로 처리하자\n",
    "\n",
    "print(data_raw[\"wday_week\"].unique())\n",
    "\n",
    "# data_raw[\"wday_week\"] = data_raw[\"wday_week\"].astype(\"float64\")"
   ]
  },
  {
   "cell_type": "code",
   "execution_count": null,
   "id": "d481dacb",
   "metadata": {},
   "outputs": [],
   "source": []
  }
 ],
 "metadata": {
  "kernelspec": {
   "display_name": "python310",
   "language": "python",
   "name": "python3"
  },
  "language_info": {
   "codemirror_mode": {
    "name": "ipython",
    "version": 3
   },
   "file_extension": ".py",
   "mimetype": "text/x-python",
   "name": "python",
   "nbconvert_exporter": "python",
   "pygments_lexer": "ipython3",
   "version": "3.10.12"
  }
 },
 "nbformat": 4,
 "nbformat_minor": 5
}
