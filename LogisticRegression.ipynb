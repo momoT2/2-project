{
 "cells": [
  {
   "cell_type": "code",
   "execution_count": 22,
   "id": "76f1a509",
   "metadata": {},
   "outputs": [],
   "source": [
    "import pandas as pd\n",
    "from pandas.plotting import scatter_matrix\n",
    "import numpy as np\n",
    "import matplotlib\n",
    "%matplotlib inline\n",
    "import matplotlib.pyplot as plt\n",
    "from sklearn.model_selection import train_test_split, StratifiedKFold, cross_val_score\n",
    "from sklearn.svm import SVC\n",
    "from sklearn.neighbors import KNeighborsClassifier\n",
    "from sklearn.preprocessing import StandardScaler\n",
    "from sklearn.pipeline import Pipeline\n",
    "from sklearn.metrics import accuracy_score\n",
    "from sklearn.metrics import classification_report"
   ]
  },
  {
   "cell_type": "code",
   "execution_count": 23,
   "id": "d976bf4e",
   "metadata": {},
   "outputs": [
    {
     "name": "stderr",
     "output_type": "stream",
     "text": [
      "C:\\Users\\user\\AppData\\Local\\Temp\\ipykernel_17920\\3633785355.py:1: DtypeWarning: Columns (10,13,44,46,274,290,346,390) have mixed types. Specify dtype option on import or set low_memory=False.\n",
      "  data_raw = pd.read_csv('E:\\\\2차 프로젝트 문서\\\\엑셀_한국산업안전보건공단_근로환경조사_20231231\\\\(데이터) 2023년 제7차 근로환경조사.csv', encoding=\"cp949\")\n"
     ]
    },
    {
     "name": "stdout",
     "output_type": "stream",
     "text": [
      "<class 'pandas.core.frame.DataFrame'>\n",
      "RangeIndex: 50195 entries, 0 to 50194\n",
      "Columns: 439 entries, id to hm_08_rel_t\n",
      "dtypes: float64(6), int64(199), object(234)\n",
      "memory usage: 168.1+ MB\n"
     ]
    }
   ],
   "source": [
    "data_raw = pd.read_csv('E:\\\\2차 프로젝트 문서\\\\엑셀_한국산업안전보건공단_근로환경조사_20231231\\\\(데이터) 2023년 제7차 근로환경조사.csv', encoding=\"cp949\")\n",
    "\n",
    "data_raw.info()"
   ]
  },
  {
   "cell_type": "code",
   "execution_count": 24,
   "id": "a96b0bcf",
   "metadata": {},
   "outputs": [
    {
     "data": {
      "text/plain": [
       "count    50195.000000\n",
       "mean        52.324315\n",
       "std         14.643423\n",
       "min         15.000000\n",
       "25%         41.000000\n",
       "50%         54.000000\n",
       "75%         63.000000\n",
       "max        100.000000\n",
       "Name: age, dtype: float64"
      ]
     },
     "execution_count": 24,
     "metadata": {},
     "output_type": "execute_result"
    }
   ],
   "source": [
    "data_raw[\"age\"].describe()"
   ]
  },
  {
   "cell_type": "code",
   "execution_count": 25,
   "id": "abc4a213",
   "metadata": {},
   "outputs": [
    {
     "data": {
      "text/plain": [
       "count     50195\n",
       "unique        8\n",
       "top        5.00\n",
       "freq      24661\n",
       "Name: wday_week, dtype: object"
      ]
     },
     "execution_count": 25,
     "metadata": {},
     "output_type": "execute_result"
    }
   ],
   "source": [
    "data_raw[\"wday_week\"].describe()"
   ]
  },
  {
   "cell_type": "code",
   "execution_count": 26,
   "id": "ec159f72",
   "metadata": {},
   "outputs": [
    {
     "name": "stdout",
     "output_type": "stream",
     "text": [
      "['6.00' '5.00' '7.00' '3.00' '4.00' '#NULL!' '2.00' '1.00']\n"
     ]
    }
   ],
   "source": [
    "# 딥러닝_실전데이터분석(관상동맥(심장)질환) 참고해서 전체 반복문으로 처리하자\n",
    "\n",
    "print(data_raw[\"wday_week\"].unique())\n",
    "\n",
    "# data_raw[\"wday_week\"] = data_raw[\"wday_week\"].astype(\"float64\")"
   ]
  },
  {
   "cell_type": "code",
   "execution_count": 20,
   "id": "d481dacb",
   "metadata": {},
   "outputs": [
    {
     "name": "stdout",
     "output_type": "stream",
     "text": [
      "['50.00' '40.00' '48.00' '60.00' '45.00' '15.00' '24.00' '20.00' '10.00'\n",
      " '8.00' '55.00' '72.00' '52.00' '69.23' '#NULL!' '42.00' '30.00' '66.00'\n",
      " '67.00' '43.00' '56.00' '36.00' '54.00' '9.23' '44.00' '5.00' '46.00'\n",
      " '62.00' '25.00' '70.00' '53.00' '26.00' '35.00' '17.00' '47.00' '49.00'\n",
      " '9.00' '27.00' '14.00' '4.00' '37.00' '65.00' '90.00' '12.00' '58.00'\n",
      " '41.00' '31.00' '6.00' '13.85' '19.00' '46.15' '41.54' '64.00' '38.00'\n",
      " '7.00' '80.00' '18.00' '57.69' '32.00' '55.38' '33.00' '78.00' '1.15'\n",
      " '84.00' '36.92' '82.00' '6.92' '63.00' '22.00' '16.00' '11.00' '83.08'\n",
      " '21.00' '3.69' '39.00' '13.15' '23.00' '2.00' '34.00' '48.46' '8.08'\n",
      " '51.00' '42.46' '75.00' '68.00' '28.00' '85.00' '32.31' '4.62' '3.46'\n",
      " '53.08' '11.08' '77.00' '59.00' '86.00' '74.00' '18.46' '57.00' '40.62'\n",
      " '33.23' '11.54' '2.31' '73.85' '43.85' '50.77' '3.00' '5.08' '39.23'\n",
      " '34.62' '69.00' '81.00' '0.92' '22.15' '27.69' '77.54' '8.31' '38.08'\n",
      " '38.77' '13.00' '39.69' '10.15' '20.77' '14.54' '23.08' '7.38' '16.15'\n",
      " '48.23' '44.31' '78.46' '10.38' '6.23' '47.31' '40.15' '29.00' '52.15'\n",
      " '0.23' '17.31' '12.92' '12.46' '62.31' '64.62' '14.77' '4.85' '76.15'\n",
      " '1.00' '13.38' '51.92' '88.00' '50.31' '24.92' '25.85' '76.00' '5.54'\n",
      " '4.15' '0.69' '5.77' '51.69' '89.00' '58.85' '54.69' '28.85' '40.38'\n",
      " '103.85' '79.00' '25.38' '16.62' '74.31' '70.85' '73.00' '58.15' '24.23']\n"
     ]
    }
   ],
   "source": [
    "print(data_raw[\"wtime_r\"].unique())"
   ]
  },
  {
   "cell_type": "code",
   "execution_count": null,
   "id": "0926c0b1",
   "metadata": {},
   "outputs": [
    {
     "name": "stdout",
     "output_type": "stream",
     "text": [
      "min: 1 max: 99\n"
     ]
    }
   ],
   "source": [
    "# 최대값, 최소값 확인 \n",
    "series_num = pd.to_numeric(data_raw[\"wtime_r\"], errors=\"coerce\")\n",
    "print(\"min:\", series_num.min(), \"max:\", series_num.max())"
   ]
  },
  {
   "cell_type": "code",
   "execution_count": 28,
   "id": "4064a1db",
   "metadata": {},
   "outputs": [
    {
     "name": "stdout",
     "output_type": "stream",
     "text": [
      "[99  6  4  3  5  1  2  8  9 77 88  7]\n"
     ]
    }
   ],
   "source": [
    "print(data_raw[\"earning2_r\"].unique())"
   ]
  }
 ],
 "metadata": {
  "kernelspec": {
   "display_name": "python310",
   "language": "python",
   "name": "python3"
  },
  "language_info": {
   "codemirror_mode": {
    "name": "ipython",
    "version": 3
   },
   "file_extension": ".py",
   "mimetype": "text/x-python",
   "name": "python",
   "nbconvert_exporter": "python",
   "pygments_lexer": "ipython3",
   "version": "3.10.12"
  }
 },
 "nbformat": 4,
 "nbformat_minor": 5
}
