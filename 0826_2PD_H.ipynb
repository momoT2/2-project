{
 "cells": [
  {
   "cell_type": "code",
   "execution_count": 157,
   "id": "2724770c",
   "metadata": {},
   "outputs": [],
   "source": [
    "import pandas as pd\n",
    "from pandas.plotting import scatter_matrix\n",
    "import numpy as np\n",
    "import matplotlib\n",
    "%matplotlib inline\n",
    "import seaborn as sns\n",
    "import missingno as msno\n",
    "import shap\n",
    "import matplotlib.pyplot as plt\n",
    "from sklearn.model_selection import train_test_split, StratifiedKFold, cross_val_score\n",
    "from sklearn.svm import SVC\n",
    "from sklearn.neighbors import KNeighborsClassifier\n",
    "from sklearn.preprocessing import StandardScaler\n",
    "from sklearn.pipeline import Pipeline\n",
    "from sklearn.metrics import accuracy_score\n",
    "from sklearn.metrics import classification_report"
   ]
  },
  {
   "cell_type": "markdown",
   "id": "e594820b",
   "metadata": {},
   "source": [
    "### 결측치 점검"
   ]
  },
  {
   "cell_type": "code",
   "execution_count": 158,
   "id": "e8b0bb19",
   "metadata": {},
   "outputs": [
    {
     "name": "stdout",
     "output_type": "stream",
     "text": [
      "<class 'pandas.core.frame.DataFrame'>\n",
      "RangeIndex: 14956 entries, 0 to 14955\n",
      "Columns: 254 entries, id to hm_01_rel_t\n",
      "dtypes: float64(178), int64(74), object(2)\n",
      "memory usage: 29.0+ MB\n"
     ]
    }
   ],
   "source": [
    "df_raw = pd.read_csv('C:\\\\Users\\\\user\\\\Downloads\\\\0822_H_data.csv')\n",
    "\n",
    "df_raw.info()"
   ]
  },
  {
   "cell_type": "code",
   "execution_count": 159,
   "id": "918f384f",
   "metadata": {},
   "outputs": [],
   "source": [
    "df = df_raw.drop(['emp_keep_a', 'hazard_phy_d','hazard_phy_a','hazard_phy_c','hazard_phy_e','hazard_phy_f','hazard_phy_g','hazard_phy_h', 'hazard_phy_i', 'ch_downsizing', 'job_c1_r', 'job_c1', 'emp_pay_type', 'skillmat', 'emp_comp_com_a','emp_comp_com_b','emp_comp_com_c','ch_ic','ch_restruct','wplace_sl','emp_noncon', 'wcomback'], axis = 1)"
   ]
  },
  {
   "cell_type": "code",
   "execution_count": 160,
   "id": "30bcd0a9",
   "metadata": {},
   "outputs": [
    {
     "name": "stdout",
     "output_type": "stream",
     "text": [
      "                  컬럼명  널값 개수  널값비율\n",
      "0         comp_size_b    870  5.82\n",
      "1        wtime_ftwork    584  3.90\n",
      "2            emp_keep    581  3.88\n",
      "3          emo_manual    307  2.05\n",
      "4    wtime_resilience    279  1.87\n",
      "..                ...    ...   ...\n",
      "150       wsituation7      2  0.01\n",
      "151      wsituation13      1  0.01\n",
      "152            wstat1      1  0.01\n",
      "153         winten2_a      2  0.01\n",
      "154     wtime_length3      2  0.01\n",
      "\n",
      "[155 rows x 3 columns]\n"
     ]
    }
   ],
   "source": [
    "# 널값 개수와 비율 계산\n",
    "null_summary = (\n",
    "    df.isnull().sum()\n",
    "      .to_frame(\"널값 개수\")\n",
    "      .assign(널값비율 = lambda x: (x[\"널값 개수\"] / len(df_raw) * 100).round(2))\n",
    "      .reset_index()\n",
    "      .rename(columns={'index': '컬럼명'})\n",
    ")\n",
    "\n",
    "# 널값 있는 열만 필터링 & 비율 기준 내림차순 정렬\n",
    "null_summary = (\n",
    "    null_summary[null_summary[\"널값 개수\"] > 0]\n",
    "    .sort_values(by=\"널값비율\", ascending=False)\n",
    "    .reset_index(drop=True)\n",
    ")\n",
    "\n",
    "print(null_summary)"
   ]
  },
  {
   "cell_type": "code",
   "execution_count": 161,
   "id": "52a2dcfe",
   "metadata": {},
   "outputs": [],
   "source": [
    "# start 파일\n",
    "# df.to_csv(\"2PD_v1_0822.csv\", encoding=\"CP949\")"
   ]
  },
  {
   "cell_type": "markdown",
   "id": "59642bb3",
   "metadata": {},
   "source": [
    "### 중복 피쳐 삭제/8,9->결측치 수정"
   ]
  },
  {
   "cell_type": "code",
   "execution_count": 162,
   "id": "27794ee2",
   "metadata": {},
   "outputs": [
    {
     "name": "stdout",
     "output_type": "stream",
     "text": [
      "              id burnout60  area  gender  age  wduration_y  earning1  \\\n",
      "0      1000042_1       lv1     1       1   49           10       500   \n",
      "1      1000051_1       lv2     1       1   31            2       300   \n",
      "2      1000056_1       lv1     1       1   32            2       300   \n",
      "3      1000069_1       lv1     1       1   38            2       390   \n",
      "4      1000069_2       lv1     1       2   37            5       330   \n",
      "...          ...       ...   ...     ...  ...          ...       ...   \n",
      "14951  2010124_1       lv1     7       1   37            6       450   \n",
      "14952  2010133_1       lv2     7       2   46            3       230   \n",
      "14953  2010134_2       lv1     7       2   34            5       320   \n",
      "14954  2010137_1       lv1     7       1   57            5       450   \n",
      "14955  2010137_2       lv1     7       2   29            3       350   \n",
      "\n",
      "       earning2_r  wtime_r  woutside4_a  ...  edu  marital  children  \\\n",
      "0               6     40.0            1  ...  5.0      1.0       1.0   \n",
      "1               4     48.0            1  ...  6.0      2.0       2.0   \n",
      "2               4     50.0            1  ...  5.0      2.0       2.0   \n",
      "3               4     40.0            1  ...  6.0      1.0       1.0   \n",
      "4               4     40.0            1  ...  6.0      1.0       2.0   \n",
      "...           ...      ...          ...  ...  ...      ...       ...   \n",
      "14951           5     40.0            1  ...  6.0      2.0       2.0   \n",
      "14952           3     40.0            1  ...  5.0      2.0       2.0   \n",
      "14953           4     40.0            1  ...  6.0      2.0       2.0   \n",
      "14954           5     40.0            1  ...  6.0      1.0       1.0   \n",
      "14955           4     40.0            1  ...  6.0      2.0       2.0   \n",
      "\n",
      "       panel_survey  ind  ind2  occ  occ2  comp_sizea_r  comp_sizeb_r  \n",
      "0                 2    7    46    3   313           4.0             4  \n",
      "1                 2    7    47    3   312          11.0            11  \n",
      "2                 2    9    56    4   441           2.0             2  \n",
      "3                 2    6    42    3   312          10.0            10  \n",
      "4                 2   13    71    2   273           7.0             7  \n",
      "...             ...  ...   ...  ...   ...           ...           ...  \n",
      "14951             2   16    85    2   252           6.0             6  \n",
      "14952             2    8    52    3   313           4.0             4  \n",
      "14953             2   11    64    3   320           4.0             4  \n",
      "14954             2    7    46    5   510           4.0             4  \n",
      "14955             2   10    61    7   772           4.0             4  \n",
      "\n",
      "[14956 rows x 218 columns]\n"
     ]
    }
   ],
   "source": [
    "# 불필요한 피쳐 삭제하기 (14개)\n",
    "df = df.drop(columns=[\"ptime_r\", \"stratification\", \"district\", \"household\", \"target\", \"mode\", \"hh_num\", \"eli_num\", \"hm_01_gender\", \"hm_01_year\", \"hm_01_estat\", \"hm_01_rel_t\",\"wtime_week\", \"earning1_r\"])\n",
    "\n",
    "print(df)"
   ]
  },
  {
   "cell_type": "code",
   "execution_count": 163,
   "id": "ef57aabb",
   "metadata": {},
   "outputs": [
    {
     "name": "stdout",
     "output_type": "stream",
     "text": [
      "[6 2 1 7 5 4 3 <NA>]\n",
      "[1 5 6 3 4 7 2 <NA>]\n",
      "[ 7.  6.  2.  5.  4.  3.  1. nan]\n",
      "[ 7.  2.  5.  4.  6.  3. nan  1.]\n",
      "[ 7.  3.  5.  6.  4.  2.  1. nan]\n"
     ]
    }
   ],
   "source": [
    "# 전처리: 8, 9 NULL (5개)\n",
    "cols = [\"hazard_erg_a\", \"hazard_erg_b\", \"hazard_erg_c\", \"hazard_erg_d\", \"hazard_erg_e\"]\n",
    "\n",
    "df[cols] = df[cols].replace([8, 9], pd.NA)\n",
    "\n",
    "print(df['hazard_erg_a'].unique())\n",
    "print(df['hazard_erg_b'].unique())\n",
    "print(df['hazard_erg_c'].unique())\n",
    "print(df['hazard_erg_d'].unique())\n",
    "print(df['hazard_erg_e'].unique())\n"
   ]
  },
  {
   "cell_type": "code",
   "execution_count": 164,
   "id": "af6c3efc",
   "metadata": {},
   "outputs": [],
   "source": [
    "# 잘못 변경된 변수명 복원\n",
    "df.rename(columns={\n",
    "    \"wsituation\": \"wsituation8\",\n",
    "    \"wsituation.1\": \"wsituation9\",\n",
    "    \"disc\": \"disc9\",\n",
    "    \"disc.1\": \"disc8\"\n",
    "}, inplace=True)"
   ]
  },
  {
   "cell_type": "markdown",
   "id": "5eab22d2",
   "metadata": {},
   "source": [
    "### 긍/부정 변경"
   ]
  },
  {
   "cell_type": "code",
   "execution_count": 165,
   "id": "80e5872c",
   "metadata": {},
   "outputs": [
    {
     "data": {
      "text/plain": [
       "0    2\n",
       "1    2\n",
       "2    2\n",
       "3    3\n",
       "4    5\n",
       "5    5\n",
       "6    5\n",
       "7    5\n",
       "8    5\n",
       "9    5\n",
       "Name: wstat4, dtype: int64"
      ]
     },
     "execution_count": 165,
     "metadata": {},
     "output_type": "execute_result"
    }
   ],
   "source": [
    "df[\"wstat4\"].head(10) "
   ]
  },
  {
   "cell_type": "code",
   "execution_count": 166,
   "id": "6ecf7446",
   "metadata": {},
   "outputs": [
    {
     "data": {
      "text/plain": [
       "0    4\n",
       "1    4\n",
       "2    4\n",
       "3    3\n",
       "4    1\n",
       "5    1\n",
       "6    1\n",
       "7    1\n",
       "8    1\n",
       "9    1\n",
       "Name: wstat4, dtype: int64"
      ]
     },
     "execution_count": 166,
     "metadata": {},
     "output_type": "execute_result"
    }
   ],
   "source": [
    "# 긍/부정 변경\n",
    "# 5점 척도\n",
    "\n",
    "cols = [\n",
    "    \"wstat4\", \"wstat6\",\n",
    "    \"wwa1\", \"wwa2\", \"wwa3\", \"wwa4\", \"wwa5\",\n",
    "    \"sleep1\", \"sleep2\", \"sleep3\",\n",
    "    \"imte1\", \"imte2\", \"imte3\", \"imte4\", \"imte5\",\n",
    "    \"wsituation12\", \"wsituation14\"\n",
    "]\n",
    "\n",
    "# 변환 딕셔너리 (5점 척도 역코딩)\n",
    "reverse_map = {1: 5, 2: 4, 3: 3, 4: 2, 5: 1}\n",
    "\n",
    "# 여러 열에 적용\n",
    "for col in cols:\n",
    "    df[col] = df[col].map(reverse_map).fillna(df[col])\n",
    "\n",
    "df[\"wstat4\"].head(10) "
   ]
  },
  {
   "cell_type": "code",
   "execution_count": 167,
   "id": "d182286f",
   "metadata": {},
   "outputs": [
    {
     "name": "stdout",
     "output_type": "stream",
     "text": [
      "['id', 'burnout60', 'area', 'gender', 'age', 'wduration_y', 'earning1', 'earning2_r', 'wtime_r', 'woutside4_a', 'wtime_length5', 'age_group', 'emp_period_group', 'wtime_group', 'compsize_group', 'woutside_group', 'compsize_group_a', 'wday_week_group_a', 'woutside4_group_a', 'occ_t2_group_a', 'earning2_group_b', 'occ_group_a', 'emp_stat', 'emp_con_term', 'emp_keep', 'emp_own_mgmt', 'emp_fptime', 'emp_wage', 'emp_stat_sp', 'income_pos_a', 'income_pos_b', 'income_pos_c', 'income_pos_d', 'income_pos_e', 'income_pos_f', 'income_pos_g', 'income_pos_h', 'income_pos_i', 'income_pos_j', 'emp_place', 'emp_suggest_a', 'emp_suggest_b', 'emp_boss_gender', 'emp_manaqual_a', 'emp_manaqual_b', 'emp_manaqual_c', 'emp_manaqual_d', 'emp_manaqual_e', 'emp_comp_ass_a', 'emp_comp_ass_b', 'emp_comp_ass_c', 'emp_comp_ass_d', 'emp_comp_ass_e', 'emp_comp_ass_f', 'emp_rep', 'emp_winflu_a', 'emp_winflu_b', 'emp_winflu_c', 'emp_tra_b', 'emp_tra_c', 'emp_tra_d', 'wsector', 'comp_size_a', 'comp_size_b', 'comp_female', 'comp_sjob', 'ch_tech', 'ch_me', 'ch_ps', 'imte1', 'imte2', 'imte3', 'imte4', 'imte5', 'safeinform', 'wsituation1', 'wsituation2', 'wsituation3', 'wsituation4', 'wsituation5', 'wsituation11', 'wsituation6', 'wsituation7', 'wsituation8', 'wsituation9', 'wsituation10', 'wsituation12', 'wsituation13', 'wsituation14', 'wstat1', 'wstat2', 'wstat3', 'wstat4', 'wstat5', 'wstat6', 'wstat7', 'emo_manual', 'asb5', 'asb6', 'asb7', 'disc1', 'disc5', 'disc9', 'disc10', 'disc11', 'disc6', 'disc7', 'disc8', 'disc2', 'disc3', 'disc4', 'wtime_con1', 'wday', 'wday_week', 'ctime', 'wtime_night_a', 'wtime_sun_a', 'wtime_sat_a', 'wtime_long_a', 'wtime_night2', 'wtime_night3', 'wtime_resilience', 'wtime_arr_a', 'wtime_ftwork', 'wtime_ftcomtool', 'wtime_private', 'hazard_phy_b', 'hazard_erg_a', 'hazard_erg_b', 'hazard_erg_c', 'hazard_erg_d', 'hazard_erg_e', 'winten2_a', 'winten2_b', 'winten1_a', 'winten1_b', 'decla_a', 'decla_b', 'decla_c', 'winten3_a', 'winten3_b', 'winten3_c', 'winten3_d', 'winten3_e', 'winterrupt1', 'weng1', 'weng2', 'weng3', 'weng4', 'weng5', 'condim1', 'condim2', 'condim3', 'condim4', 'condim5', 'condim6', 'ass_cust1', 'alter_task1', 'wteam1', 'satisfaction', 'wplace4', 'wplace3', 'wplace2', 'wplace1', 'wpalce_ch', 'wtime_length1', 'wtime_length2', 'wtime_length3', 'wtime_length4', 'job1', 'wtime', 'wbalance', 'wwa1', 'wwa2', 'wwa3', 'wwa4', 'wwa5', 'heal_risk', 'heal_abs1', 'heal_wsick1', 'asb1', 'asb2', 'asb3', 'asb4', 'heal_aff', 'heal_cond', 'heal_illhe', 'heal_lim1', 'heal_prob1', 'heal_prob2', 'heal_prob3', 'heal_prob4', 'heal_prob5', 'heal_prob6', 'heal_prob8', 'sleep1', 'sleep2', 'sleep3', 'who1', 'who2', 'who3', 'who4', 'who5', 'woutside3', 'woutside4', 'woutside5', 'income_con', 'income_bal', 'edu', 'marital', 'children', 'panel_survey', 'ind', 'ind2', 'occ', 'occ2', 'comp_sizea_r', 'comp_sizeb_r']\n",
      "   heal_lim1\n",
      "0        1.0\n",
      "1        1.0\n",
      "2        1.0\n",
      "3        1.0\n",
      "4        1.0\n"
     ]
    },
    {
     "data": {
      "text/plain": [
       "0    1.0\n",
       "1    1.0\n",
       "2    1.0\n",
       "3    1.0\n",
       "4    1.0\n",
       "5    1.0\n",
       "6    1.0\n",
       "7    1.0\n",
       "8    1.0\n",
       "9    1.0\n",
       "Name: heal_lim1, dtype: float64"
      ]
     },
     "execution_count": 167,
     "metadata": {},
     "output_type": "execute_result"
    }
   ],
   "source": [
    "# 3점 척도 \n",
    "cols_2 = [\n",
    "   \"heal_lim1\"\n",
    "]\n",
    "\n",
    "# 변환 딕셔너리 (3점 척도 역코딩)\n",
    "reverse_map = {1: 3, 2: 2, 3: 1}\n",
    "\n",
    "# 여러 열에 적용\n",
    "for col in cols_2:\n",
    "    df[col] = df[col].map(reverse_map).fillna(df[col])\n",
    "\n",
    "\n",
    "#%%\n",
    "print(df.columns.tolist())\n",
    "#%%\n",
    "print(df[cols_2].head())\n",
    "#%%\n",
    "df[\"heal_lim1\"].head(10) \n",
    "#%%\n"
   ]
  },
  {
   "cell_type": "code",
   "execution_count": 168,
   "id": "6e6bc311",
   "metadata": {},
   "outputs": [
    {
     "name": "stdout",
     "output_type": "stream",
     "text": [
      "['id', 'burnout60', 'area', 'gender', 'age', 'wduration_y', 'earning1', 'earning2_r', 'wtime_r', 'woutside4_a', 'wtime_length5', 'age_group', 'emp_period_group', 'wtime_group', 'compsize_group', 'woutside_group', 'compsize_group_a', 'wday_week_group_a', 'woutside4_group_a', 'occ_t2_group_a', 'earning2_group_b', 'occ_group_a', 'emp_stat', 'emp_con_term', 'emp_keep', 'emp_own_mgmt', 'emp_fptime', 'emp_wage', 'emp_stat_sp', 'income_pos_a', 'income_pos_b', 'income_pos_c', 'income_pos_d', 'income_pos_e', 'income_pos_f', 'income_pos_g', 'income_pos_h', 'income_pos_i', 'income_pos_j', 'emp_place', 'emp_suggest_a', 'emp_suggest_b', 'emp_boss_gender', 'emp_manaqual_a', 'emp_manaqual_b', 'emp_manaqual_c', 'emp_manaqual_d', 'emp_manaqual_e', 'emp_comp_ass_a', 'emp_comp_ass_b', 'emp_comp_ass_c', 'emp_comp_ass_d', 'emp_comp_ass_e', 'emp_comp_ass_f', 'emp_rep', 'emp_winflu_a', 'emp_winflu_b', 'emp_winflu_c', 'emp_tra_b', 'emp_tra_c', 'emp_tra_d', 'wsector', 'comp_size_a', 'comp_size_b', 'comp_female', 'comp_sjob', 'ch_tech', 'ch_me', 'ch_ps', 'imte1', 'imte2', 'imte3', 'imte4', 'imte5', 'safeinform', 'wsituation1', 'wsituation2', 'wsituation3', 'wsituation4', 'wsituation5', 'wsituation11', 'wsituation6', 'wsituation7', 'wsituation8', 'wsituation9', 'wsituation10', 'wsituation12', 'wsituation13', 'wsituation14', 'wstat1', 'wstat2', 'wstat3', 'wstat4', 'wstat5', 'wstat6', 'wstat7', 'emo_manual', 'asb5', 'asb6', 'asb7', 'disc1', 'disc5', 'disc9', 'disc10', 'disc11', 'disc6', 'disc7', 'disc8', 'disc2', 'disc3', 'disc4', 'wtime_con1', 'wday', 'wday_week', 'ctime', 'wtime_night_a', 'wtime_sun_a', 'wtime_sat_a', 'wtime_long_a', 'wtime_night2', 'wtime_night3', 'wtime_resilience', 'wtime_arr_a', 'wtime_ftwork', 'wtime_ftcomtool', 'wtime_private', 'hazard_phy_b', 'hazard_erg_a', 'hazard_erg_b', 'hazard_erg_c', 'hazard_erg_d', 'hazard_erg_e', 'winten2_a', 'winten2_b', 'winten1_a', 'winten1_b', 'decla_a', 'decla_b', 'decla_c', 'winten3_a', 'winten3_b', 'winten3_c', 'winten3_d', 'winten3_e', 'winterrupt1', 'weng1', 'weng2', 'weng3', 'weng4', 'weng5', 'condim1', 'condim2', 'condim3', 'condim4', 'condim5', 'condim6', 'ass_cust1', 'alter_task1', 'wteam1', 'satisfaction', 'wplace4', 'wplace3', 'wplace2', 'wplace1', 'wpalce_ch', 'wtime_length1', 'wtime_length2', 'wtime_length3', 'wtime_length4', 'job1', 'wtime', 'wbalance', 'wwa1', 'wwa2', 'wwa3', 'wwa4', 'wwa5', 'heal_risk', 'heal_abs1', 'heal_wsick1', 'asb1', 'asb2', 'asb3', 'asb4', 'heal_aff', 'heal_cond', 'heal_illhe', 'heal_lim1', 'heal_prob1', 'heal_prob2', 'heal_prob3', 'heal_prob4', 'heal_prob5', 'heal_prob6', 'heal_prob8', 'sleep1', 'sleep2', 'sleep3', 'who1', 'who2', 'who3', 'who4', 'who5', 'woutside3', 'woutside4', 'woutside5', 'income_con', 'income_bal', 'edu', 'marital', 'children', 'panel_survey', 'ind', 'ind2', 'occ', 'occ2', 'comp_sizea_r', 'comp_sizeb_r']\n",
      "   imte1  imte2  imte3  imte4  imte5\n",
      "0    1.0    1.0    1.0    5.0    5.0\n",
      "1    1.0    1.0    5.0    5.0    1.0\n",
      "2    1.0    1.0    2.0    2.0    1.0\n",
      "3    3.0    3.0    3.0    2.0    3.0\n",
      "4    2.0    2.0    1.0    3.0    2.0\n"
     ]
    },
    {
     "data": {
      "text/plain": [
       "0    1.0\n",
       "1    1.0\n",
       "2    1.0\n",
       "3    3.0\n",
       "4    2.0\n",
       "5    2.0\n",
       "6    2.0\n",
       "7    1.0\n",
       "8    2.0\n",
       "9    2.0\n",
       "Name: imte1, dtype: float64"
      ]
     },
     "execution_count": 168,
     "metadata": {},
     "output_type": "execute_result"
    }
   ],
   "source": [
    "# 4점 척도\n",
    "cols_1 = [\n",
    "    \"imte1\", \"imte2\", \"imte3\", \"imte4\", \"imte5\",\n",
    "]\n",
    "\n",
    "# 변환 딕셔너리 (4점 척도 역코딩)\n",
    "reverse_map = {1: 4, 2: 3, 3: 2, 4: 1}\n",
    "\n",
    "# 여러 열에 적용\n",
    "for col in cols_1:\n",
    "    df[col] = df[col].map(reverse_map).fillna(df[col])\n",
    "\n",
    "\n",
    "#%%\n",
    "print(df.columns.tolist())\n",
    "#%%\n",
    "print(df[cols_1].head())\n",
    "#%%\n",
    "df[\"imte1\"].head(10) \n",
    "#%%"
   ]
  },
  {
   "cell_type": "markdown",
   "id": "ffc0354e",
   "metadata": {},
   "source": [
    "### 연속형 변수 재범주화"
   ]
  },
  {
   "cell_type": "code",
   "execution_count": 169,
   "id": "a8e184dc",
   "metadata": {},
   "outputs": [
    {
     "data": {
      "text/plain": [
       "heal_abs1\n",
       "0.0      14127\n",
       "2.0        181\n",
       "1.0        127\n",
       "3.0        113\n",
       "5.0         80\n",
       "7.0         65\n",
       "10.0        31\n",
       "8.0         25\n",
       "4.0         24\n",
       "6.0         10\n",
       "15.0         9\n",
       "20.0         6\n",
       "30.0         6\n",
       "14.0         5\n",
       "13.0         5\n",
       "12.0         4\n",
       "90.0         3\n",
       "60.0         2\n",
       "11.0         1\n",
       "180.0        1\n",
       "120.0        1\n",
       "50.0         1\n",
       "21.0         1\n",
       "Name: count, dtype: int64"
      ]
     },
     "execution_count": 169,
     "metadata": {},
     "output_type": "execute_result"
    }
   ],
   "source": [
    "df['heal_abs1'].value_counts()"
   ]
  },
  {
   "cell_type": "code",
   "execution_count": 170,
   "id": "d1471986",
   "metadata": {},
   "outputs": [
    {
     "name": "stdout",
     "output_type": "stream",
     "text": [
      "0    1\n",
      "1    1\n",
      "2    1\n",
      "3    1\n",
      "4    1\n",
      "Name: heal_abs1_group, dtype: int64\n"
     ]
    },
    {
     "data": {
      "text/plain": [
       "heal_abs1_group\n",
       "1    14127\n",
       "2      829\n",
       "Name: count, dtype: int64"
      ]
     },
     "execution_count": 170,
     "metadata": {},
     "output_type": "execute_result"
    }
   ],
   "source": [
    "# 범주화 \n",
    "\n",
    "df[\"heal_abs1_group\"] = np.where(df[\"heal_abs1\"] == 0, 0, 1)\n",
    "df['heal_abs1_group'] = df['heal_abs1_group'].map({0: 1, 1: 2})\n",
    "#%%\n",
    "print(df[\"heal_abs1_group\"].head())\n",
    "#%%\n",
    "df[\"heal_abs1_group\"].value_counts()\n"
   ]
  },
  {
   "cell_type": "code",
   "execution_count": 171,
   "id": "44d81def",
   "metadata": {},
   "outputs": [
    {
     "name": "stdout",
     "output_type": "stream",
     "text": [
      "0      1\n",
      "1      1\n",
      "2      1\n",
      "3      2\n",
      "4    NaN\n",
      "Name: ctime_group, dtype: category\n",
      "Categories (3, int64): [1 < 2 < 3]\n"
     ]
    },
    {
     "data": {
      "text/plain": [
       "ctime_group\n",
       "1    12582\n",
       "2     1150\n",
       "3      328\n",
       "Name: count, dtype: int64"
      ]
     },
     "execution_count": 171,
     "metadata": {},
     "output_type": "execute_result"
    }
   ],
   "source": [
    "# 구간 (0~60, 61~120, 121 이상)\n",
    "bins = [0, 60, 120, float(\"inf\")]\n",
    "labels = [1, 2, 3]\n",
    "\n",
    "df[\"ctime_group\"] = pd.cut(df[\"ctime\"], bins=bins, labels=labels, right=True)\n",
    "#%%\n",
    "print(df[\"ctime_group\"].head())\n",
    "#%%\n",
    "df[\"ctime_group\"].value_counts()\n",
    "#%%"
   ]
  },
  {
   "cell_type": "code",
   "execution_count": 172,
   "id": "7a45e574",
   "metadata": {},
   "outputs": [
    {
     "name": "stdout",
     "output_type": "stream",
     "text": [
      "              id burnout60  area  gender  age  wduration_y  earning1  \\\n",
      "0      1000042_1       lv1     1       1   49           10       500   \n",
      "1      1000051_1       lv2     1       1   31            2       300   \n",
      "2      1000056_1       lv1     1       1   32            2       300   \n",
      "3      1000069_1       lv1     1       1   38            2       390   \n",
      "4      1000069_2       lv1     1       2   37            5       330   \n",
      "...          ...       ...   ...     ...  ...          ...       ...   \n",
      "14951  2010124_1       lv1     7       1   37            6       450   \n",
      "14952  2010133_1       lv2     7       2   46            3       230   \n",
      "14953  2010134_2       lv1     7       2   34            5       320   \n",
      "14954  2010137_1       lv1     7       1   57            5       450   \n",
      "14955  2010137_2       lv1     7       2   29            3       350   \n",
      "\n",
      "       earning2_r  wtime_r  woutside4_a  ...  children  panel_survey  ind  \\\n",
      "0               6     40.0            1  ...       1.0             2    7   \n",
      "1               4     48.0            1  ...       2.0             2    7   \n",
      "2               4     50.0            1  ...       2.0             2    9   \n",
      "3               4     40.0            1  ...       1.0             2    6   \n",
      "4               4     40.0            1  ...       2.0             2   13   \n",
      "...           ...      ...          ...  ...       ...           ...  ...   \n",
      "14951           5     40.0            1  ...       2.0             2   16   \n",
      "14952           3     40.0            1  ...       2.0             2    8   \n",
      "14953           4     40.0            1  ...       2.0             2   11   \n",
      "14954           5     40.0            1  ...       1.0             2    7   \n",
      "14955           4     40.0            1  ...       2.0             2   10   \n",
      "\n",
      "       ind2  occ  occ2  comp_sizea_r  comp_sizeb_r  heal_abs1_group  \\\n",
      "0        46    3   313           4.0             4                1   \n",
      "1        47    3   312          11.0            11                1   \n",
      "2        56    4   441           2.0             2                1   \n",
      "3        42    3   312          10.0            10                1   \n",
      "4        71    2   273           7.0             7                1   \n",
      "...     ...  ...   ...           ...           ...              ...   \n",
      "14951    85    2   252           6.0             6                1   \n",
      "14952    52    3   313           4.0             4                1   \n",
      "14953    64    3   320           4.0             4                1   \n",
      "14954    46    5   510           4.0             4                1   \n",
      "14955    61    7   772           4.0             4                1   \n",
      "\n",
      "       ctime_group  \n",
      "0                1  \n",
      "1                1  \n",
      "2                1  \n",
      "3                2  \n",
      "4              NaN  \n",
      "...            ...  \n",
      "14951            1  \n",
      "14952            1  \n",
      "14953            1  \n",
      "14954            1  \n",
      "14955            2  \n",
      "\n",
      "[14956 rows x 218 columns]\n"
     ]
    }
   ],
   "source": [
    "# 파생변수로 대체된 컬럼 삭제\n",
    "df = df.drop(['heal_abs1','ctime'], axis = 1)\n",
    "print(df)"
   ]
  },
  {
   "cell_type": "markdown",
   "id": "9f4b128e",
   "metadata": {},
   "source": [
    "### 중복 피쳐 삭제"
   ]
  },
  {
   "cell_type": "code",
   "execution_count": 173,
   "id": "906911f1",
   "metadata": {},
   "outputs": [],
   "source": [
    "# 1차 프로젝트에서 파생변수 만들었던 변수 삭제\n",
    "df = df.drop(['occ', 'occ2', 'age', 'earning2_r', 'wday_week', 'woutside4', 'wtime_r', 'wduration_y'], axis = 1)"
   ]
  },
  {
   "cell_type": "markdown",
   "id": "9203cc19",
   "metadata": {},
   "source": [
    "### 상관관계 매트릭스 분석"
   ]
  },
  {
   "cell_type": "code",
   "execution_count": 174,
   "id": "5b5e430a",
   "metadata": {},
   "outputs": [],
   "source": [
    "import seaborn as sns\n",
    "import matplotlib.pyplot as plt\n",
    "\n",
    "corr = df.corr(numeric_only=True)\n",
    "# sns.heatmap(corr, cmap=\"coolwarm\", center=0)\n",
    "# plt.show()"
   ]
  },
  {
   "cell_type": "code",
   "execution_count": 175,
   "id": "ec553c28",
   "metadata": {},
   "outputs": [
    {
     "name": "stdout",
     "output_type": "stream",
     "text": [
      "                    변수1           변수2      상관계수\n",
      "10060       comp_size_b  comp_sizeb_r  1.000000\n",
      "10059       comp_size_b  comp_sizea_r  1.000000\n",
      "15552             disc3         disc4  0.988628\n",
      "20492               ind          ind2  0.985571\n",
      "15452             disc2         disc3  0.984493\n",
      "15453             disc2         disc4  0.982562\n",
      "1780     compsize_group  comp_sizeb_r  0.975227\n",
      "1636     compsize_group   comp_size_b  0.969841\n",
      "15351             disc8         disc2  0.962101\n",
      "15353             disc8         disc4  0.956305\n",
      "15352             disc8         disc3  0.954483\n",
      "15249             disc7         disc8  0.944109\n",
      "15250             disc7         disc2  0.920967\n",
      "20499      comp_sizea_r  comp_sizeb_r  0.920086\n",
      "2165   compsize_group_a  comp_sizeb_r  0.916659\n",
      "15252             disc7         disc4  0.913893\n",
      "15251             disc7         disc3  0.913422\n",
      "1779     compsize_group  comp_sizea_r  0.910546\n",
      "2021   compsize_group_a   comp_size_b  0.893071\n",
      "15146             disc6         disc7  0.886284\n"
     ]
    }
   ],
   "source": [
    "# 상관계수 절댓값이 0.8 이상인 쌍만 추출 (자기 자신 제외)\n",
    "high_corr = (\n",
    "    corr.where(np.triu(np.ones(corr.shape), k=1).astype(bool))  \n",
    "        .stack()                                               \n",
    "        .reset_index()\n",
    "        .rename(columns={'level_0': '변수1', 'level_1': '변수2', 0: '상관계수'})\n",
    ")\n",
    "\n",
    "# 조건 필터링\n",
    "high_corr = high_corr[high_corr['상관계수'].abs() >= 0.8]\n",
    "\n",
    "print(high_corr.sort_values(by='상관계수', ascending=False).head(20))"
   ]
  },
  {
   "cell_type": "code",
   "execution_count": 176,
   "id": "8c0c193f",
   "metadata": {},
   "outputs": [
    {
     "name": "stdout",
     "output_type": "stream",
     "text": [
      "조건 충족하는 변수 개수: 23\n",
      "변수 목록: {'disc2', 'comp_sizea_r', 'compsize_group', 'disc6', 'woutside_group', 'ind', 'earning1', 'earning2_group_b', 'winten2_b', 'comp_size_b', 'disc3', 'disc7', 'decla_b', 'decla_a', 'woutside4_a', 'disc8', 'winten3_c', 'disc4', 'winten2_a', 'winten3_d', 'ind2', 'compsize_group_a', 'comp_sizeb_r'}\n"
     ]
    }
   ],
   "source": [
    "unique_vars = set(high_corr['변수1']).union(set(high_corr['변수2']))\n",
    "print(\"조건 충족하는 변수 개수:\", len(unique_vars))\n",
    "print(\"변수 목록:\", unique_vars)"
   ]
  },
  {
   "cell_type": "code",
   "execution_count": 177,
   "id": "cea9ee15",
   "metadata": {},
   "outputs": [],
   "source": [
    "# 상관분석 결과 필요없는 변수 삭제\n",
    "df = df.drop(['comp_size_b', 'comp_sizea_r', 'comp_sizeb_r', 'ind', 'ind2', 'earning1', 'woutside4_a'], axis = 1)"
   ]
  },
  {
   "cell_type": "code",
   "execution_count": 178,
   "id": "30e2ed25",
   "metadata": {},
   "outputs": [
    {
     "name": "stdout",
     "output_type": "stream",
     "text": [
      "[2 1]\n"
     ]
    }
   ],
   "source": [
    "# disc 변수 : 차별 유/무로 파생변수 생성\n",
    "cols = ['disc1','disc2','disc3','disc4','disc5',\n",
    "        'disc6','disc7','disc8','disc9','disc10','disc11']\n",
    "\n",
    "# 하나라도 1이 있으면 1, 아니면 0\n",
    "df['disc_group'] = (df[cols].sum(axis=1) > 0).astype(int)\n",
    "\n",
    "df['disc_group'] = df['disc_group'].map({0: 1, 1: 2})\n",
    "\n",
    "print(df['disc_group'].unique())"
   ]
  },
  {
   "cell_type": "code",
   "execution_count": 179,
   "id": "db319db9",
   "metadata": {},
   "outputs": [
    {
     "name": "stdout",
     "output_type": "stream",
     "text": [
      "[2 1]\n"
     ]
    }
   ],
   "source": [
    "# decla 변수 : 작업선택의 가능성 유/무로 파생변수 생성\n",
    "cols = ['decla_a','decla_b']\n",
    "\n",
    "# 하나라도 1이 있으면 1, 아니면 0\n",
    "df['decla_group'] = (df[cols].sum(axis=1) > 0).astype(int)\n",
    "\n",
    "df['decla_group'] = df['decla_group'].map({0: 1, 1: 2})\n",
    "\n",
    "print(df['decla_group'].unique())"
   ]
  },
  {
   "cell_type": "code",
   "execution_count": 180,
   "id": "4fa12791",
   "metadata": {},
   "outputs": [
    {
     "name": "stdout",
     "output_type": "stream",
     "text": [
      "[ 5.  6.  7.  1.  4.  3.  2. nan]\n"
     ]
    }
   ],
   "source": [
    "# winten2 변수 : 작업 강도가 세다로 파생변수 생성(7점 척도)\n",
    "cols = ['winten2_a','winten2_b']\n",
    "\n",
    "# 둘 중 하나라도 있으면 최대값\n",
    "df['winten2_group'] = df[cols].max(axis=1, skipna=True)\n",
    "\n",
    "print(df['winten2_group'].unique())"
   ]
  },
  {
   "cell_type": "code",
   "execution_count": 181,
   "id": "226b1ca7",
   "metadata": {},
   "outputs": [
    {
     "name": "stdout",
     "output_type": "stream",
     "text": [
      "[2 1]\n"
     ]
    }
   ],
   "source": [
    "# winten3 변수 : 작업선택의 가능성 유/무로 파생변수 생성\n",
    "cols = ['winten3_c','winten3_d', 'winten3_a', 'winten3_b', 'winten3_e']\n",
    "\n",
    "# 하나라도 1이 있으면 1, 아니면 0\n",
    "df['winten3_group'] = (df[cols].sum(axis=1) > 0).astype(int)\n",
    "\n",
    "df['winten3_group'] = df['winten3_group'].map({0: 1, 1: 2})\n",
    "\n",
    "print(df['winten3_group'].unique())"
   ]
  },
  {
   "cell_type": "code",
   "execution_count": 182,
   "id": "6ecd580f",
   "metadata": {},
   "outputs": [],
   "source": [
    "# 파생변수로 대체된 컬럼 삭제\n",
    "df = df.drop(['disc1','disc2','disc3','disc4','disc5',\n",
    "              'disc6','disc7','disc8','disc9','disc10','disc11','decla_a','decla_b','winten2_a','winten2_b', 'winten3_c','winten3_d', 'winten3_a', 'winten3_b', 'winten3_e'], axis = 1)"
   ]
  },
  {
   "cell_type": "markdown",
   "id": "98c7da79",
   "metadata": {},
   "source": [
    "### 조작적 정의에 사용된 변수 삭제"
   ]
  },
  {
   "cell_type": "code",
   "execution_count": 183,
   "id": "9a0b73e4",
   "metadata": {},
   "outputs": [],
   "source": [
    "df = df.drop(['weng1','weng2','weng3','wsituation14','wwa2','sleep2','sleep3','weng4','weng5','wsituation1','wstat4','wsituation2','wsituation12', 'wsituation10','wsituation9'], axis = 1)"
   ]
  },
  {
   "cell_type": "markdown",
   "id": "feac6cc2",
   "metadata": {},
   "source": [
    "### 널값 삭제"
   ]
  },
  {
   "cell_type": "code",
   "execution_count": 184,
   "id": "f65f56f6",
   "metadata": {},
   "outputs": [
    {
     "name": "stdout",
     "output_type": "stream",
     "text": [
      "<class 'pandas.core.frame.DataFrame'>\n",
      "RangeIndex: 14956 entries, 0 to 14955\n",
      "Columns: 172 entries, id to winten3_group\n",
      "dtypes: category(1), float64(133), int64(34), object(4)\n",
      "memory usage: 19.5+ MB\n"
     ]
    }
   ],
   "source": [
    "df.info()"
   ]
  },
  {
   "cell_type": "code",
   "execution_count": 185,
   "id": "18839dde",
   "metadata": {},
   "outputs": [],
   "source": [
    "df_new = df.dropna()"
   ]
  },
  {
   "cell_type": "code",
   "execution_count": 186,
   "id": "c5d6d46c",
   "metadata": {},
   "outputs": [
    {
     "data": {
      "text/html": [
       "<div>\n",
       "<style scoped>\n",
       "    .dataframe tbody tr th:only-of-type {\n",
       "        vertical-align: middle;\n",
       "    }\n",
       "\n",
       "    .dataframe tbody tr th {\n",
       "        vertical-align: top;\n",
       "    }\n",
       "\n",
       "    .dataframe thead th {\n",
       "        text-align: right;\n",
       "    }\n",
       "</style>\n",
       "<table border=\"1\" class=\"dataframe\">\n",
       "  <thead>\n",
       "    <tr style=\"text-align: right;\">\n",
       "      <th></th>\n",
       "      <th>id</th>\n",
       "      <th>burnout60</th>\n",
       "      <th>area</th>\n",
       "      <th>gender</th>\n",
       "      <th>wtime_length5</th>\n",
       "      <th>age_group</th>\n",
       "      <th>emp_period_group</th>\n",
       "      <th>wtime_group</th>\n",
       "      <th>compsize_group</th>\n",
       "      <th>woutside_group</th>\n",
       "      <th>...</th>\n",
       "      <th>edu</th>\n",
       "      <th>marital</th>\n",
       "      <th>children</th>\n",
       "      <th>panel_survey</th>\n",
       "      <th>heal_abs1_group</th>\n",
       "      <th>ctime_group</th>\n",
       "      <th>disc_group</th>\n",
       "      <th>decla_group</th>\n",
       "      <th>winten2_group</th>\n",
       "      <th>winten3_group</th>\n",
       "    </tr>\n",
       "  </thead>\n",
       "  <tbody>\n",
       "    <tr>\n",
       "      <th>0</th>\n",
       "      <td>1000042_1</td>\n",
       "      <td>lv1</td>\n",
       "      <td>1</td>\n",
       "      <td>1</td>\n",
       "      <td>2</td>\n",
       "      <td>4</td>\n",
       "      <td>5</td>\n",
       "      <td>2</td>\n",
       "      <td>4</td>\n",
       "      <td>0</td>\n",
       "      <td>...</td>\n",
       "      <td>5.0</td>\n",
       "      <td>1.0</td>\n",
       "      <td>1.0</td>\n",
       "      <td>2</td>\n",
       "      <td>1</td>\n",
       "      <td>1</td>\n",
       "      <td>2</td>\n",
       "      <td>2</td>\n",
       "      <td>5.0</td>\n",
       "      <td>2</td>\n",
       "    </tr>\n",
       "    <tr>\n",
       "      <th>1</th>\n",
       "      <td>1000051_1</td>\n",
       "      <td>lv2</td>\n",
       "      <td>1</td>\n",
       "      <td>1</td>\n",
       "      <td>2</td>\n",
       "      <td>3</td>\n",
       "      <td>2</td>\n",
       "      <td>2</td>\n",
       "      <td>11</td>\n",
       "      <td>0</td>\n",
       "      <td>...</td>\n",
       "      <td>6.0</td>\n",
       "      <td>2.0</td>\n",
       "      <td>2.0</td>\n",
       "      <td>2</td>\n",
       "      <td>1</td>\n",
       "      <td>1</td>\n",
       "      <td>2</td>\n",
       "      <td>2</td>\n",
       "      <td>6.0</td>\n",
       "      <td>2</td>\n",
       "    </tr>\n",
       "    <tr>\n",
       "      <th>2</th>\n",
       "      <td>1000056_1</td>\n",
       "      <td>lv1</td>\n",
       "      <td>1</td>\n",
       "      <td>1</td>\n",
       "      <td>2</td>\n",
       "      <td>3</td>\n",
       "      <td>2</td>\n",
       "      <td>2</td>\n",
       "      <td>1</td>\n",
       "      <td>0</td>\n",
       "      <td>...</td>\n",
       "      <td>5.0</td>\n",
       "      <td>2.0</td>\n",
       "      <td>2.0</td>\n",
       "      <td>2</td>\n",
       "      <td>1</td>\n",
       "      <td>1</td>\n",
       "      <td>2</td>\n",
       "      <td>2</td>\n",
       "      <td>5.0</td>\n",
       "      <td>2</td>\n",
       "    </tr>\n",
       "    <tr>\n",
       "      <th>3</th>\n",
       "      <td>1000069_1</td>\n",
       "      <td>lv1</td>\n",
       "      <td>1</td>\n",
       "      <td>1</td>\n",
       "      <td>2</td>\n",
       "      <td>3</td>\n",
       "      <td>2</td>\n",
       "      <td>2</td>\n",
       "      <td>10</td>\n",
       "      <td>0</td>\n",
       "      <td>...</td>\n",
       "      <td>6.0</td>\n",
       "      <td>1.0</td>\n",
       "      <td>1.0</td>\n",
       "      <td>2</td>\n",
       "      <td>1</td>\n",
       "      <td>2</td>\n",
       "      <td>2</td>\n",
       "      <td>2</td>\n",
       "      <td>7.0</td>\n",
       "      <td>2</td>\n",
       "    </tr>\n",
       "    <tr>\n",
       "      <th>5</th>\n",
       "      <td>1000077_1</td>\n",
       "      <td>lv1</td>\n",
       "      <td>1</td>\n",
       "      <td>1</td>\n",
       "      <td>2</td>\n",
       "      <td>3</td>\n",
       "      <td>2</td>\n",
       "      <td>2</td>\n",
       "      <td>10</td>\n",
       "      <td>0</td>\n",
       "      <td>...</td>\n",
       "      <td>6.0</td>\n",
       "      <td>1.0</td>\n",
       "      <td>2.0</td>\n",
       "      <td>2</td>\n",
       "      <td>1</td>\n",
       "      <td>1</td>\n",
       "      <td>2</td>\n",
       "      <td>2</td>\n",
       "      <td>6.0</td>\n",
       "      <td>2</td>\n",
       "    </tr>\n",
       "    <tr>\n",
       "      <th>...</th>\n",
       "      <td>...</td>\n",
       "      <td>...</td>\n",
       "      <td>...</td>\n",
       "      <td>...</td>\n",
       "      <td>...</td>\n",
       "      <td>...</td>\n",
       "      <td>...</td>\n",
       "      <td>...</td>\n",
       "      <td>...</td>\n",
       "      <td>...</td>\n",
       "      <td>...</td>\n",
       "      <td>...</td>\n",
       "      <td>...</td>\n",
       "      <td>...</td>\n",
       "      <td>...</td>\n",
       "      <td>...</td>\n",
       "      <td>...</td>\n",
       "      <td>...</td>\n",
       "      <td>...</td>\n",
       "      <td>...</td>\n",
       "      <td>...</td>\n",
       "    </tr>\n",
       "    <tr>\n",
       "      <th>14949</th>\n",
       "      <td>2009922_1</td>\n",
       "      <td>lv1</td>\n",
       "      <td>13</td>\n",
       "      <td>1</td>\n",
       "      <td>1</td>\n",
       "      <td>3</td>\n",
       "      <td>5</td>\n",
       "      <td>2</td>\n",
       "      <td>12</td>\n",
       "      <td>1</td>\n",
       "      <td>...</td>\n",
       "      <td>6.0</td>\n",
       "      <td>2.0</td>\n",
       "      <td>2.0</td>\n",
       "      <td>2</td>\n",
       "      <td>1</td>\n",
       "      <td>1</td>\n",
       "      <td>2</td>\n",
       "      <td>2</td>\n",
       "      <td>4.0</td>\n",
       "      <td>2</td>\n",
       "    </tr>\n",
       "    <tr>\n",
       "      <th>14952</th>\n",
       "      <td>2010133_1</td>\n",
       "      <td>lv2</td>\n",
       "      <td>7</td>\n",
       "      <td>2</td>\n",
       "      <td>2</td>\n",
       "      <td>4</td>\n",
       "      <td>3</td>\n",
       "      <td>2</td>\n",
       "      <td>4</td>\n",
       "      <td>0</td>\n",
       "      <td>...</td>\n",
       "      <td>5.0</td>\n",
       "      <td>2.0</td>\n",
       "      <td>2.0</td>\n",
       "      <td>2</td>\n",
       "      <td>1</td>\n",
       "      <td>1</td>\n",
       "      <td>2</td>\n",
       "      <td>2</td>\n",
       "      <td>4.0</td>\n",
       "      <td>2</td>\n",
       "    </tr>\n",
       "    <tr>\n",
       "      <th>14953</th>\n",
       "      <td>2010134_2</td>\n",
       "      <td>lv1</td>\n",
       "      <td>7</td>\n",
       "      <td>2</td>\n",
       "      <td>2</td>\n",
       "      <td>3</td>\n",
       "      <td>4</td>\n",
       "      <td>2</td>\n",
       "      <td>4</td>\n",
       "      <td>0</td>\n",
       "      <td>...</td>\n",
       "      <td>6.0</td>\n",
       "      <td>2.0</td>\n",
       "      <td>2.0</td>\n",
       "      <td>2</td>\n",
       "      <td>1</td>\n",
       "      <td>1</td>\n",
       "      <td>2</td>\n",
       "      <td>2</td>\n",
       "      <td>5.0</td>\n",
       "      <td>2</td>\n",
       "    </tr>\n",
       "    <tr>\n",
       "      <th>14954</th>\n",
       "      <td>2010137_1</td>\n",
       "      <td>lv1</td>\n",
       "      <td>7</td>\n",
       "      <td>1</td>\n",
       "      <td>2</td>\n",
       "      <td>5</td>\n",
       "      <td>4</td>\n",
       "      <td>2</td>\n",
       "      <td>4</td>\n",
       "      <td>0</td>\n",
       "      <td>...</td>\n",
       "      <td>6.0</td>\n",
       "      <td>1.0</td>\n",
       "      <td>1.0</td>\n",
       "      <td>2</td>\n",
       "      <td>1</td>\n",
       "      <td>1</td>\n",
       "      <td>2</td>\n",
       "      <td>2</td>\n",
       "      <td>5.0</td>\n",
       "      <td>2</td>\n",
       "    </tr>\n",
       "    <tr>\n",
       "      <th>14955</th>\n",
       "      <td>2010137_2</td>\n",
       "      <td>lv1</td>\n",
       "      <td>7</td>\n",
       "      <td>2</td>\n",
       "      <td>2</td>\n",
       "      <td>2</td>\n",
       "      <td>3</td>\n",
       "      <td>2</td>\n",
       "      <td>4</td>\n",
       "      <td>0</td>\n",
       "      <td>...</td>\n",
       "      <td>6.0</td>\n",
       "      <td>2.0</td>\n",
       "      <td>2.0</td>\n",
       "      <td>2</td>\n",
       "      <td>1</td>\n",
       "      <td>2</td>\n",
       "      <td>2</td>\n",
       "      <td>2</td>\n",
       "      <td>5.0</td>\n",
       "      <td>2</td>\n",
       "    </tr>\n",
       "  </tbody>\n",
       "</table>\n",
       "<p>11243 rows × 172 columns</p>\n",
       "</div>"
      ],
      "text/plain": [
       "              id burnout60  area  gender  wtime_length5  age_group  \\\n",
       "0      1000042_1       lv1     1       1              2          4   \n",
       "1      1000051_1       lv2     1       1              2          3   \n",
       "2      1000056_1       lv1     1       1              2          3   \n",
       "3      1000069_1       lv1     1       1              2          3   \n",
       "5      1000077_1       lv1     1       1              2          3   \n",
       "...          ...       ...   ...     ...            ...        ...   \n",
       "14949  2009922_1       lv1    13       1              1          3   \n",
       "14952  2010133_1       lv2     7       2              2          4   \n",
       "14953  2010134_2       lv1     7       2              2          3   \n",
       "14954  2010137_1       lv1     7       1              2          5   \n",
       "14955  2010137_2       lv1     7       2              2          2   \n",
       "\n",
       "       emp_period_group  wtime_group  compsize_group  woutside_group  ...  \\\n",
       "0                     5            2               4               0  ...   \n",
       "1                     2            2              11               0  ...   \n",
       "2                     2            2               1               0  ...   \n",
       "3                     2            2              10               0  ...   \n",
       "5                     2            2              10               0  ...   \n",
       "...                 ...          ...             ...             ...  ...   \n",
       "14949                 5            2              12               1  ...   \n",
       "14952                 3            2               4               0  ...   \n",
       "14953                 4            2               4               0  ...   \n",
       "14954                 4            2               4               0  ...   \n",
       "14955                 3            2               4               0  ...   \n",
       "\n",
       "       edu  marital  children  panel_survey  heal_abs1_group  ctime_group  \\\n",
       "0      5.0      1.0       1.0             2                1            1   \n",
       "1      6.0      2.0       2.0             2                1            1   \n",
       "2      5.0      2.0       2.0             2                1            1   \n",
       "3      6.0      1.0       1.0             2                1            2   \n",
       "5      6.0      1.0       2.0             2                1            1   \n",
       "...    ...      ...       ...           ...              ...          ...   \n",
       "14949  6.0      2.0       2.0             2                1            1   \n",
       "14952  5.0      2.0       2.0             2                1            1   \n",
       "14953  6.0      2.0       2.0             2                1            1   \n",
       "14954  6.0      1.0       1.0             2                1            1   \n",
       "14955  6.0      2.0       2.0             2                1            2   \n",
       "\n",
       "       disc_group  decla_group  winten2_group  winten3_group  \n",
       "0               2            2            5.0              2  \n",
       "1               2            2            6.0              2  \n",
       "2               2            2            5.0              2  \n",
       "3               2            2            7.0              2  \n",
       "5               2            2            6.0              2  \n",
       "...           ...          ...            ...            ...  \n",
       "14949           2            2            4.0              2  \n",
       "14952           2            2            4.0              2  \n",
       "14953           2            2            5.0              2  \n",
       "14954           2            2            5.0              2  \n",
       "14955           2            2            5.0              2  \n",
       "\n",
       "[11243 rows x 172 columns]"
      ]
     },
     "execution_count": 186,
     "metadata": {},
     "output_type": "execute_result"
    }
   ],
   "source": [
    "df_new"
   ]
  },
  {
   "cell_type": "markdown",
   "id": "06bdcb52",
   "metadata": {},
   "source": [
    "### AutoML"
   ]
  },
  {
   "cell_type": "code",
   "execution_count": 187,
   "id": "c4043cf3",
   "metadata": {},
   "outputs": [
    {
     "data": {
      "text/plain": [
       "array(['lv1', 'lv2', 'lv3'], dtype=object)"
      ]
     },
     "execution_count": 187,
     "metadata": {},
     "output_type": "execute_result"
    }
   ],
   "source": [
    "df_new['burnout60'].unique()"
   ]
  },
  {
   "cell_type": "code",
   "execution_count": 188,
   "id": "5724f1e1",
   "metadata": {},
   "outputs": [
    {
     "data": {
      "text/plain": [
       "array([1, 2, 3], dtype=int64)"
      ]
     },
     "execution_count": 188,
     "metadata": {},
     "output_type": "execute_result"
    }
   ],
   "source": [
    "# 타겟 클래스번호 전처리\n",
    "df_new['burnout60'] = df_new['burnout60'].replace(\"lv1\", 1)\n",
    "df_new['burnout60'] = df_new['burnout60'].replace(\"lv2\", 2)\n",
    "df_new['burnout60'] = df_new['burnout60'].replace(\"lv3\", 3)\n",
    "df_new['burnout60'].unique()"
   ]
  },
  {
   "cell_type": "code",
   "execution_count": 189,
   "id": "385ad3b6",
   "metadata": {},
   "outputs": [
    {
     "name": "stdout",
     "output_type": "stream",
     "text": [
      "0        1\n",
      "1        2\n",
      "2        1\n",
      "3        1\n",
      "5        1\n",
      "        ..\n",
      "14949    1\n",
      "14952    2\n",
      "14953    1\n",
      "14954    1\n",
      "14955    1\n",
      "Name: burnout60, Length: 11243, dtype: category\n",
      "Categories (3, int64): [1, 2, 3]\n"
     ]
    }
   ],
   "source": [
    "df_new['burnout60'] = df_new['burnout60'].astype('category')\n",
    "print(df_new[\"burnout60\"])"
   ]
  },
  {
   "cell_type": "code",
   "execution_count": 190,
   "id": "5763ed07",
   "metadata": {},
   "outputs": [],
   "source": [
    "# categories.values"
   ]
  },
  {
   "cell_type": "code",
   "execution_count": 191,
   "id": "7f2913fa",
   "metadata": {},
   "outputs": [],
   "source": [
    "categories = df_new.drop(columns=['id', 'burnout60']).columns"
   ]
  },
  {
   "cell_type": "code",
   "execution_count": 192,
   "id": "46d25c6e",
   "metadata": {},
   "outputs": [],
   "source": [
    "categories = categories.tolist()"
   ]
  },
  {
   "cell_type": "code",
   "execution_count": 193,
   "id": "818bfb7e",
   "metadata": {},
   "outputs": [
    {
     "data": {
      "text/html": [
       "<style type=\"text/css\">\n",
       "#T_3b7fc_row9_col1 {\n",
       "  background-color: lightgreen;\n",
       "}\n",
       "</style>\n",
       "<table id=\"T_3b7fc\">\n",
       "  <thead>\n",
       "    <tr>\n",
       "      <th class=\"blank level0\" >&nbsp;</th>\n",
       "      <th id=\"T_3b7fc_level0_col0\" class=\"col_heading level0 col0\" >Description</th>\n",
       "      <th id=\"T_3b7fc_level0_col1\" class=\"col_heading level0 col1\" >Value</th>\n",
       "    </tr>\n",
       "  </thead>\n",
       "  <tbody>\n",
       "    <tr>\n",
       "      <th id=\"T_3b7fc_level0_row0\" class=\"row_heading level0 row0\" >0</th>\n",
       "      <td id=\"T_3b7fc_row0_col0\" class=\"data row0 col0\" >Session id</td>\n",
       "      <td id=\"T_3b7fc_row0_col1\" class=\"data row0 col1\" >1234</td>\n",
       "    </tr>\n",
       "    <tr>\n",
       "      <th id=\"T_3b7fc_level0_row1\" class=\"row_heading level0 row1\" >1</th>\n",
       "      <td id=\"T_3b7fc_row1_col0\" class=\"data row1 col0\" >Target</td>\n",
       "      <td id=\"T_3b7fc_row1_col1\" class=\"data row1 col1\" >burnout60</td>\n",
       "    </tr>\n",
       "    <tr>\n",
       "      <th id=\"T_3b7fc_level0_row2\" class=\"row_heading level0 row2\" >2</th>\n",
       "      <td id=\"T_3b7fc_row2_col0\" class=\"data row2 col0\" >Target type</td>\n",
       "      <td id=\"T_3b7fc_row2_col1\" class=\"data row2 col1\" >Multiclass</td>\n",
       "    </tr>\n",
       "    <tr>\n",
       "      <th id=\"T_3b7fc_level0_row3\" class=\"row_heading level0 row3\" >3</th>\n",
       "      <td id=\"T_3b7fc_row3_col0\" class=\"data row3 col0\" >Target mapping</td>\n",
       "      <td id=\"T_3b7fc_row3_col1\" class=\"data row3 col1\" >1: 0, 2: 1, 3: 2</td>\n",
       "    </tr>\n",
       "    <tr>\n",
       "      <th id=\"T_3b7fc_level0_row4\" class=\"row_heading level0 row4\" >4</th>\n",
       "      <td id=\"T_3b7fc_row4_col0\" class=\"data row4 col0\" >Original data shape</td>\n",
       "      <td id=\"T_3b7fc_row4_col1\" class=\"data row4 col1\" >(11243, 172)</td>\n",
       "    </tr>\n",
       "    <tr>\n",
       "      <th id=\"T_3b7fc_level0_row5\" class=\"row_heading level0 row5\" >5</th>\n",
       "      <td id=\"T_3b7fc_row5_col0\" class=\"data row5 col0\" >Transformed data shape</td>\n",
       "      <td id=\"T_3b7fc_row5_col1\" class=\"data row5 col1\" >(11243, 554)</td>\n",
       "    </tr>\n",
       "    <tr>\n",
       "      <th id=\"T_3b7fc_level0_row6\" class=\"row_heading level0 row6\" >6</th>\n",
       "      <td id=\"T_3b7fc_row6_col0\" class=\"data row6 col0\" >Transformed train set shape</td>\n",
       "      <td id=\"T_3b7fc_row6_col1\" class=\"data row6 col1\" >(8994, 554)</td>\n",
       "    </tr>\n",
       "    <tr>\n",
       "      <th id=\"T_3b7fc_level0_row7\" class=\"row_heading level0 row7\" >7</th>\n",
       "      <td id=\"T_3b7fc_row7_col0\" class=\"data row7 col0\" >Transformed test set shape</td>\n",
       "      <td id=\"T_3b7fc_row7_col1\" class=\"data row7 col1\" >(2249, 554)</td>\n",
       "    </tr>\n",
       "    <tr>\n",
       "      <th id=\"T_3b7fc_level0_row8\" class=\"row_heading level0 row8\" >8</th>\n",
       "      <td id=\"T_3b7fc_row8_col0\" class=\"data row8 col0\" >Categorical features</td>\n",
       "      <td id=\"T_3b7fc_row8_col1\" class=\"data row8 col1\" >170</td>\n",
       "    </tr>\n",
       "    <tr>\n",
       "      <th id=\"T_3b7fc_level0_row9\" class=\"row_heading level0 row9\" >9</th>\n",
       "      <td id=\"T_3b7fc_row9_col0\" class=\"data row9 col0\" >Preprocess</td>\n",
       "      <td id=\"T_3b7fc_row9_col1\" class=\"data row9 col1\" >True</td>\n",
       "    </tr>\n",
       "    <tr>\n",
       "      <th id=\"T_3b7fc_level0_row10\" class=\"row_heading level0 row10\" >10</th>\n",
       "      <td id=\"T_3b7fc_row10_col0\" class=\"data row10 col0\" >Imputation type</td>\n",
       "      <td id=\"T_3b7fc_row10_col1\" class=\"data row10 col1\" >simple</td>\n",
       "    </tr>\n",
       "    <tr>\n",
       "      <th id=\"T_3b7fc_level0_row11\" class=\"row_heading level0 row11\" >11</th>\n",
       "      <td id=\"T_3b7fc_row11_col0\" class=\"data row11 col0\" >Numeric imputation</td>\n",
       "      <td id=\"T_3b7fc_row11_col1\" class=\"data row11 col1\" >mean</td>\n",
       "    </tr>\n",
       "    <tr>\n",
       "      <th id=\"T_3b7fc_level0_row12\" class=\"row_heading level0 row12\" >12</th>\n",
       "      <td id=\"T_3b7fc_row12_col0\" class=\"data row12 col0\" >Categorical imputation</td>\n",
       "      <td id=\"T_3b7fc_row12_col1\" class=\"data row12 col1\" >mode</td>\n",
       "    </tr>\n",
       "    <tr>\n",
       "      <th id=\"T_3b7fc_level0_row13\" class=\"row_heading level0 row13\" >13</th>\n",
       "      <td id=\"T_3b7fc_row13_col0\" class=\"data row13 col0\" >Maximum one-hot encoding</td>\n",
       "      <td id=\"T_3b7fc_row13_col1\" class=\"data row13 col1\" >25</td>\n",
       "    </tr>\n",
       "    <tr>\n",
       "      <th id=\"T_3b7fc_level0_row14\" class=\"row_heading level0 row14\" >14</th>\n",
       "      <td id=\"T_3b7fc_row14_col0\" class=\"data row14 col0\" >Encoding method</td>\n",
       "      <td id=\"T_3b7fc_row14_col1\" class=\"data row14 col1\" >None</td>\n",
       "    </tr>\n",
       "    <tr>\n",
       "      <th id=\"T_3b7fc_level0_row15\" class=\"row_heading level0 row15\" >15</th>\n",
       "      <td id=\"T_3b7fc_row15_col0\" class=\"data row15 col0\" >Fold Generator</td>\n",
       "      <td id=\"T_3b7fc_row15_col1\" class=\"data row15 col1\" >StratifiedKFold</td>\n",
       "    </tr>\n",
       "    <tr>\n",
       "      <th id=\"T_3b7fc_level0_row16\" class=\"row_heading level0 row16\" >16</th>\n",
       "      <td id=\"T_3b7fc_row16_col0\" class=\"data row16 col0\" >Fold Number</td>\n",
       "      <td id=\"T_3b7fc_row16_col1\" class=\"data row16 col1\" >5</td>\n",
       "    </tr>\n",
       "    <tr>\n",
       "      <th id=\"T_3b7fc_level0_row17\" class=\"row_heading level0 row17\" >17</th>\n",
       "      <td id=\"T_3b7fc_row17_col0\" class=\"data row17 col0\" >CPU Jobs</td>\n",
       "      <td id=\"T_3b7fc_row17_col1\" class=\"data row17 col1\" >-1</td>\n",
       "    </tr>\n",
       "    <tr>\n",
       "      <th id=\"T_3b7fc_level0_row18\" class=\"row_heading level0 row18\" >18</th>\n",
       "      <td id=\"T_3b7fc_row18_col0\" class=\"data row18 col0\" >Use GPU</td>\n",
       "      <td id=\"T_3b7fc_row18_col1\" class=\"data row18 col1\" >False</td>\n",
       "    </tr>\n",
       "    <tr>\n",
       "      <th id=\"T_3b7fc_level0_row19\" class=\"row_heading level0 row19\" >19</th>\n",
       "      <td id=\"T_3b7fc_row19_col0\" class=\"data row19 col0\" >Log Experiment</td>\n",
       "      <td id=\"T_3b7fc_row19_col1\" class=\"data row19 col1\" >False</td>\n",
       "    </tr>\n",
       "    <tr>\n",
       "      <th id=\"T_3b7fc_level0_row20\" class=\"row_heading level0 row20\" >20</th>\n",
       "      <td id=\"T_3b7fc_row20_col0\" class=\"data row20 col0\" >Experiment Name</td>\n",
       "      <td id=\"T_3b7fc_row20_col1\" class=\"data row20 col1\" >clf-default-name</td>\n",
       "    </tr>\n",
       "    <tr>\n",
       "      <th id=\"T_3b7fc_level0_row21\" class=\"row_heading level0 row21\" >21</th>\n",
       "      <td id=\"T_3b7fc_row21_col0\" class=\"data row21 col0\" >USI</td>\n",
       "      <td id=\"T_3b7fc_row21_col1\" class=\"data row21 col1\" >b805</td>\n",
       "    </tr>\n",
       "  </tbody>\n",
       "</table>\n"
      ],
      "text/plain": [
       "<pandas.io.formats.style.Styler at 0x186814db340>"
      ]
     },
     "metadata": {},
     "output_type": "display_data"
    }
   ],
   "source": [
    "from pycaret.classification import *\n",
    "from sklearn.preprocessing import *\n",
    "# import imblearn\n",
    "setup_clf = setup(df_new, target = 'burnout60',\n",
    "                  train_size = 0.8,\n",
    "                  # ignore_features = ['pclass', 'adult_male', 'deck', 'embark_town', 'alive'],\n",
    "                  # numeric_features = [],\n",
    "                  categorical_features = categories,\n",
    "                  # encoding_method = None,\n",
    "                #   normalize = True,\n",
    "                #   normalize_method = 'zscore',\n",
    "                  # remove_outliers = True,\n",
    "                #   feature_selection = True,\n",
    "                  # feature_selection_method = 'classic',\n",
    "                  # fix_imbalance = True,\n",
    "                  # fix_imbalance_method = 'SMOTE',\n",
    "                  fold=5,\n",
    "                  n_jobs = - 1,\n",
    "                  session_id = 1234)"
   ]
  },
  {
   "cell_type": "code",
   "execution_count": 194,
   "id": "20e36947",
   "metadata": {},
   "outputs": [
    {
     "name": "stdout",
     "output_type": "stream",
     "text": [
      "              id  area_15.0  area_9.0  area_1.0  area_2.0  area_5.0  \\\n",
      "13039  1263166_1        1.0       0.0       0.0       0.0       0.0   \n",
      "8216   1146807_1        0.0       1.0       0.0       0.0       0.0   \n",
      "1529   1025402_2        0.0       0.0       1.0       0.0       0.0   \n",
      "1971   1034083_1        0.0       0.0       1.0       0.0       0.0   \n",
      "2748   1046201_1        0.0       0.0       0.0       1.0       0.0   \n",
      "...          ...        ...       ...       ...       ...       ...   \n",
      "12863  1254489_1        0.0       0.0       0.0       0.0       0.0   \n",
      "6917   1125201_1        0.0       0.0       0.0       0.0       0.0   \n",
      "5985   1103941_1        0.0       0.0       0.0       0.0       1.0   \n",
      "12451  1243720_1        0.0       0.0       0.0       0.0       0.0   \n",
      "10791  1192682_1        0.0       0.0       0.0       0.0       0.0   \n",
      "\n",
      "       area_10.0  area_12.0  area_3.0  area_17.0  ...  disc_group  \\\n",
      "13039        0.0        0.0       0.0        0.0  ...         1.0   \n",
      "8216         0.0        0.0       0.0        0.0  ...         1.0   \n",
      "1529         0.0        0.0       0.0        0.0  ...         1.0   \n",
      "1971         0.0        0.0       0.0        0.0  ...         1.0   \n",
      "2748         0.0        0.0       0.0        0.0  ...         1.0   \n",
      "...          ...        ...       ...        ...  ...         ...   \n",
      "12863        0.0        0.0       0.0        0.0  ...         1.0   \n",
      "6917         0.0        0.0       0.0        0.0  ...         1.0   \n",
      "5985         0.0        0.0       0.0        0.0  ...         1.0   \n",
      "12451        0.0        0.0       0.0        0.0  ...         1.0   \n",
      "10791        1.0        0.0       0.0        0.0  ...         1.0   \n",
      "\n",
      "       decla_group_2.0  winten2_group_6.0  winten2_group_4.0  \\\n",
      "13039              1.0                1.0                0.0   \n",
      "8216               1.0                1.0                0.0   \n",
      "1529               1.0                0.0                1.0   \n",
      "1971               1.0                0.0                0.0   \n",
      "2748               1.0                0.0                0.0   \n",
      "...                ...                ...                ...   \n",
      "12863              1.0                1.0                0.0   \n",
      "6917               1.0                0.0                0.0   \n",
      "5985               1.0                0.0                0.0   \n",
      "12451              1.0                1.0                0.0   \n",
      "10791              1.0                0.0                0.0   \n",
      "\n",
      "       winten2_group_3.0  winten2_group_2.0  winten2_group_5.0  \\\n",
      "13039                0.0                0.0                0.0   \n",
      "8216                 0.0                0.0                0.0   \n",
      "1529                 0.0                0.0                0.0   \n",
      "1971                 1.0                0.0                0.0   \n",
      "2748                 0.0                1.0                0.0   \n",
      "...                  ...                ...                ...   \n",
      "12863                0.0                0.0                0.0   \n",
      "6917                 0.0                0.0                0.0   \n",
      "5985                 1.0                0.0                0.0   \n",
      "12451                0.0                0.0                0.0   \n",
      "10791                0.0                0.0                0.0   \n",
      "\n",
      "       winten2_group_7.0  winten2_group_1.0  winten3_group_2.0  \n",
      "13039                0.0                0.0                1.0  \n",
      "8216                 0.0                0.0                1.0  \n",
      "1529                 0.0                0.0                1.0  \n",
      "1971                 0.0                0.0                1.0  \n",
      "2748                 0.0                0.0                1.0  \n",
      "...                  ...                ...                ...  \n",
      "12863                0.0                0.0                1.0  \n",
      "6917                 1.0                0.0                1.0  \n",
      "5985                 0.0                0.0                1.0  \n",
      "12451                0.0                0.0                1.0  \n",
      "10791                1.0                0.0                1.0  \n",
      "\n",
      "[8994 rows x 553 columns]\n"
     ]
    }
   ],
   "source": [
    "X_train_transformed = get_config('X_train_transformed')\n",
    "print(X_train_transformed)"
   ]
  },
  {
   "cell_type": "code",
   "execution_count": 195,
   "id": "927b87ae",
   "metadata": {},
   "outputs": [
    {
     "data": {
      "text/html": [],
      "text/plain": [
       "<IPython.core.display.HTML object>"
      ]
     },
     "metadata": {},
     "output_type": "display_data"
    },
    {
     "data": {
      "text/html": [
       "<style type=\"text/css\">\n",
       "#T_5d253 th {\n",
       "  text-align: left;\n",
       "}\n",
       "#T_5d253_row0_col0, #T_5d253_row0_col1, #T_5d253_row0_col3, #T_5d253_row1_col0, #T_5d253_row1_col1, #T_5d253_row1_col2, #T_5d253_row1_col3, #T_5d253_row1_col4, #T_5d253_row1_col5, #T_5d253_row1_col6, #T_5d253_row1_col7, #T_5d253_row2_col0, #T_5d253_row2_col1, #T_5d253_row2_col2, #T_5d253_row2_col3, #T_5d253_row2_col4, #T_5d253_row2_col5, #T_5d253_row2_col6, #T_5d253_row2_col7, #T_5d253_row3_col0, #T_5d253_row3_col1, #T_5d253_row3_col2, #T_5d253_row3_col3, #T_5d253_row3_col4, #T_5d253_row3_col5, #T_5d253_row3_col6, #T_5d253_row3_col7, #T_5d253_row4_col0, #T_5d253_row4_col1, #T_5d253_row4_col2, #T_5d253_row4_col3, #T_5d253_row4_col4, #T_5d253_row4_col5, #T_5d253_row4_col6, #T_5d253_row4_col7, #T_5d253_row5_col0, #T_5d253_row5_col1, #T_5d253_row5_col2, #T_5d253_row5_col3, #T_5d253_row5_col4, #T_5d253_row5_col5, #T_5d253_row5_col6, #T_5d253_row5_col7, #T_5d253_row6_col0, #T_5d253_row6_col1, #T_5d253_row6_col2, #T_5d253_row6_col3, #T_5d253_row6_col4, #T_5d253_row6_col5, #T_5d253_row6_col6, #T_5d253_row6_col7, #T_5d253_row7_col0, #T_5d253_row7_col2, #T_5d253_row7_col4, #T_5d253_row7_col5, #T_5d253_row7_col6, #T_5d253_row7_col7 {\n",
       "  text-align: left;\n",
       "}\n",
       "#T_5d253_row0_col2, #T_5d253_row0_col4, #T_5d253_row0_col5, #T_5d253_row0_col6, #T_5d253_row0_col7, #T_5d253_row7_col1, #T_5d253_row7_col3 {\n",
       "  text-align: left;\n",
       "  background-color: yellow;\n",
       "}\n",
       "#T_5d253_row0_col8, #T_5d253_row1_col8, #T_5d253_row2_col8, #T_5d253_row3_col8, #T_5d253_row4_col8, #T_5d253_row6_col8, #T_5d253_row7_col8 {\n",
       "  text-align: left;\n",
       "  background-color: lightgrey;\n",
       "}\n",
       "#T_5d253_row5_col8 {\n",
       "  text-align: left;\n",
       "  background-color: yellow;\n",
       "  background-color: lightgrey;\n",
       "}\n",
       "</style>\n",
       "<table id=\"T_5d253\">\n",
       "  <thead>\n",
       "    <tr>\n",
       "      <th class=\"blank level0\" >&nbsp;</th>\n",
       "      <th id=\"T_5d253_level0_col0\" class=\"col_heading level0 col0\" >Model</th>\n",
       "      <th id=\"T_5d253_level0_col1\" class=\"col_heading level0 col1\" >Accuracy</th>\n",
       "      <th id=\"T_5d253_level0_col2\" class=\"col_heading level0 col2\" >AUC</th>\n",
       "      <th id=\"T_5d253_level0_col3\" class=\"col_heading level0 col3\" >Recall</th>\n",
       "      <th id=\"T_5d253_level0_col4\" class=\"col_heading level0 col4\" >Prec.</th>\n",
       "      <th id=\"T_5d253_level0_col5\" class=\"col_heading level0 col5\" >F1</th>\n",
       "      <th id=\"T_5d253_level0_col6\" class=\"col_heading level0 col6\" >Kappa</th>\n",
       "      <th id=\"T_5d253_level0_col7\" class=\"col_heading level0 col7\" >MCC</th>\n",
       "      <th id=\"T_5d253_level0_col8\" class=\"col_heading level0 col8\" >TT (Sec)</th>\n",
       "    </tr>\n",
       "  </thead>\n",
       "  <tbody>\n",
       "    <tr>\n",
       "      <th id=\"T_5d253_level0_row0\" class=\"row_heading level0 row0\" >lightgbm</th>\n",
       "      <td id=\"T_5d253_row0_col0\" class=\"data row0 col0\" >Light Gradient Boosting Machine</td>\n",
       "      <td id=\"T_5d253_row0_col1\" class=\"data row0 col1\" >0.8765</td>\n",
       "      <td id=\"T_5d253_row0_col2\" class=\"data row0 col2\" >0.8756</td>\n",
       "      <td id=\"T_5d253_row0_col3\" class=\"data row0 col3\" >0.8765</td>\n",
       "      <td id=\"T_5d253_row0_col4\" class=\"data row0 col4\" >0.8526</td>\n",
       "      <td id=\"T_5d253_row0_col5\" class=\"data row0 col5\" >0.8551</td>\n",
       "      <td id=\"T_5d253_row0_col6\" class=\"data row0 col6\" >0.3722</td>\n",
       "      <td id=\"T_5d253_row0_col7\" class=\"data row0 col7\" >0.4011</td>\n",
       "      <td id=\"T_5d253_row0_col8\" class=\"data row0 col8\" >1.3060</td>\n",
       "    </tr>\n",
       "    <tr>\n",
       "      <th id=\"T_5d253_level0_row1\" class=\"row_heading level0 row1\" >rf</th>\n",
       "      <td id=\"T_5d253_row1_col0\" class=\"data row1 col0\" >Random Forest Classifier</td>\n",
       "      <td id=\"T_5d253_row1_col1\" class=\"data row1 col1\" >0.8618</td>\n",
       "      <td id=\"T_5d253_row1_col2\" class=\"data row1 col2\" >0.8593</td>\n",
       "      <td id=\"T_5d253_row1_col3\" class=\"data row1 col3\" >0.8618</td>\n",
       "      <td id=\"T_5d253_row1_col4\" class=\"data row1 col4\" >0.8082</td>\n",
       "      <td id=\"T_5d253_row1_col5\" class=\"data row1 col5\" >0.8105</td>\n",
       "      <td id=\"T_5d253_row1_col6\" class=\"data row1 col6\" >0.1301</td>\n",
       "      <td id=\"T_5d253_row1_col7\" class=\"data row1 col7\" >0.2104</td>\n",
       "      <td id=\"T_5d253_row1_col8\" class=\"data row1 col8\" >1.1030</td>\n",
       "    </tr>\n",
       "    <tr>\n",
       "      <th id=\"T_5d253_level0_row2\" class=\"row_heading level0 row2\" >et</th>\n",
       "      <td id=\"T_5d253_row2_col0\" class=\"data row2 col0\" >Extra Trees Classifier</td>\n",
       "      <td id=\"T_5d253_row2_col1\" class=\"data row2 col1\" >0.8635</td>\n",
       "      <td id=\"T_5d253_row2_col2\" class=\"data row2 col2\" >0.8578</td>\n",
       "      <td id=\"T_5d253_row2_col3\" class=\"data row2 col3\" >0.8635</td>\n",
       "      <td id=\"T_5d253_row2_col4\" class=\"data row2 col4\" >0.8139</td>\n",
       "      <td id=\"T_5d253_row2_col5\" class=\"data row2 col5\" >0.8163</td>\n",
       "      <td id=\"T_5d253_row2_col6\" class=\"data row2 col6\" >0.1642</td>\n",
       "      <td id=\"T_5d253_row2_col7\" class=\"data row2 col7\" >0.2390</td>\n",
       "      <td id=\"T_5d253_row2_col8\" class=\"data row2 col8\" >1.0470</td>\n",
       "    </tr>\n",
       "    <tr>\n",
       "      <th id=\"T_5d253_level0_row3\" class=\"row_heading level0 row3\" >knn</th>\n",
       "      <td id=\"T_5d253_row3_col0\" class=\"data row3 col0\" >K Neighbors Classifier</td>\n",
       "      <td id=\"T_5d253_row3_col1\" class=\"data row3 col1\" >0.8418</td>\n",
       "      <td id=\"T_5d253_row3_col2\" class=\"data row3 col2\" >0.6810</td>\n",
       "      <td id=\"T_5d253_row3_col3\" class=\"data row3 col3\" >0.8418</td>\n",
       "      <td id=\"T_5d253_row3_col4\" class=\"data row3 col4\" >0.7901</td>\n",
       "      <td id=\"T_5d253_row3_col5\" class=\"data row3 col5\" >0.8060</td>\n",
       "      <td id=\"T_5d253_row3_col6\" class=\"data row3 col6\" >0.1281</td>\n",
       "      <td id=\"T_5d253_row3_col7\" class=\"data row3 col7\" >0.1501</td>\n",
       "      <td id=\"T_5d253_row3_col8\" class=\"data row3 col8\" >1.2950</td>\n",
       "    </tr>\n",
       "    <tr>\n",
       "      <th id=\"T_5d253_level0_row4\" class=\"row_heading level0 row4\" >dt</th>\n",
       "      <td id=\"T_5d253_row4_col0\" class=\"data row4 col0\" >Decision Tree Classifier</td>\n",
       "      <td id=\"T_5d253_row4_col1\" class=\"data row4 col1\" >0.7982</td>\n",
       "      <td id=\"T_5d253_row4_col2\" class=\"data row4 col2\" >0.6335</td>\n",
       "      <td id=\"T_5d253_row4_col3\" class=\"data row4 col3\" >0.7982</td>\n",
       "      <td id=\"T_5d253_row4_col4\" class=\"data row4 col4\" >0.8054</td>\n",
       "      <td id=\"T_5d253_row4_col5\" class=\"data row4 col5\" >0.8016</td>\n",
       "      <td id=\"T_5d253_row4_col6\" class=\"data row4 col6\" >0.2258</td>\n",
       "      <td id=\"T_5d253_row4_col7\" class=\"data row4 col7\" >0.2262</td>\n",
       "      <td id=\"T_5d253_row4_col8\" class=\"data row4 col8\" >0.9950</td>\n",
       "    </tr>\n",
       "    <tr>\n",
       "      <th id=\"T_5d253_level0_row5\" class=\"row_heading level0 row5\" >dummy</th>\n",
       "      <td id=\"T_5d253_row5_col0\" class=\"data row5 col0\" >Dummy Classifier</td>\n",
       "      <td id=\"T_5d253_row5_col1\" class=\"data row5 col1\" >0.8553</td>\n",
       "      <td id=\"T_5d253_row5_col2\" class=\"data row5 col2\" >0.5000</td>\n",
       "      <td id=\"T_5d253_row5_col3\" class=\"data row5 col3\" >0.8553</td>\n",
       "      <td id=\"T_5d253_row5_col4\" class=\"data row5 col4\" >0.7316</td>\n",
       "      <td id=\"T_5d253_row5_col5\" class=\"data row5 col5\" >0.7887</td>\n",
       "      <td id=\"T_5d253_row5_col6\" class=\"data row5 col6\" >0.0000</td>\n",
       "      <td id=\"T_5d253_row5_col7\" class=\"data row5 col7\" >0.0000</td>\n",
       "      <td id=\"T_5d253_row5_col8\" class=\"data row5 col8\" >0.8980</td>\n",
       "    </tr>\n",
       "    <tr>\n",
       "      <th id=\"T_5d253_level0_row6\" class=\"row_heading level0 row6\" >ada</th>\n",
       "      <td id=\"T_5d253_row6_col0\" class=\"data row6 col0\" >Ada Boost Classifier</td>\n",
       "      <td id=\"T_5d253_row6_col1\" class=\"data row6 col1\" >0.8696</td>\n",
       "      <td id=\"T_5d253_row6_col2\" class=\"data row6 col2\" >0.0000</td>\n",
       "      <td id=\"T_5d253_row6_col3\" class=\"data row6 col3\" >0.8696</td>\n",
       "      <td id=\"T_5d253_row6_col4\" class=\"data row6 col4\" >0.8407</td>\n",
       "      <td id=\"T_5d253_row6_col5\" class=\"data row6 col5\" >0.8469</td>\n",
       "      <td id=\"T_5d253_row6_col6\" class=\"data row6 col6\" >0.3377</td>\n",
       "      <td id=\"T_5d253_row6_col7\" class=\"data row6 col7\" >0.3649</td>\n",
       "      <td id=\"T_5d253_row6_col8\" class=\"data row6 col8\" >1.9950</td>\n",
       "    </tr>\n",
       "    <tr>\n",
       "      <th id=\"T_5d253_level0_row7\" class=\"row_heading level0 row7\" >gbc</th>\n",
       "      <td id=\"T_5d253_row7_col0\" class=\"data row7 col0\" >Gradient Boosting Classifier</td>\n",
       "      <td id=\"T_5d253_row7_col1\" class=\"data row7 col1\" >0.8766</td>\n",
       "      <td id=\"T_5d253_row7_col2\" class=\"data row7 col2\" >0.0000</td>\n",
       "      <td id=\"T_5d253_row7_col3\" class=\"data row7 col3\" >0.8766</td>\n",
       "      <td id=\"T_5d253_row7_col4\" class=\"data row7 col4\" >0.8501</td>\n",
       "      <td id=\"T_5d253_row7_col5\" class=\"data row7 col5\" >0.8532</td>\n",
       "      <td id=\"T_5d253_row7_col6\" class=\"data row7 col6\" >0.3612</td>\n",
       "      <td id=\"T_5d253_row7_col7\" class=\"data row7 col7\" >0.3956</td>\n",
       "      <td id=\"T_5d253_row7_col8\" class=\"data row7 col8\" >2.7600</td>\n",
       "    </tr>\n",
       "  </tbody>\n",
       "</table>\n"
      ],
      "text/plain": [
       "<pandas.io.formats.style.Styler at 0x186837cf220>"
      ]
     },
     "metadata": {},
     "output_type": "display_data"
    },
    {
     "data": {
      "text/html": [],
      "text/plain": [
       "<IPython.core.display.HTML object>"
      ]
     },
     "metadata": {},
     "output_type": "display_data"
    }
   ],
   "source": [
    "best = compare_models(fold=10, sort='AUC')"
   ]
  },
  {
   "cell_type": "code",
   "execution_count": null,
   "id": "cc219f7a",
   "metadata": {},
   "outputs": [],
   "source": []
  }
 ],
 "metadata": {
  "kernelspec": {
   "display_name": "python310",
   "language": "python",
   "name": "python3"
  },
  "language_info": {
   "codemirror_mode": {
    "name": "ipython",
    "version": 3
   },
   "file_extension": ".py",
   "mimetype": "text/x-python",
   "name": "python",
   "nbconvert_exporter": "python",
   "pygments_lexer": "ipython3",
   "version": "3.10.12"
  }
 },
 "nbformat": 4,
 "nbformat_minor": 5
}
