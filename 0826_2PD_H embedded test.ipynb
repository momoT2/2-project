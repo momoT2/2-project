{
 "cells": [
  {
   "cell_type": "code",
   "execution_count": 17,
   "id": "2724770c",
   "metadata": {},
   "outputs": [],
   "source": [
    "import pandas as pd\n",
    "from pandas.plotting import scatter_matrix\n",
    "import numpy as np\n",
    "import matplotlib\n",
    "%matplotlib inline\n",
    "import seaborn as sns\n",
    "import missingno as msno\n",
    "import shap\n",
    "import matplotlib.pyplot as plt\n",
    "from sklearn.model_selection import train_test_split, StratifiedKFold, cross_val_score\n",
    "from sklearn.svm import SVC\n",
    "from sklearn.neighbors import KNeighborsClassifier\n",
    "from sklearn.preprocessing import StandardScaler\n",
    "from sklearn.pipeline import Pipeline\n",
    "from sklearn.metrics import accuracy_score\n",
    "from sklearn.metrics import classification_report"
   ]
  },
  {
   "cell_type": "code",
   "execution_count": 18,
   "id": "5a5d0ef0",
   "metadata": {},
   "outputs": [
    {
     "name": "stdout",
     "output_type": "stream",
     "text": [
      "Requirement already satisfied: missingno in c:\\users\\user\\anaconda3\\envs\\python310\\lib\\site-packages (0.5.2)\n",
      "Requirement already satisfied: numpy in c:\\users\\user\\anaconda3\\envs\\python310\\lib\\site-packages (from missingno) (1.26.4)\n",
      "Requirement already satisfied: matplotlib in c:\\users\\user\\anaconda3\\envs\\python310\\lib\\site-packages (from missingno) (3.7.5)\n",
      "Requirement already satisfied: scipy in c:\\users\\user\\anaconda3\\envs\\python310\\lib\\site-packages (from missingno) (1.11.4)\n",
      "Requirement already satisfied: seaborn in c:\\users\\user\\anaconda3\\envs\\python310\\lib\\site-packages (from missingno) (0.13.2)\n",
      "Requirement already satisfied: contourpy>=1.0.1 in c:\\users\\user\\anaconda3\\envs\\python310\\lib\\site-packages (from matplotlib->missingno) (1.3.2)\n",
      "Requirement already satisfied: cycler>=0.10 in c:\\users\\user\\anaconda3\\envs\\python310\\lib\\site-packages (from matplotlib->missingno) (0.12.1)\n",
      "Requirement already satisfied: fonttools>=4.22.0 in c:\\users\\user\\anaconda3\\envs\\python310\\lib\\site-packages (from matplotlib->missingno) (4.59.0)\n",
      "Requirement already satisfied: kiwisolver>=1.0.1 in c:\\users\\user\\anaconda3\\envs\\python310\\lib\\site-packages (from matplotlib->missingno) (1.4.9)\n",
      "Requirement already satisfied: packaging>=20.0 in c:\\users\\user\\anaconda3\\envs\\python310\\lib\\site-packages (from matplotlib->missingno) (25.0)\n",
      "Requirement already satisfied: pillow>=6.2.0 in c:\\users\\user\\anaconda3\\envs\\python310\\lib\\site-packages (from matplotlib->missingno) (9.4.0)\n",
      "Requirement already satisfied: pyparsing>=2.3.1 in c:\\users\\user\\anaconda3\\envs\\python310\\lib\\site-packages (from matplotlib->missingno) (3.2.3)\n",
      "Requirement already satisfied: python-dateutil>=2.7 in c:\\users\\user\\anaconda3\\envs\\python310\\lib\\site-packages (from matplotlib->missingno) (2.9.0.post0)\n",
      "Requirement already satisfied: six>=1.5 in c:\\users\\user\\anaconda3\\envs\\python310\\lib\\site-packages (from python-dateutil>=2.7->matplotlib->missingno) (1.17.0)\n",
      "Requirement already satisfied: pandas>=1.2 in c:\\users\\user\\anaconda3\\envs\\python310\\lib\\site-packages (from seaborn->missingno) (2.1.4)\n",
      "Requirement already satisfied: pytz>=2020.1 in c:\\users\\user\\anaconda3\\envs\\python310\\lib\\site-packages (from pandas>=1.2->seaborn->missingno) (2025.2)\n",
      "Requirement already satisfied: tzdata>=2022.1 in c:\\users\\user\\anaconda3\\envs\\python310\\lib\\site-packages (from pandas>=1.2->seaborn->missingno) (2025.2)\n"
     ]
    }
   ],
   "source": [
    "!pip install missingno"
   ]
  },
  {
   "cell_type": "markdown",
   "id": "e594820b",
   "metadata": {},
   "source": [
    "### 결측치 점검"
   ]
  },
  {
   "cell_type": "code",
   "execution_count": null,
   "id": "e8b0bb19",
   "metadata": {},
   "outputs": [
    {
     "name": "stdout",
     "output_type": "stream",
     "text": [
      "<class 'pandas.core.frame.DataFrame'>\n",
      "RangeIndex: 14956 entries, 0 to 14955\n",
      "Columns: 254 entries, id to hm_01_rel_t\n",
      "dtypes: float64(178), int64(74), object(2)\n",
      "memory usage: 29.0+ MB\n"
     ]
    }
   ],
   "source": [
    "df_raw = pd.read_csv(\"C:\\\\Users\\\\user\\\\Desktop\\\\0822_H_data.csv\")\n",
    "\n",
    "df_raw.info()"
   ]
  },
  {
   "cell_type": "code",
   "execution_count": 20,
   "id": "918f384f",
   "metadata": {},
   "outputs": [],
   "source": [
    "df = df_raw.drop(['emp_keep_a', 'hazard_phy_d','hazard_phy_a','hazard_phy_c','hazard_phy_e','hazard_phy_f','hazard_phy_g','hazard_phy_h', 'hazard_phy_i', 'ch_downsizing', 'job_c1_r', 'job_c1', 'emp_pay_type', 'skillmat', 'emp_comp_com_a','emp_comp_com_b','emp_comp_com_c','ch_ic','ch_restruct','wplace_sl','emp_noncon', 'wcomback'], axis = 1)"
   ]
  },
  {
   "cell_type": "code",
   "execution_count": 21,
   "id": "30bcd0a9",
   "metadata": {},
   "outputs": [
    {
     "name": "stdout",
     "output_type": "stream",
     "text": [
      "                  컬럼명  널값 개수  널값비율\n",
      "0         comp_size_b    870  5.82\n",
      "1        wtime_ftwork    584  3.90\n",
      "2            emp_keep    581  3.88\n",
      "3          emo_manual    307  2.05\n",
      "4    wtime_resilience    279  1.87\n",
      "..                ...    ...   ...\n",
      "150       wsituation7      2  0.01\n",
      "151      wsituation13      1  0.01\n",
      "152            wstat1      1  0.01\n",
      "153         winten2_a      2  0.01\n",
      "154     wtime_length3      2  0.01\n",
      "\n",
      "[155 rows x 3 columns]\n"
     ]
    }
   ],
   "source": [
    "# 널값 개수와 비율 계산\n",
    "null_summary = (\n",
    "    df.isnull().sum()\n",
    "      .to_frame(\"널값 개수\")\n",
    "      .assign(널값비율 = lambda x: (x[\"널값 개수\"] / len(df_raw) * 100).round(2))\n",
    "      .reset_index()\n",
    "      .rename(columns={'index': '컬럼명'})\n",
    ")\n",
    "\n",
    "# 널값 있는 열만 필터링 & 비율 기준 내림차순 정렬\n",
    "null_summary = (\n",
    "    null_summary[null_summary[\"널값 개수\"] > 0]\n",
    "    .sort_values(by=\"널값비율\", ascending=False)\n",
    "    .reset_index(drop=True)\n",
    ")\n",
    "\n",
    "print(null_summary)"
   ]
  },
  {
   "cell_type": "code",
   "execution_count": 22,
   "id": "52a2dcfe",
   "metadata": {},
   "outputs": [],
   "source": [
    "# start 파일\n",
    "# df.to_csv(\"2PD_v1_0822.csv\", encoding=\"CP949\")"
   ]
  },
  {
   "cell_type": "markdown",
   "id": "59642bb3",
   "metadata": {},
   "source": [
    "### 중복 피쳐 삭제/8,9->결측치 수정"
   ]
  },
  {
   "cell_type": "code",
   "execution_count": 23,
   "id": "27794ee2",
   "metadata": {},
   "outputs": [
    {
     "name": "stdout",
     "output_type": "stream",
     "text": [
      "              id burnout60  area  gender  age  wduration_y  earning1  \\\n",
      "0      1000042_1       lv1     1       1   49           10       500   \n",
      "1      1000051_1       lv2     1       1   31            2       300   \n",
      "2      1000056_1       lv1     1       1   32            2       300   \n",
      "3      1000069_1       lv1     1       1   38            2       390   \n",
      "4      1000069_2       lv1     1       2   37            5       330   \n",
      "...          ...       ...   ...     ...  ...          ...       ...   \n",
      "14951  2010124_1       lv1     7       1   37            6       450   \n",
      "14952  2010133_1       lv2     7       2   46            3       230   \n",
      "14953  2010134_2       lv1     7       2   34            5       320   \n",
      "14954  2010137_1       lv1     7       1   57            5       450   \n",
      "14955  2010137_2       lv1     7       2   29            3       350   \n",
      "\n",
      "       earning2_r  wtime_r  woutside4_a  ...  edu  marital  children  \\\n",
      "0               6     40.0            1  ...  5.0      1.0       1.0   \n",
      "1               4     48.0            1  ...  6.0      2.0       2.0   \n",
      "2               4     50.0            1  ...  5.0      2.0       2.0   \n",
      "3               4     40.0            1  ...  6.0      1.0       1.0   \n",
      "4               4     40.0            1  ...  6.0      1.0       2.0   \n",
      "...           ...      ...          ...  ...  ...      ...       ...   \n",
      "14951           5     40.0            1  ...  6.0      2.0       2.0   \n",
      "14952           3     40.0            1  ...  5.0      2.0       2.0   \n",
      "14953           4     40.0            1  ...  6.0      2.0       2.0   \n",
      "14954           5     40.0            1  ...  6.0      1.0       1.0   \n",
      "14955           4     40.0            1  ...  6.0      2.0       2.0   \n",
      "\n",
      "       panel_survey  ind  ind2  occ  occ2  comp_sizea_r  comp_sizeb_r  \n",
      "0                 2    7    46    3   313           4.0             4  \n",
      "1                 2    7    47    3   312          11.0            11  \n",
      "2                 2    9    56    4   441           2.0             2  \n",
      "3                 2    6    42    3   312          10.0            10  \n",
      "4                 2   13    71    2   273           7.0             7  \n",
      "...             ...  ...   ...  ...   ...           ...           ...  \n",
      "14951             2   16    85    2   252           6.0             6  \n",
      "14952             2    8    52    3   313           4.0             4  \n",
      "14953             2   11    64    3   320           4.0             4  \n",
      "14954             2    7    46    5   510           4.0             4  \n",
      "14955             2   10    61    7   772           4.0             4  \n",
      "\n",
      "[14956 rows x 218 columns]\n"
     ]
    }
   ],
   "source": [
    "# 불필요한 피쳐 삭제하기 (14개)\n",
    "df = df.drop(columns=[\"ptime_r\", \"stratification\", \"district\", \"household\", \"target\", \"mode\", \"hh_num\", \"eli_num\", \"hm_01_gender\", \"hm_01_year\", \"hm_01_estat\", \"hm_01_rel_t\",\"wtime_week\", \"earning1_r\"])\n",
    "\n",
    "print(df)"
   ]
  },
  {
   "cell_type": "code",
   "execution_count": 24,
   "id": "ef57aabb",
   "metadata": {},
   "outputs": [
    {
     "name": "stdout",
     "output_type": "stream",
     "text": [
      "[6 2 1 7 5 4 3 <NA>]\n",
      "[1 5 6 3 4 7 2 <NA>]\n",
      "[ 7.  6.  2.  5.  4.  3.  1. nan]\n",
      "[ 7.  2.  5.  4.  6.  3. nan  1.]\n",
      "[ 7.  3.  5.  6.  4.  2.  1. nan]\n"
     ]
    }
   ],
   "source": [
    "# 전처리: 8, 9 NULL (5개)\n",
    "cols = [\"hazard_erg_a\", \"hazard_erg_b\", \"hazard_erg_c\", \"hazard_erg_d\", \"hazard_erg_e\"]\n",
    "\n",
    "df[cols] = df[cols].replace([8, 9], pd.NA)\n",
    "\n",
    "print(df['hazard_erg_a'].unique())\n",
    "print(df['hazard_erg_b'].unique())\n",
    "print(df['hazard_erg_c'].unique())\n",
    "print(df['hazard_erg_d'].unique())\n",
    "print(df['hazard_erg_e'].unique())\n"
   ]
  },
  {
   "cell_type": "code",
   "execution_count": 25,
   "id": "af6c3efc",
   "metadata": {},
   "outputs": [],
   "source": [
    "# 잘못 변경된 변수명 복원\n",
    "df.rename(columns={\n",
    "    \"wsituation\": \"wsituation8\",\n",
    "    \"wsituation.1\": \"wsituation9\",\n",
    "    \"disc\": \"disc9\",\n",
    "    \"disc.1\": \"disc8\"\n",
    "}, inplace=True)"
   ]
  },
  {
   "cell_type": "markdown",
   "id": "5eab22d2",
   "metadata": {},
   "source": [
    "### 긍/부정 변경"
   ]
  },
  {
   "cell_type": "code",
   "execution_count": 26,
   "id": "80e5872c",
   "metadata": {},
   "outputs": [
    {
     "data": {
      "text/plain": [
       "0    2\n",
       "1    2\n",
       "2    2\n",
       "3    3\n",
       "4    5\n",
       "5    5\n",
       "6    5\n",
       "7    5\n",
       "8    5\n",
       "9    5\n",
       "Name: wstat4, dtype: int64"
      ]
     },
     "execution_count": 26,
     "metadata": {},
     "output_type": "execute_result"
    }
   ],
   "source": [
    "df[\"wstat4\"].head(10) "
   ]
  },
  {
   "cell_type": "code",
   "execution_count": 27,
   "id": "6ecf7446",
   "metadata": {},
   "outputs": [
    {
     "data": {
      "text/plain": [
       "0    4\n",
       "1    4\n",
       "2    4\n",
       "3    3\n",
       "4    1\n",
       "5    1\n",
       "6    1\n",
       "7    1\n",
       "8    1\n",
       "9    1\n",
       "Name: wstat4, dtype: int64"
      ]
     },
     "execution_count": 27,
     "metadata": {},
     "output_type": "execute_result"
    }
   ],
   "source": [
    "# 긍/부정 변경\n",
    "# 5점 척도\n",
    "\n",
    "cols = [\n",
    "    \"wstat4\", \"wstat6\",\n",
    "    \"wwa1\", \"wwa2\", \"wwa3\", \"wwa4\", \"wwa5\",\n",
    "    \"sleep1\", \"sleep2\", \"sleep3\",\n",
    "    \"imte1\", \"imte2\", \"imte3\", \"imte4\", \"imte5\",\n",
    "    \"wsituation12\", \"wsituation14\"\n",
    "]\n",
    "\n",
    "# 변환 딕셔너리 (5점 척도 역코딩)\n",
    "reverse_map = {1: 5, 2: 4, 3: 3, 4: 2, 5: 1}\n",
    "\n",
    "# 여러 열에 적용\n",
    "for col in cols:\n",
    "    df[col] = df[col].map(reverse_map).fillna(df[col])\n",
    "\n",
    "df[\"wstat4\"].head(10) "
   ]
  },
  {
   "cell_type": "code",
   "execution_count": 28,
   "id": "d182286f",
   "metadata": {},
   "outputs": [
    {
     "name": "stdout",
     "output_type": "stream",
     "text": [
      "['id', 'burnout60', 'area', 'gender', 'age', 'wduration_y', 'earning1', 'earning2_r', 'wtime_r', 'woutside4_a', 'wtime_length5', 'age_group', 'emp_period_group', 'wtime_group', 'compsize_group', 'woutside_group', 'compsize_group_a', 'wday_week_group_a', 'woutside4_group_a', 'occ_t2_group_a', 'earning2_group_b', 'occ_group_a', 'emp_stat', 'emp_con_term', 'emp_keep', 'emp_own_mgmt', 'emp_fptime', 'emp_wage', 'emp_stat_sp', 'income_pos_a', 'income_pos_b', 'income_pos_c', 'income_pos_d', 'income_pos_e', 'income_pos_f', 'income_pos_g', 'income_pos_h', 'income_pos_i', 'income_pos_j', 'emp_place', 'emp_suggest_a', 'emp_suggest_b', 'emp_boss_gender', 'emp_manaqual_a', 'emp_manaqual_b', 'emp_manaqual_c', 'emp_manaqual_d', 'emp_manaqual_e', 'emp_comp_ass_a', 'emp_comp_ass_b', 'emp_comp_ass_c', 'emp_comp_ass_d', 'emp_comp_ass_e', 'emp_comp_ass_f', 'emp_rep', 'emp_winflu_a', 'emp_winflu_b', 'emp_winflu_c', 'emp_tra_b', 'emp_tra_c', 'emp_tra_d', 'wsector', 'comp_size_a', 'comp_size_b', 'comp_female', 'comp_sjob', 'ch_tech', 'ch_me', 'ch_ps', 'imte1', 'imte2', 'imte3', 'imte4', 'imte5', 'safeinform', 'wsituation1', 'wsituation2', 'wsituation3', 'wsituation4', 'wsituation5', 'wsituation11', 'wsituation6', 'wsituation7', 'wsituation8', 'wsituation9', 'wsituation10', 'wsituation12', 'wsituation13', 'wsituation14', 'wstat1', 'wstat2', 'wstat3', 'wstat4', 'wstat5', 'wstat6', 'wstat7', 'emo_manual', 'asb5', 'asb6', 'asb7', 'disc1', 'disc5', 'disc9', 'disc10', 'disc11', 'disc6', 'disc7', 'disc8', 'disc2', 'disc3', 'disc4', 'wtime_con1', 'wday', 'wday_week', 'ctime', 'wtime_night_a', 'wtime_sun_a', 'wtime_sat_a', 'wtime_long_a', 'wtime_night2', 'wtime_night3', 'wtime_resilience', 'wtime_arr_a', 'wtime_ftwork', 'wtime_ftcomtool', 'wtime_private', 'hazard_phy_b', 'hazard_erg_a', 'hazard_erg_b', 'hazard_erg_c', 'hazard_erg_d', 'hazard_erg_e', 'winten2_a', 'winten2_b', 'winten1_a', 'winten1_b', 'decla_a', 'decla_b', 'decla_c', 'winten3_a', 'winten3_b', 'winten3_c', 'winten3_d', 'winten3_e', 'winterrupt1', 'weng1', 'weng2', 'weng3', 'weng4', 'weng5', 'condim1', 'condim2', 'condim3', 'condim4', 'condim5', 'condim6', 'ass_cust1', 'alter_task1', 'wteam1', 'satisfaction', 'wplace4', 'wplace3', 'wplace2', 'wplace1', 'wpalce_ch', 'wtime_length1', 'wtime_length2', 'wtime_length3', 'wtime_length4', 'job1', 'wtime', 'wbalance', 'wwa1', 'wwa2', 'wwa3', 'wwa4', 'wwa5', 'heal_risk', 'heal_abs1', 'heal_wsick1', 'asb1', 'asb2', 'asb3', 'asb4', 'heal_aff', 'heal_cond', 'heal_illhe', 'heal_lim1', 'heal_prob1', 'heal_prob2', 'heal_prob3', 'heal_prob4', 'heal_prob5', 'heal_prob6', 'heal_prob8', 'sleep1', 'sleep2', 'sleep3', 'who1', 'who2', 'who3', 'who4', 'who5', 'woutside3', 'woutside4', 'woutside5', 'income_con', 'income_bal', 'edu', 'marital', 'children', 'panel_survey', 'ind', 'ind2', 'occ', 'occ2', 'comp_sizea_r', 'comp_sizeb_r']\n",
      "   heal_lim1\n",
      "0        1.0\n",
      "1        1.0\n",
      "2        1.0\n",
      "3        1.0\n",
      "4        1.0\n"
     ]
    },
    {
     "data": {
      "text/plain": [
       "0    1.0\n",
       "1    1.0\n",
       "2    1.0\n",
       "3    1.0\n",
       "4    1.0\n",
       "5    1.0\n",
       "6    1.0\n",
       "7    1.0\n",
       "8    1.0\n",
       "9    1.0\n",
       "Name: heal_lim1, dtype: float64"
      ]
     },
     "execution_count": 28,
     "metadata": {},
     "output_type": "execute_result"
    }
   ],
   "source": [
    "# 3점 척도 \n",
    "cols_2 = [\n",
    "   \"heal_lim1\"\n",
    "]\n",
    "\n",
    "# 변환 딕셔너리 (3점 척도 역코딩)\n",
    "reverse_map = {1: 3, 2: 2, 3: 1}\n",
    "\n",
    "# 여러 열에 적용\n",
    "for col in cols_2:\n",
    "    df[col] = df[col].map(reverse_map).fillna(df[col])\n",
    "\n",
    "\n",
    "#%%\n",
    "print(df.columns.tolist())\n",
    "#%%\n",
    "print(df[cols_2].head())\n",
    "#%%\n",
    "df[\"heal_lim1\"].head(10) \n",
    "#%%\n"
   ]
  },
  {
   "cell_type": "code",
   "execution_count": 29,
   "id": "6e6bc311",
   "metadata": {},
   "outputs": [
    {
     "name": "stdout",
     "output_type": "stream",
     "text": [
      "['id', 'burnout60', 'area', 'gender', 'age', 'wduration_y', 'earning1', 'earning2_r', 'wtime_r', 'woutside4_a', 'wtime_length5', 'age_group', 'emp_period_group', 'wtime_group', 'compsize_group', 'woutside_group', 'compsize_group_a', 'wday_week_group_a', 'woutside4_group_a', 'occ_t2_group_a', 'earning2_group_b', 'occ_group_a', 'emp_stat', 'emp_con_term', 'emp_keep', 'emp_own_mgmt', 'emp_fptime', 'emp_wage', 'emp_stat_sp', 'income_pos_a', 'income_pos_b', 'income_pos_c', 'income_pos_d', 'income_pos_e', 'income_pos_f', 'income_pos_g', 'income_pos_h', 'income_pos_i', 'income_pos_j', 'emp_place', 'emp_suggest_a', 'emp_suggest_b', 'emp_boss_gender', 'emp_manaqual_a', 'emp_manaqual_b', 'emp_manaqual_c', 'emp_manaqual_d', 'emp_manaqual_e', 'emp_comp_ass_a', 'emp_comp_ass_b', 'emp_comp_ass_c', 'emp_comp_ass_d', 'emp_comp_ass_e', 'emp_comp_ass_f', 'emp_rep', 'emp_winflu_a', 'emp_winflu_b', 'emp_winflu_c', 'emp_tra_b', 'emp_tra_c', 'emp_tra_d', 'wsector', 'comp_size_a', 'comp_size_b', 'comp_female', 'comp_sjob', 'ch_tech', 'ch_me', 'ch_ps', 'imte1', 'imte2', 'imte3', 'imte4', 'imte5', 'safeinform', 'wsituation1', 'wsituation2', 'wsituation3', 'wsituation4', 'wsituation5', 'wsituation11', 'wsituation6', 'wsituation7', 'wsituation8', 'wsituation9', 'wsituation10', 'wsituation12', 'wsituation13', 'wsituation14', 'wstat1', 'wstat2', 'wstat3', 'wstat4', 'wstat5', 'wstat6', 'wstat7', 'emo_manual', 'asb5', 'asb6', 'asb7', 'disc1', 'disc5', 'disc9', 'disc10', 'disc11', 'disc6', 'disc7', 'disc8', 'disc2', 'disc3', 'disc4', 'wtime_con1', 'wday', 'wday_week', 'ctime', 'wtime_night_a', 'wtime_sun_a', 'wtime_sat_a', 'wtime_long_a', 'wtime_night2', 'wtime_night3', 'wtime_resilience', 'wtime_arr_a', 'wtime_ftwork', 'wtime_ftcomtool', 'wtime_private', 'hazard_phy_b', 'hazard_erg_a', 'hazard_erg_b', 'hazard_erg_c', 'hazard_erg_d', 'hazard_erg_e', 'winten2_a', 'winten2_b', 'winten1_a', 'winten1_b', 'decla_a', 'decla_b', 'decla_c', 'winten3_a', 'winten3_b', 'winten3_c', 'winten3_d', 'winten3_e', 'winterrupt1', 'weng1', 'weng2', 'weng3', 'weng4', 'weng5', 'condim1', 'condim2', 'condim3', 'condim4', 'condim5', 'condim6', 'ass_cust1', 'alter_task1', 'wteam1', 'satisfaction', 'wplace4', 'wplace3', 'wplace2', 'wplace1', 'wpalce_ch', 'wtime_length1', 'wtime_length2', 'wtime_length3', 'wtime_length4', 'job1', 'wtime', 'wbalance', 'wwa1', 'wwa2', 'wwa3', 'wwa4', 'wwa5', 'heal_risk', 'heal_abs1', 'heal_wsick1', 'asb1', 'asb2', 'asb3', 'asb4', 'heal_aff', 'heal_cond', 'heal_illhe', 'heal_lim1', 'heal_prob1', 'heal_prob2', 'heal_prob3', 'heal_prob4', 'heal_prob5', 'heal_prob6', 'heal_prob8', 'sleep1', 'sleep2', 'sleep3', 'who1', 'who2', 'who3', 'who4', 'who5', 'woutside3', 'woutside4', 'woutside5', 'income_con', 'income_bal', 'edu', 'marital', 'children', 'panel_survey', 'ind', 'ind2', 'occ', 'occ2', 'comp_sizea_r', 'comp_sizeb_r']\n",
      "   imte1  imte2  imte3  imte4  imte5\n",
      "0    1.0    1.0    1.0    5.0    5.0\n",
      "1    1.0    1.0    5.0    5.0    1.0\n",
      "2    1.0    1.0    2.0    2.0    1.0\n",
      "3    3.0    3.0    3.0    2.0    3.0\n",
      "4    2.0    2.0    1.0    3.0    2.0\n"
     ]
    },
    {
     "data": {
      "text/plain": [
       "0    1.0\n",
       "1    1.0\n",
       "2    1.0\n",
       "3    3.0\n",
       "4    2.0\n",
       "5    2.0\n",
       "6    2.0\n",
       "7    1.0\n",
       "8    2.0\n",
       "9    2.0\n",
       "Name: imte1, dtype: float64"
      ]
     },
     "execution_count": 29,
     "metadata": {},
     "output_type": "execute_result"
    }
   ],
   "source": [
    "# 4점 척도\n",
    "cols_1 = [\n",
    "    \"imte1\", \"imte2\", \"imte3\", \"imte4\", \"imte5\",\n",
    "]\n",
    "\n",
    "# 변환 딕셔너리 (4점 척도 역코딩)\n",
    "reverse_map = {1: 4, 2: 3, 3: 2, 4: 1}\n",
    "\n",
    "# 여러 열에 적용\n",
    "for col in cols_1:\n",
    "    df[col] = df[col].map(reverse_map).fillna(df[col])\n",
    "\n",
    "\n",
    "#%%\n",
    "print(df.columns.tolist())\n",
    "#%%\n",
    "print(df[cols_1].head())\n",
    "#%%\n",
    "df[\"imte1\"].head(10) \n",
    "#%%"
   ]
  },
  {
   "cell_type": "markdown",
   "id": "ffc0354e",
   "metadata": {},
   "source": [
    "### 연속형 변수 재범주화"
   ]
  },
  {
   "cell_type": "code",
   "execution_count": 30,
   "id": "a8e184dc",
   "metadata": {},
   "outputs": [
    {
     "data": {
      "text/plain": [
       "heal_abs1\n",
       "0.0      14127\n",
       "2.0        181\n",
       "1.0        127\n",
       "3.0        113\n",
       "5.0         80\n",
       "7.0         65\n",
       "10.0        31\n",
       "8.0         25\n",
       "4.0         24\n",
       "6.0         10\n",
       "15.0         9\n",
       "20.0         6\n",
       "30.0         6\n",
       "14.0         5\n",
       "13.0         5\n",
       "12.0         4\n",
       "90.0         3\n",
       "60.0         2\n",
       "11.0         1\n",
       "180.0        1\n",
       "120.0        1\n",
       "50.0         1\n",
       "21.0         1\n",
       "Name: count, dtype: int64"
      ]
     },
     "execution_count": 30,
     "metadata": {},
     "output_type": "execute_result"
    }
   ],
   "source": [
    "df['heal_abs1'].value_counts()"
   ]
  },
  {
   "cell_type": "code",
   "execution_count": 31,
   "id": "d1471986",
   "metadata": {},
   "outputs": [
    {
     "name": "stdout",
     "output_type": "stream",
     "text": [
      "0    1\n",
      "1    1\n",
      "2    1\n",
      "3    1\n",
      "4    1\n",
      "Name: heal_abs1_group, dtype: int64\n"
     ]
    },
    {
     "data": {
      "text/plain": [
       "heal_abs1_group\n",
       "1    14127\n",
       "2      829\n",
       "Name: count, dtype: int64"
      ]
     },
     "execution_count": 31,
     "metadata": {},
     "output_type": "execute_result"
    }
   ],
   "source": [
    "# 범주화 \n",
    "\n",
    "df[\"heal_abs1_group\"] = np.where(df[\"heal_abs1\"] == 0, 0, 1)\n",
    "df['heal_abs1_group'] = df['heal_abs1_group'].map({0: 1, 1: 2})\n",
    "#%%\n",
    "print(df[\"heal_abs1_group\"].head())\n",
    "#%%\n",
    "df[\"heal_abs1_group\"].value_counts()\n"
   ]
  },
  {
   "cell_type": "code",
   "execution_count": 32,
   "id": "44d81def",
   "metadata": {},
   "outputs": [
    {
     "name": "stdout",
     "output_type": "stream",
     "text": [
      "0      1\n",
      "1      1\n",
      "2      1\n",
      "3      2\n",
      "4    NaN\n",
      "Name: ctime_group, dtype: category\n",
      "Categories (3, int64): [1 < 2 < 3]\n"
     ]
    },
    {
     "data": {
      "text/plain": [
       "ctime_group\n",
       "1    12582\n",
       "2     1150\n",
       "3      328\n",
       "Name: count, dtype: int64"
      ]
     },
     "execution_count": 32,
     "metadata": {},
     "output_type": "execute_result"
    }
   ],
   "source": [
    "# 구간 (0~60, 61~120, 121 이상)\n",
    "bins = [0, 60, 120, float(\"inf\")]\n",
    "labels = [1, 2, 3]\n",
    "\n",
    "df[\"ctime_group\"] = pd.cut(df[\"ctime\"], bins=bins, labels=labels, right=True)\n",
    "#%%\n",
    "print(df[\"ctime_group\"].head())\n",
    "#%%\n",
    "df[\"ctime_group\"].value_counts()\n",
    "#%%"
   ]
  },
  {
   "cell_type": "code",
   "execution_count": 33,
   "id": "7a45e574",
   "metadata": {},
   "outputs": [
    {
     "name": "stdout",
     "output_type": "stream",
     "text": [
      "              id burnout60  area  gender  age  wduration_y  earning1  \\\n",
      "0      1000042_1       lv1     1       1   49           10       500   \n",
      "1      1000051_1       lv2     1       1   31            2       300   \n",
      "2      1000056_1       lv1     1       1   32            2       300   \n",
      "3      1000069_1       lv1     1       1   38            2       390   \n",
      "4      1000069_2       lv1     1       2   37            5       330   \n",
      "...          ...       ...   ...     ...  ...          ...       ...   \n",
      "14951  2010124_1       lv1     7       1   37            6       450   \n",
      "14952  2010133_1       lv2     7       2   46            3       230   \n",
      "14953  2010134_2       lv1     7       2   34            5       320   \n",
      "14954  2010137_1       lv1     7       1   57            5       450   \n",
      "14955  2010137_2       lv1     7       2   29            3       350   \n",
      "\n",
      "       earning2_r  wtime_r  woutside4_a  ...  children  panel_survey  ind  \\\n",
      "0               6     40.0            1  ...       1.0             2    7   \n",
      "1               4     48.0            1  ...       2.0             2    7   \n",
      "2               4     50.0            1  ...       2.0             2    9   \n",
      "3               4     40.0            1  ...       1.0             2    6   \n",
      "4               4     40.0            1  ...       2.0             2   13   \n",
      "...           ...      ...          ...  ...       ...           ...  ...   \n",
      "14951           5     40.0            1  ...       2.0             2   16   \n",
      "14952           3     40.0            1  ...       2.0             2    8   \n",
      "14953           4     40.0            1  ...       2.0             2   11   \n",
      "14954           5     40.0            1  ...       1.0             2    7   \n",
      "14955           4     40.0            1  ...       2.0             2   10   \n",
      "\n",
      "       ind2  occ  occ2  comp_sizea_r  comp_sizeb_r  heal_abs1_group  \\\n",
      "0        46    3   313           4.0             4                1   \n",
      "1        47    3   312          11.0            11                1   \n",
      "2        56    4   441           2.0             2                1   \n",
      "3        42    3   312          10.0            10                1   \n",
      "4        71    2   273           7.0             7                1   \n",
      "...     ...  ...   ...           ...           ...              ...   \n",
      "14951    85    2   252           6.0             6                1   \n",
      "14952    52    3   313           4.0             4                1   \n",
      "14953    64    3   320           4.0             4                1   \n",
      "14954    46    5   510           4.0             4                1   \n",
      "14955    61    7   772           4.0             4                1   \n",
      "\n",
      "       ctime_group  \n",
      "0                1  \n",
      "1                1  \n",
      "2                1  \n",
      "3                2  \n",
      "4              NaN  \n",
      "...            ...  \n",
      "14951            1  \n",
      "14952            1  \n",
      "14953            1  \n",
      "14954            1  \n",
      "14955            2  \n",
      "\n",
      "[14956 rows x 218 columns]\n"
     ]
    }
   ],
   "source": [
    "# 파생변수로 대체된 컬럼 삭제\n",
    "df = df.drop(['heal_abs1','ctime'], axis = 1)\n",
    "print(df)"
   ]
  },
  {
   "cell_type": "markdown",
   "id": "9f4b128e",
   "metadata": {},
   "source": [
    "### 중복 피쳐 삭제"
   ]
  },
  {
   "cell_type": "code",
   "execution_count": 34,
   "id": "906911f1",
   "metadata": {},
   "outputs": [],
   "source": [
    "# 1차 프로젝트에서 파생변수 만들었던 변수 삭제\n",
    "df = df.drop(['occ', 'occ2', 'age', 'earning2_r', 'wday_week', 'woutside4', 'wtime_r', 'wduration_y'], axis = 1)"
   ]
  },
  {
   "cell_type": "markdown",
   "id": "9203cc19",
   "metadata": {},
   "source": [
    "### 상관관계 매트릭스 분석"
   ]
  },
  {
   "cell_type": "code",
   "execution_count": 35,
   "id": "5b5e430a",
   "metadata": {},
   "outputs": [],
   "source": [
    "import seaborn as sns\n",
    "import matplotlib.pyplot as plt\n",
    "\n",
    "corr = df.corr(numeric_only=True)\n",
    "# sns.heatmap(corr, cmap=\"coolwarm\", center=0)\n",
    "# plt.show()"
   ]
  },
  {
   "cell_type": "code",
   "execution_count": 36,
   "id": "ec553c28",
   "metadata": {},
   "outputs": [
    {
     "name": "stdout",
     "output_type": "stream",
     "text": [
      "                    변수1           변수2      상관계수\n",
      "10060       comp_size_b  comp_sizeb_r  1.000000\n",
      "10059       comp_size_b  comp_sizea_r  1.000000\n",
      "15552             disc3         disc4  0.988628\n",
      "20492               ind          ind2  0.985571\n",
      "15452             disc2         disc3  0.984493\n",
      "15453             disc2         disc4  0.982562\n",
      "1780     compsize_group  comp_sizeb_r  0.975227\n",
      "1636     compsize_group   comp_size_b  0.969841\n",
      "15351             disc8         disc2  0.962101\n",
      "15353             disc8         disc4  0.956305\n",
      "15352             disc8         disc3  0.954483\n",
      "15249             disc7         disc8  0.944109\n",
      "15250             disc7         disc2  0.920967\n",
      "20499      comp_sizea_r  comp_sizeb_r  0.920086\n",
      "2165   compsize_group_a  comp_sizeb_r  0.916659\n",
      "15252             disc7         disc4  0.913893\n",
      "15251             disc7         disc3  0.913422\n",
      "1779     compsize_group  comp_sizea_r  0.910546\n",
      "2021   compsize_group_a   comp_size_b  0.893071\n",
      "15146             disc6         disc7  0.886284\n"
     ]
    }
   ],
   "source": [
    "# 상관계수 절댓값이 0.8 이상인 쌍만 추출 (자기 자신 제외)\n",
    "high_corr = (\n",
    "    corr.where(np.triu(np.ones(corr.shape), k=1).astype(bool))  \n",
    "        .stack()                                               \n",
    "        .reset_index()\n",
    "        .rename(columns={'level_0': '변수1', 'level_1': '변수2', 0: '상관계수'})\n",
    ")\n",
    "\n",
    "# 조건 필터링\n",
    "high_corr = high_corr[high_corr['상관계수'].abs() >= 0.8]\n",
    "\n",
    "print(high_corr.sort_values(by='상관계수', ascending=False).head(20))"
   ]
  },
  {
   "cell_type": "code",
   "execution_count": 37,
   "id": "8c0c193f",
   "metadata": {},
   "outputs": [
    {
     "name": "stdout",
     "output_type": "stream",
     "text": [
      "조건 충족하는 변수 개수: 23\n",
      "변수 목록: {'disc8', 'ind2', 'comp_size_b', 'compsize_group', 'disc6', 'compsize_group_a', 'winten2_a', 'winten2_b', 'woutside4_a', 'disc7', 'winten3_d', 'disc2', 'earning2_group_b', 'decla_b', 'disc4', 'earning1', 'woutside_group', 'ind', 'comp_sizea_r', 'comp_sizeb_r', 'winten3_c', 'decla_a', 'disc3'}\n"
     ]
    }
   ],
   "source": [
    "unique_vars = set(high_corr['변수1']).union(set(high_corr['변수2']))\n",
    "print(\"조건 충족하는 변수 개수:\", len(unique_vars))\n",
    "print(\"변수 목록:\", unique_vars)"
   ]
  },
  {
   "cell_type": "code",
   "execution_count": 38,
   "id": "cea9ee15",
   "metadata": {},
   "outputs": [],
   "source": [
    "# 상관분석 결과 필요없는 변수 삭제\n",
    "df = df.drop(['comp_size_b', 'comp_sizea_r', 'comp_sizeb_r', 'ind', 'ind2', 'earning1', 'woutside4_a'], axis = 1)"
   ]
  },
  {
   "cell_type": "code",
   "execution_count": 39,
   "id": "30e2ed25",
   "metadata": {},
   "outputs": [
    {
     "name": "stdout",
     "output_type": "stream",
     "text": [
      "[2 1]\n"
     ]
    }
   ],
   "source": [
    "# disc 변수 : 차별 유/무로 파생변수 생성\n",
    "cols = ['disc1','disc2','disc3','disc4','disc5',\n",
    "        'disc6','disc7','disc8','disc9','disc10','disc11']\n",
    "\n",
    "# 하나라도 1이 있으면 1, 아니면 0\n",
    "df['disc_group'] = (df[cols].sum(axis=1) > 0).astype(int)\n",
    "\n",
    "df['disc_group'] = df['disc_group'].map({0: 1, 1: 2})\n",
    "\n",
    "print(df['disc_group'].unique())"
   ]
  },
  {
   "cell_type": "code",
   "execution_count": 40,
   "id": "db319db9",
   "metadata": {},
   "outputs": [
    {
     "name": "stdout",
     "output_type": "stream",
     "text": [
      "[2 1]\n"
     ]
    }
   ],
   "source": [
    "# decla 변수 : 작업선택의 가능성 유/무로 파생변수 생성\n",
    "cols = ['decla_a','decla_b']\n",
    "\n",
    "# 하나라도 1이 있으면 1, 아니면 0\n",
    "df['decla_group'] = (df[cols].sum(axis=1) > 0).astype(int)\n",
    "\n",
    "df['decla_group'] = df['decla_group'].map({0: 1, 1: 2})\n",
    "\n",
    "print(df['decla_group'].unique())"
   ]
  },
  {
   "cell_type": "code",
   "execution_count": 41,
   "id": "4fa12791",
   "metadata": {},
   "outputs": [
    {
     "name": "stdout",
     "output_type": "stream",
     "text": [
      "[ 5.  6.  7.  1.  4.  3.  2. nan]\n"
     ]
    }
   ],
   "source": [
    "# winten2 변수 : 작업 강도가 세다로 파생변수 생성(7점 척도)\n",
    "cols = ['winten2_a','winten2_b']\n",
    "\n",
    "# 둘 중 하나라도 있으면 최대값\n",
    "df['winten2_group'] = df[cols].max(axis=1, skipna=True)\n",
    "\n",
    "print(df['winten2_group'].unique())"
   ]
  },
  {
   "cell_type": "code",
   "execution_count": 42,
   "id": "226b1ca7",
   "metadata": {},
   "outputs": [
    {
     "name": "stdout",
     "output_type": "stream",
     "text": [
      "[2 1]\n"
     ]
    }
   ],
   "source": [
    "# winten3 변수 : 작업선택의 가능성 유/무로 파생변수 생성\n",
    "cols = ['winten3_c','winten3_d', 'winten3_a', 'winten3_b', 'winten3_e']\n",
    "\n",
    "# 하나라도 1이 있으면 1, 아니면 0\n",
    "df['winten3_group'] = (df[cols].sum(axis=1) > 0).astype(int)\n",
    "\n",
    "df['winten3_group'] = df['winten3_group'].map({0: 1, 1: 2})\n",
    "\n",
    "print(df['winten3_group'].unique())"
   ]
  },
  {
   "cell_type": "code",
   "execution_count": 43,
   "id": "6ecd580f",
   "metadata": {},
   "outputs": [],
   "source": [
    "# 파생변수로 대체된 컬럼 삭제\n",
    "df = df.drop(['disc1','disc2','disc3','disc4','disc5',\n",
    "              'disc6','disc7','disc8','disc9','disc10','disc11','decla_a','decla_b','winten2_a','winten2_b', 'winten3_c','winten3_d', 'winten3_a', 'winten3_b', 'winten3_e'], axis = 1)"
   ]
  },
  {
   "cell_type": "markdown",
   "id": "98c7da79",
   "metadata": {},
   "source": [
    "### 조작적 정의에 사용된 변수 삭제"
   ]
  },
  {
   "cell_type": "code",
   "execution_count": 44,
   "id": "9a0b73e4",
   "metadata": {},
   "outputs": [],
   "source": [
    "df = df.drop(['weng1','weng2','weng3','wsituation14','wwa2','sleep2','sleep3','weng4','weng5','wsituation1','wstat4','wsituation2','wsituation12', 'wsituation10','wsituation9'], axis = 1)"
   ]
  },
  {
   "cell_type": "markdown",
   "id": "feac6cc2",
   "metadata": {},
   "source": [
    "### 널값 삭제"
   ]
  },
  {
   "cell_type": "code",
   "execution_count": 45,
   "id": "f65f56f6",
   "metadata": {},
   "outputs": [
    {
     "name": "stdout",
     "output_type": "stream",
     "text": [
      "<class 'pandas.core.frame.DataFrame'>\n",
      "RangeIndex: 14956 entries, 0 to 14955\n",
      "Columns: 172 entries, id to winten3_group\n",
      "dtypes: category(1), float64(133), int64(34), object(4)\n",
      "memory usage: 19.5+ MB\n"
     ]
    }
   ],
   "source": [
    "df.info()"
   ]
  },
  {
   "cell_type": "code",
   "execution_count": 46,
   "id": "18839dde",
   "metadata": {},
   "outputs": [],
   "source": [
    "df_new = df.dropna()"
   ]
  },
  {
   "cell_type": "code",
   "execution_count": 47,
   "id": "c5d6d46c",
   "metadata": {},
   "outputs": [
    {
     "data": {
      "text/html": [
       "<div>\n",
       "<style scoped>\n",
       "    .dataframe tbody tr th:only-of-type {\n",
       "        vertical-align: middle;\n",
       "    }\n",
       "\n",
       "    .dataframe tbody tr th {\n",
       "        vertical-align: top;\n",
       "    }\n",
       "\n",
       "    .dataframe thead th {\n",
       "        text-align: right;\n",
       "    }\n",
       "</style>\n",
       "<table border=\"1\" class=\"dataframe\">\n",
       "  <thead>\n",
       "    <tr style=\"text-align: right;\">\n",
       "      <th></th>\n",
       "      <th>id</th>\n",
       "      <th>burnout60</th>\n",
       "      <th>area</th>\n",
       "      <th>gender</th>\n",
       "      <th>wtime_length5</th>\n",
       "      <th>age_group</th>\n",
       "      <th>emp_period_group</th>\n",
       "      <th>wtime_group</th>\n",
       "      <th>compsize_group</th>\n",
       "      <th>woutside_group</th>\n",
       "      <th>...</th>\n",
       "      <th>edu</th>\n",
       "      <th>marital</th>\n",
       "      <th>children</th>\n",
       "      <th>panel_survey</th>\n",
       "      <th>heal_abs1_group</th>\n",
       "      <th>ctime_group</th>\n",
       "      <th>disc_group</th>\n",
       "      <th>decla_group</th>\n",
       "      <th>winten2_group</th>\n",
       "      <th>winten3_group</th>\n",
       "    </tr>\n",
       "  </thead>\n",
       "  <tbody>\n",
       "    <tr>\n",
       "      <th>0</th>\n",
       "      <td>1000042_1</td>\n",
       "      <td>lv1</td>\n",
       "      <td>1</td>\n",
       "      <td>1</td>\n",
       "      <td>2</td>\n",
       "      <td>4</td>\n",
       "      <td>5</td>\n",
       "      <td>2</td>\n",
       "      <td>4</td>\n",
       "      <td>0</td>\n",
       "      <td>...</td>\n",
       "      <td>5.0</td>\n",
       "      <td>1.0</td>\n",
       "      <td>1.0</td>\n",
       "      <td>2</td>\n",
       "      <td>1</td>\n",
       "      <td>1</td>\n",
       "      <td>2</td>\n",
       "      <td>2</td>\n",
       "      <td>5.0</td>\n",
       "      <td>2</td>\n",
       "    </tr>\n",
       "    <tr>\n",
       "      <th>1</th>\n",
       "      <td>1000051_1</td>\n",
       "      <td>lv2</td>\n",
       "      <td>1</td>\n",
       "      <td>1</td>\n",
       "      <td>2</td>\n",
       "      <td>3</td>\n",
       "      <td>2</td>\n",
       "      <td>2</td>\n",
       "      <td>11</td>\n",
       "      <td>0</td>\n",
       "      <td>...</td>\n",
       "      <td>6.0</td>\n",
       "      <td>2.0</td>\n",
       "      <td>2.0</td>\n",
       "      <td>2</td>\n",
       "      <td>1</td>\n",
       "      <td>1</td>\n",
       "      <td>2</td>\n",
       "      <td>2</td>\n",
       "      <td>6.0</td>\n",
       "      <td>2</td>\n",
       "    </tr>\n",
       "    <tr>\n",
       "      <th>2</th>\n",
       "      <td>1000056_1</td>\n",
       "      <td>lv1</td>\n",
       "      <td>1</td>\n",
       "      <td>1</td>\n",
       "      <td>2</td>\n",
       "      <td>3</td>\n",
       "      <td>2</td>\n",
       "      <td>2</td>\n",
       "      <td>1</td>\n",
       "      <td>0</td>\n",
       "      <td>...</td>\n",
       "      <td>5.0</td>\n",
       "      <td>2.0</td>\n",
       "      <td>2.0</td>\n",
       "      <td>2</td>\n",
       "      <td>1</td>\n",
       "      <td>1</td>\n",
       "      <td>2</td>\n",
       "      <td>2</td>\n",
       "      <td>5.0</td>\n",
       "      <td>2</td>\n",
       "    </tr>\n",
       "    <tr>\n",
       "      <th>3</th>\n",
       "      <td>1000069_1</td>\n",
       "      <td>lv1</td>\n",
       "      <td>1</td>\n",
       "      <td>1</td>\n",
       "      <td>2</td>\n",
       "      <td>3</td>\n",
       "      <td>2</td>\n",
       "      <td>2</td>\n",
       "      <td>10</td>\n",
       "      <td>0</td>\n",
       "      <td>...</td>\n",
       "      <td>6.0</td>\n",
       "      <td>1.0</td>\n",
       "      <td>1.0</td>\n",
       "      <td>2</td>\n",
       "      <td>1</td>\n",
       "      <td>2</td>\n",
       "      <td>2</td>\n",
       "      <td>2</td>\n",
       "      <td>7.0</td>\n",
       "      <td>2</td>\n",
       "    </tr>\n",
       "    <tr>\n",
       "      <th>5</th>\n",
       "      <td>1000077_1</td>\n",
       "      <td>lv1</td>\n",
       "      <td>1</td>\n",
       "      <td>1</td>\n",
       "      <td>2</td>\n",
       "      <td>3</td>\n",
       "      <td>2</td>\n",
       "      <td>2</td>\n",
       "      <td>10</td>\n",
       "      <td>0</td>\n",
       "      <td>...</td>\n",
       "      <td>6.0</td>\n",
       "      <td>1.0</td>\n",
       "      <td>2.0</td>\n",
       "      <td>2</td>\n",
       "      <td>1</td>\n",
       "      <td>1</td>\n",
       "      <td>2</td>\n",
       "      <td>2</td>\n",
       "      <td>6.0</td>\n",
       "      <td>2</td>\n",
       "    </tr>\n",
       "    <tr>\n",
       "      <th>...</th>\n",
       "      <td>...</td>\n",
       "      <td>...</td>\n",
       "      <td>...</td>\n",
       "      <td>...</td>\n",
       "      <td>...</td>\n",
       "      <td>...</td>\n",
       "      <td>...</td>\n",
       "      <td>...</td>\n",
       "      <td>...</td>\n",
       "      <td>...</td>\n",
       "      <td>...</td>\n",
       "      <td>...</td>\n",
       "      <td>...</td>\n",
       "      <td>...</td>\n",
       "      <td>...</td>\n",
       "      <td>...</td>\n",
       "      <td>...</td>\n",
       "      <td>...</td>\n",
       "      <td>...</td>\n",
       "      <td>...</td>\n",
       "      <td>...</td>\n",
       "    </tr>\n",
       "    <tr>\n",
       "      <th>14949</th>\n",
       "      <td>2009922_1</td>\n",
       "      <td>lv1</td>\n",
       "      <td>13</td>\n",
       "      <td>1</td>\n",
       "      <td>1</td>\n",
       "      <td>3</td>\n",
       "      <td>5</td>\n",
       "      <td>2</td>\n",
       "      <td>12</td>\n",
       "      <td>1</td>\n",
       "      <td>...</td>\n",
       "      <td>6.0</td>\n",
       "      <td>2.0</td>\n",
       "      <td>2.0</td>\n",
       "      <td>2</td>\n",
       "      <td>1</td>\n",
       "      <td>1</td>\n",
       "      <td>2</td>\n",
       "      <td>2</td>\n",
       "      <td>4.0</td>\n",
       "      <td>2</td>\n",
       "    </tr>\n",
       "    <tr>\n",
       "      <th>14952</th>\n",
       "      <td>2010133_1</td>\n",
       "      <td>lv2</td>\n",
       "      <td>7</td>\n",
       "      <td>2</td>\n",
       "      <td>2</td>\n",
       "      <td>4</td>\n",
       "      <td>3</td>\n",
       "      <td>2</td>\n",
       "      <td>4</td>\n",
       "      <td>0</td>\n",
       "      <td>...</td>\n",
       "      <td>5.0</td>\n",
       "      <td>2.0</td>\n",
       "      <td>2.0</td>\n",
       "      <td>2</td>\n",
       "      <td>1</td>\n",
       "      <td>1</td>\n",
       "      <td>2</td>\n",
       "      <td>2</td>\n",
       "      <td>4.0</td>\n",
       "      <td>2</td>\n",
       "    </tr>\n",
       "    <tr>\n",
       "      <th>14953</th>\n",
       "      <td>2010134_2</td>\n",
       "      <td>lv1</td>\n",
       "      <td>7</td>\n",
       "      <td>2</td>\n",
       "      <td>2</td>\n",
       "      <td>3</td>\n",
       "      <td>4</td>\n",
       "      <td>2</td>\n",
       "      <td>4</td>\n",
       "      <td>0</td>\n",
       "      <td>...</td>\n",
       "      <td>6.0</td>\n",
       "      <td>2.0</td>\n",
       "      <td>2.0</td>\n",
       "      <td>2</td>\n",
       "      <td>1</td>\n",
       "      <td>1</td>\n",
       "      <td>2</td>\n",
       "      <td>2</td>\n",
       "      <td>5.0</td>\n",
       "      <td>2</td>\n",
       "    </tr>\n",
       "    <tr>\n",
       "      <th>14954</th>\n",
       "      <td>2010137_1</td>\n",
       "      <td>lv1</td>\n",
       "      <td>7</td>\n",
       "      <td>1</td>\n",
       "      <td>2</td>\n",
       "      <td>5</td>\n",
       "      <td>4</td>\n",
       "      <td>2</td>\n",
       "      <td>4</td>\n",
       "      <td>0</td>\n",
       "      <td>...</td>\n",
       "      <td>6.0</td>\n",
       "      <td>1.0</td>\n",
       "      <td>1.0</td>\n",
       "      <td>2</td>\n",
       "      <td>1</td>\n",
       "      <td>1</td>\n",
       "      <td>2</td>\n",
       "      <td>2</td>\n",
       "      <td>5.0</td>\n",
       "      <td>2</td>\n",
       "    </tr>\n",
       "    <tr>\n",
       "      <th>14955</th>\n",
       "      <td>2010137_2</td>\n",
       "      <td>lv1</td>\n",
       "      <td>7</td>\n",
       "      <td>2</td>\n",
       "      <td>2</td>\n",
       "      <td>2</td>\n",
       "      <td>3</td>\n",
       "      <td>2</td>\n",
       "      <td>4</td>\n",
       "      <td>0</td>\n",
       "      <td>...</td>\n",
       "      <td>6.0</td>\n",
       "      <td>2.0</td>\n",
       "      <td>2.0</td>\n",
       "      <td>2</td>\n",
       "      <td>1</td>\n",
       "      <td>2</td>\n",
       "      <td>2</td>\n",
       "      <td>2</td>\n",
       "      <td>5.0</td>\n",
       "      <td>2</td>\n",
       "    </tr>\n",
       "  </tbody>\n",
       "</table>\n",
       "<p>11243 rows × 172 columns</p>\n",
       "</div>"
      ],
      "text/plain": [
       "              id burnout60  area  gender  wtime_length5  age_group  \\\n",
       "0      1000042_1       lv1     1       1              2          4   \n",
       "1      1000051_1       lv2     1       1              2          3   \n",
       "2      1000056_1       lv1     1       1              2          3   \n",
       "3      1000069_1       lv1     1       1              2          3   \n",
       "5      1000077_1       lv1     1       1              2          3   \n",
       "...          ...       ...   ...     ...            ...        ...   \n",
       "14949  2009922_1       lv1    13       1              1          3   \n",
       "14952  2010133_1       lv2     7       2              2          4   \n",
       "14953  2010134_2       lv1     7       2              2          3   \n",
       "14954  2010137_1       lv1     7       1              2          5   \n",
       "14955  2010137_2       lv1     7       2              2          2   \n",
       "\n",
       "       emp_period_group  wtime_group  compsize_group  woutside_group  ...  \\\n",
       "0                     5            2               4               0  ...   \n",
       "1                     2            2              11               0  ...   \n",
       "2                     2            2               1               0  ...   \n",
       "3                     2            2              10               0  ...   \n",
       "5                     2            2              10               0  ...   \n",
       "...                 ...          ...             ...             ...  ...   \n",
       "14949                 5            2              12               1  ...   \n",
       "14952                 3            2               4               0  ...   \n",
       "14953                 4            2               4               0  ...   \n",
       "14954                 4            2               4               0  ...   \n",
       "14955                 3            2               4               0  ...   \n",
       "\n",
       "       edu  marital  children  panel_survey  heal_abs1_group  ctime_group  \\\n",
       "0      5.0      1.0       1.0             2                1            1   \n",
       "1      6.0      2.0       2.0             2                1            1   \n",
       "2      5.0      2.0       2.0             2                1            1   \n",
       "3      6.0      1.0       1.0             2                1            2   \n",
       "5      6.0      1.0       2.0             2                1            1   \n",
       "...    ...      ...       ...           ...              ...          ...   \n",
       "14949  6.0      2.0       2.0             2                1            1   \n",
       "14952  5.0      2.0       2.0             2                1            1   \n",
       "14953  6.0      2.0       2.0             2                1            1   \n",
       "14954  6.0      1.0       1.0             2                1            1   \n",
       "14955  6.0      2.0       2.0             2                1            2   \n",
       "\n",
       "       disc_group  decla_group  winten2_group  winten3_group  \n",
       "0               2            2            5.0              2  \n",
       "1               2            2            6.0              2  \n",
       "2               2            2            5.0              2  \n",
       "3               2            2            7.0              2  \n",
       "5               2            2            6.0              2  \n",
       "...           ...          ...            ...            ...  \n",
       "14949           2            2            4.0              2  \n",
       "14952           2            2            4.0              2  \n",
       "14953           2            2            5.0              2  \n",
       "14954           2            2            5.0              2  \n",
       "14955           2            2            5.0              2  \n",
       "\n",
       "[11243 rows x 172 columns]"
      ]
     },
     "execution_count": 47,
     "metadata": {},
     "output_type": "execute_result"
    }
   ],
   "source": [
    "df_new"
   ]
  },
  {
   "cell_type": "markdown",
   "id": "06bdcb52",
   "metadata": {},
   "source": [
    "### AutoML"
   ]
  },
  {
   "cell_type": "code",
   "execution_count": 48,
   "id": "c4043cf3",
   "metadata": {},
   "outputs": [
    {
     "data": {
      "text/plain": [
       "array(['lv1', 'lv2', 'lv3'], dtype=object)"
      ]
     },
     "execution_count": 48,
     "metadata": {},
     "output_type": "execute_result"
    }
   ],
   "source": [
    "df_new['burnout60'].unique()"
   ]
  },
  {
   "cell_type": "code",
   "execution_count": 49,
   "id": "5724f1e1",
   "metadata": {},
   "outputs": [
    {
     "name": "stderr",
     "output_type": "stream",
     "text": [
      "C:\\Users\\user\\AppData\\Local\\Temp\\ipykernel_10308\\1668657739.py:2: SettingWithCopyWarning: \n",
      "A value is trying to be set on a copy of a slice from a DataFrame.\n",
      "Try using .loc[row_indexer,col_indexer] = value instead\n",
      "\n",
      "See the caveats in the documentation: https://pandas.pydata.org/pandas-docs/stable/user_guide/indexing.html#returning-a-view-versus-a-copy\n",
      "  df_new['burnout60'] = df_new['burnout60'].replace(\"lv1\", 1)\n",
      "C:\\Users\\user\\AppData\\Local\\Temp\\ipykernel_10308\\1668657739.py:3: SettingWithCopyWarning: \n",
      "A value is trying to be set on a copy of a slice from a DataFrame.\n",
      "Try using .loc[row_indexer,col_indexer] = value instead\n",
      "\n",
      "See the caveats in the documentation: https://pandas.pydata.org/pandas-docs/stable/user_guide/indexing.html#returning-a-view-versus-a-copy\n",
      "  df_new['burnout60'] = df_new['burnout60'].replace(\"lv2\", 2)\n",
      "C:\\Users\\user\\AppData\\Local\\Temp\\ipykernel_10308\\1668657739.py:4: SettingWithCopyWarning: \n",
      "A value is trying to be set on a copy of a slice from a DataFrame.\n",
      "Try using .loc[row_indexer,col_indexer] = value instead\n",
      "\n",
      "See the caveats in the documentation: https://pandas.pydata.org/pandas-docs/stable/user_guide/indexing.html#returning-a-view-versus-a-copy\n",
      "  df_new['burnout60'] = df_new['burnout60'].replace(\"lv3\", 3)\n"
     ]
    },
    {
     "data": {
      "text/plain": [
       "array([1, 2, 3], dtype=int64)"
      ]
     },
     "execution_count": 49,
     "metadata": {},
     "output_type": "execute_result"
    }
   ],
   "source": [
    "# 타겟 클래스번호 전처리\n",
    "df_new['burnout60'] = df_new['burnout60'].replace(\"lv1\", 1)\n",
    "df_new['burnout60'] = df_new['burnout60'].replace(\"lv2\", 2)\n",
    "df_new['burnout60'] = df_new['burnout60'].replace(\"lv3\", 3)\n",
    "df_new['burnout60'].unique()"
   ]
  },
  {
   "cell_type": "code",
   "execution_count": 50,
   "id": "385ad3b6",
   "metadata": {},
   "outputs": [
    {
     "name": "stdout",
     "output_type": "stream",
     "text": [
      "0        1\n",
      "1        2\n",
      "2        1\n",
      "3        1\n",
      "5        1\n",
      "        ..\n",
      "14949    1\n",
      "14952    2\n",
      "14953    1\n",
      "14954    1\n",
      "14955    1\n",
      "Name: burnout60, Length: 11243, dtype: category\n",
      "Categories (3, int64): [1, 2, 3]\n"
     ]
    },
    {
     "name": "stderr",
     "output_type": "stream",
     "text": [
      "C:\\Users\\user\\AppData\\Local\\Temp\\ipykernel_10308\\2922573805.py:1: SettingWithCopyWarning: \n",
      "A value is trying to be set on a copy of a slice from a DataFrame.\n",
      "Try using .loc[row_indexer,col_indexer] = value instead\n",
      "\n",
      "See the caveats in the documentation: https://pandas.pydata.org/pandas-docs/stable/user_guide/indexing.html#returning-a-view-versus-a-copy\n",
      "  df_new['burnout60'] = df_new['burnout60'].astype('category')\n"
     ]
    }
   ],
   "source": [
    "df_new['burnout60'] = df_new['burnout60'].astype('category')\n",
    "print(df_new[\"burnout60\"])"
   ]
  },
  {
   "cell_type": "code",
   "execution_count": 51,
   "id": "5763ed07",
   "metadata": {},
   "outputs": [],
   "source": [
    "# categories.values"
   ]
  },
  {
   "cell_type": "code",
   "execution_count": 52,
   "id": "7f2913fa",
   "metadata": {},
   "outputs": [],
   "source": [
    "categories = df_new.drop(columns=['id', 'burnout60']).columns"
   ]
  },
  {
   "cell_type": "code",
   "execution_count": 53,
   "id": "46d25c6e",
   "metadata": {},
   "outputs": [],
   "source": [
    "categories = categories.tolist()"
   ]
  },
  {
   "cell_type": "code",
   "execution_count": 54,
   "id": "818bfb7e",
   "metadata": {},
   "outputs": [
    {
     "data": {
      "text/html": [
       "<style type=\"text/css\">\n",
       "#T_5dba8_row9_col1 {\n",
       "  background-color: lightgreen;\n",
       "}\n",
       "</style>\n",
       "<table id=\"T_5dba8\">\n",
       "  <thead>\n",
       "    <tr>\n",
       "      <th class=\"blank level0\" >&nbsp;</th>\n",
       "      <th id=\"T_5dba8_level0_col0\" class=\"col_heading level0 col0\" >Description</th>\n",
       "      <th id=\"T_5dba8_level0_col1\" class=\"col_heading level0 col1\" >Value</th>\n",
       "    </tr>\n",
       "  </thead>\n",
       "  <tbody>\n",
       "    <tr>\n",
       "      <th id=\"T_5dba8_level0_row0\" class=\"row_heading level0 row0\" >0</th>\n",
       "      <td id=\"T_5dba8_row0_col0\" class=\"data row0 col0\" >Session id</td>\n",
       "      <td id=\"T_5dba8_row0_col1\" class=\"data row0 col1\" >1234</td>\n",
       "    </tr>\n",
       "    <tr>\n",
       "      <th id=\"T_5dba8_level0_row1\" class=\"row_heading level0 row1\" >1</th>\n",
       "      <td id=\"T_5dba8_row1_col0\" class=\"data row1 col0\" >Target</td>\n",
       "      <td id=\"T_5dba8_row1_col1\" class=\"data row1 col1\" >burnout60</td>\n",
       "    </tr>\n",
       "    <tr>\n",
       "      <th id=\"T_5dba8_level0_row2\" class=\"row_heading level0 row2\" >2</th>\n",
       "      <td id=\"T_5dba8_row2_col0\" class=\"data row2 col0\" >Target type</td>\n",
       "      <td id=\"T_5dba8_row2_col1\" class=\"data row2 col1\" >Multiclass</td>\n",
       "    </tr>\n",
       "    <tr>\n",
       "      <th id=\"T_5dba8_level0_row3\" class=\"row_heading level0 row3\" >3</th>\n",
       "      <td id=\"T_5dba8_row3_col0\" class=\"data row3 col0\" >Target mapping</td>\n",
       "      <td id=\"T_5dba8_row3_col1\" class=\"data row3 col1\" >1: 0, 2: 1, 3: 2</td>\n",
       "    </tr>\n",
       "    <tr>\n",
       "      <th id=\"T_5dba8_level0_row4\" class=\"row_heading level0 row4\" >4</th>\n",
       "      <td id=\"T_5dba8_row4_col0\" class=\"data row4 col0\" >Original data shape</td>\n",
       "      <td id=\"T_5dba8_row4_col1\" class=\"data row4 col1\" >(11243, 172)</td>\n",
       "    </tr>\n",
       "    <tr>\n",
       "      <th id=\"T_5dba8_level0_row5\" class=\"row_heading level0 row5\" >5</th>\n",
       "      <td id=\"T_5dba8_row5_col0\" class=\"data row5 col0\" >Transformed data shape</td>\n",
       "      <td id=\"T_5dba8_row5_col1\" class=\"data row5 col1\" >(11243, 554)</td>\n",
       "    </tr>\n",
       "    <tr>\n",
       "      <th id=\"T_5dba8_level0_row6\" class=\"row_heading level0 row6\" >6</th>\n",
       "      <td id=\"T_5dba8_row6_col0\" class=\"data row6 col0\" >Transformed train set shape</td>\n",
       "      <td id=\"T_5dba8_row6_col1\" class=\"data row6 col1\" >(8994, 554)</td>\n",
       "    </tr>\n",
       "    <tr>\n",
       "      <th id=\"T_5dba8_level0_row7\" class=\"row_heading level0 row7\" >7</th>\n",
       "      <td id=\"T_5dba8_row7_col0\" class=\"data row7 col0\" >Transformed test set shape</td>\n",
       "      <td id=\"T_5dba8_row7_col1\" class=\"data row7 col1\" >(2249, 554)</td>\n",
       "    </tr>\n",
       "    <tr>\n",
       "      <th id=\"T_5dba8_level0_row8\" class=\"row_heading level0 row8\" >8</th>\n",
       "      <td id=\"T_5dba8_row8_col0\" class=\"data row8 col0\" >Categorical features</td>\n",
       "      <td id=\"T_5dba8_row8_col1\" class=\"data row8 col1\" >170</td>\n",
       "    </tr>\n",
       "    <tr>\n",
       "      <th id=\"T_5dba8_level0_row9\" class=\"row_heading level0 row9\" >9</th>\n",
       "      <td id=\"T_5dba8_row9_col0\" class=\"data row9 col0\" >Preprocess</td>\n",
       "      <td id=\"T_5dba8_row9_col1\" class=\"data row9 col1\" >True</td>\n",
       "    </tr>\n",
       "    <tr>\n",
       "      <th id=\"T_5dba8_level0_row10\" class=\"row_heading level0 row10\" >10</th>\n",
       "      <td id=\"T_5dba8_row10_col0\" class=\"data row10 col0\" >Imputation type</td>\n",
       "      <td id=\"T_5dba8_row10_col1\" class=\"data row10 col1\" >simple</td>\n",
       "    </tr>\n",
       "    <tr>\n",
       "      <th id=\"T_5dba8_level0_row11\" class=\"row_heading level0 row11\" >11</th>\n",
       "      <td id=\"T_5dba8_row11_col0\" class=\"data row11 col0\" >Numeric imputation</td>\n",
       "      <td id=\"T_5dba8_row11_col1\" class=\"data row11 col1\" >mean</td>\n",
       "    </tr>\n",
       "    <tr>\n",
       "      <th id=\"T_5dba8_level0_row12\" class=\"row_heading level0 row12\" >12</th>\n",
       "      <td id=\"T_5dba8_row12_col0\" class=\"data row12 col0\" >Categorical imputation</td>\n",
       "      <td id=\"T_5dba8_row12_col1\" class=\"data row12 col1\" >mode</td>\n",
       "    </tr>\n",
       "    <tr>\n",
       "      <th id=\"T_5dba8_level0_row13\" class=\"row_heading level0 row13\" >13</th>\n",
       "      <td id=\"T_5dba8_row13_col0\" class=\"data row13 col0\" >Maximum one-hot encoding</td>\n",
       "      <td id=\"T_5dba8_row13_col1\" class=\"data row13 col1\" >25</td>\n",
       "    </tr>\n",
       "    <tr>\n",
       "      <th id=\"T_5dba8_level0_row14\" class=\"row_heading level0 row14\" >14</th>\n",
       "      <td id=\"T_5dba8_row14_col0\" class=\"data row14 col0\" >Encoding method</td>\n",
       "      <td id=\"T_5dba8_row14_col1\" class=\"data row14 col1\" >None</td>\n",
       "    </tr>\n",
       "    <tr>\n",
       "      <th id=\"T_5dba8_level0_row15\" class=\"row_heading level0 row15\" >15</th>\n",
       "      <td id=\"T_5dba8_row15_col0\" class=\"data row15 col0\" >Fold Generator</td>\n",
       "      <td id=\"T_5dba8_row15_col1\" class=\"data row15 col1\" >StratifiedKFold</td>\n",
       "    </tr>\n",
       "    <tr>\n",
       "      <th id=\"T_5dba8_level0_row16\" class=\"row_heading level0 row16\" >16</th>\n",
       "      <td id=\"T_5dba8_row16_col0\" class=\"data row16 col0\" >Fold Number</td>\n",
       "      <td id=\"T_5dba8_row16_col1\" class=\"data row16 col1\" >5</td>\n",
       "    </tr>\n",
       "    <tr>\n",
       "      <th id=\"T_5dba8_level0_row17\" class=\"row_heading level0 row17\" >17</th>\n",
       "      <td id=\"T_5dba8_row17_col0\" class=\"data row17 col0\" >CPU Jobs</td>\n",
       "      <td id=\"T_5dba8_row17_col1\" class=\"data row17 col1\" >-1</td>\n",
       "    </tr>\n",
       "    <tr>\n",
       "      <th id=\"T_5dba8_level0_row18\" class=\"row_heading level0 row18\" >18</th>\n",
       "      <td id=\"T_5dba8_row18_col0\" class=\"data row18 col0\" >Use GPU</td>\n",
       "      <td id=\"T_5dba8_row18_col1\" class=\"data row18 col1\" >False</td>\n",
       "    </tr>\n",
       "    <tr>\n",
       "      <th id=\"T_5dba8_level0_row19\" class=\"row_heading level0 row19\" >19</th>\n",
       "      <td id=\"T_5dba8_row19_col0\" class=\"data row19 col0\" >Log Experiment</td>\n",
       "      <td id=\"T_5dba8_row19_col1\" class=\"data row19 col1\" >False</td>\n",
       "    </tr>\n",
       "    <tr>\n",
       "      <th id=\"T_5dba8_level0_row20\" class=\"row_heading level0 row20\" >20</th>\n",
       "      <td id=\"T_5dba8_row20_col0\" class=\"data row20 col0\" >Experiment Name</td>\n",
       "      <td id=\"T_5dba8_row20_col1\" class=\"data row20 col1\" >clf-default-name</td>\n",
       "    </tr>\n",
       "    <tr>\n",
       "      <th id=\"T_5dba8_level0_row21\" class=\"row_heading level0 row21\" >21</th>\n",
       "      <td id=\"T_5dba8_row21_col0\" class=\"data row21 col0\" >USI</td>\n",
       "      <td id=\"T_5dba8_row21_col1\" class=\"data row21 col1\" >9c61</td>\n",
       "    </tr>\n",
       "  </tbody>\n",
       "</table>\n"
      ],
      "text/plain": [
       "<pandas.io.formats.style.Styler at 0x26d5f267bb0>"
      ]
     },
     "metadata": {},
     "output_type": "display_data"
    }
   ],
   "source": [
    "from pycaret.classification import *\n",
    "from sklearn.preprocessing import *\n",
    "# import imblearn\n",
    "setup_clf = setup(df_new, target = 'burnout60',\n",
    "                  train_size = 0.8,\n",
    "                  # ignore_features = ['pclass', 'adult_male', 'deck', 'embark_town', 'alive'],\n",
    "                  # numeric_features = [],\n",
    "                  categorical_features = categories,\n",
    "                  # encoding_method = None,\n",
    "                #   normalize = True,\n",
    "                #   normalize_method = 'zscore',\n",
    "                  # remove_outliers = True,\n",
    "                #   feature_selection = True,\n",
    "                  # feature_selection_method = 'classic',\n",
    "                  # fix_imbalance = True,\n",
    "                  # fix_imbalance_method = 'SMOTE',\n",
    "                  fold=5,\n",
    "                  n_jobs = - 1,\n",
    "                  session_id = 1234)"
   ]
  },
  {
   "cell_type": "code",
   "execution_count": 55,
   "id": "20e36947",
   "metadata": {},
   "outputs": [
    {
     "name": "stdout",
     "output_type": "stream",
     "text": [
      "              id  area_15.0  area_9.0  area_1.0  area_2.0  area_5.0  \\\n",
      "13039  1263166_1        1.0       0.0       0.0       0.0       0.0   \n",
      "8216   1146807_1        0.0       1.0       0.0       0.0       0.0   \n",
      "1529   1025402_2        0.0       0.0       1.0       0.0       0.0   \n",
      "1971   1034083_1        0.0       0.0       1.0       0.0       0.0   \n",
      "2748   1046201_1        0.0       0.0       0.0       1.0       0.0   \n",
      "...          ...        ...       ...       ...       ...       ...   \n",
      "12863  1254489_1        0.0       0.0       0.0       0.0       0.0   \n",
      "6917   1125201_1        0.0       0.0       0.0       0.0       0.0   \n",
      "5985   1103941_1        0.0       0.0       0.0       0.0       1.0   \n",
      "12451  1243720_1        0.0       0.0       0.0       0.0       0.0   \n",
      "10791  1192682_1        0.0       0.0       0.0       0.0       0.0   \n",
      "\n",
      "       area_10.0  area_12.0  area_3.0  area_17.0  ...  disc_group  \\\n",
      "13039        0.0        0.0       0.0        0.0  ...         1.0   \n",
      "8216         0.0        0.0       0.0        0.0  ...         1.0   \n",
      "1529         0.0        0.0       0.0        0.0  ...         1.0   \n",
      "1971         0.0        0.0       0.0        0.0  ...         1.0   \n",
      "2748         0.0        0.0       0.0        0.0  ...         1.0   \n",
      "...          ...        ...       ...        ...  ...         ...   \n",
      "12863        0.0        0.0       0.0        0.0  ...         1.0   \n",
      "6917         0.0        0.0       0.0        0.0  ...         1.0   \n",
      "5985         0.0        0.0       0.0        0.0  ...         1.0   \n",
      "12451        0.0        0.0       0.0        0.0  ...         1.0   \n",
      "10791        1.0        0.0       0.0        0.0  ...         1.0   \n",
      "\n",
      "       decla_group_2.0  winten2_group_6.0  winten2_group_4.0  \\\n",
      "13039              1.0                1.0                0.0   \n",
      "8216               1.0                1.0                0.0   \n",
      "1529               1.0                0.0                1.0   \n",
      "1971               1.0                0.0                0.0   \n",
      "2748               1.0                0.0                0.0   \n",
      "...                ...                ...                ...   \n",
      "12863              1.0                1.0                0.0   \n",
      "6917               1.0                0.0                0.0   \n",
      "5985               1.0                0.0                0.0   \n",
      "12451              1.0                1.0                0.0   \n",
      "10791              1.0                0.0                0.0   \n",
      "\n",
      "       winten2_group_3.0  winten2_group_2.0  winten2_group_5.0  \\\n",
      "13039                0.0                0.0                0.0   \n",
      "8216                 0.0                0.0                0.0   \n",
      "1529                 0.0                0.0                0.0   \n",
      "1971                 1.0                0.0                0.0   \n",
      "2748                 0.0                1.0                0.0   \n",
      "...                  ...                ...                ...   \n",
      "12863                0.0                0.0                0.0   \n",
      "6917                 0.0                0.0                0.0   \n",
      "5985                 1.0                0.0                0.0   \n",
      "12451                0.0                0.0                0.0   \n",
      "10791                0.0                0.0                0.0   \n",
      "\n",
      "       winten2_group_7.0  winten2_group_1.0  winten3_group_2.0  \n",
      "13039                0.0                0.0                1.0  \n",
      "8216                 0.0                0.0                1.0  \n",
      "1529                 0.0                0.0                1.0  \n",
      "1971                 0.0                0.0                1.0  \n",
      "2748                 0.0                0.0                1.0  \n",
      "...                  ...                ...                ...  \n",
      "12863                0.0                0.0                1.0  \n",
      "6917                 1.0                0.0                1.0  \n",
      "5985                 0.0                0.0                1.0  \n",
      "12451                0.0                0.0                1.0  \n",
      "10791                1.0                0.0                1.0  \n",
      "\n",
      "[8994 rows x 553 columns]\n"
     ]
    }
   ],
   "source": [
    "X_train_transformed = get_config('X_train_transformed')\n",
    "print(X_train_transformed)"
   ]
  },
  {
   "cell_type": "code",
   "execution_count": 56,
   "id": "927b87ae",
   "metadata": {},
   "outputs": [
    {
     "data": {
      "text/html": [],
      "text/plain": [
       "<IPython.core.display.HTML object>"
      ]
     },
     "metadata": {},
     "output_type": "display_data"
    },
    {
     "data": {
      "text/html": [
       "<style type=\"text/css\">\n",
       "#T_0165d th {\n",
       "  text-align: left;\n",
       "}\n",
       "#T_0165d_row0_col0, #T_0165d_row0_col1, #T_0165d_row0_col3, #T_0165d_row1_col0, #T_0165d_row1_col1, #T_0165d_row1_col2, #T_0165d_row1_col3, #T_0165d_row1_col4, #T_0165d_row1_col5, #T_0165d_row1_col6, #T_0165d_row1_col7, #T_0165d_row2_col0, #T_0165d_row2_col1, #T_0165d_row2_col2, #T_0165d_row2_col3, #T_0165d_row2_col4, #T_0165d_row2_col5, #T_0165d_row2_col6, #T_0165d_row2_col7, #T_0165d_row3_col0, #T_0165d_row3_col1, #T_0165d_row3_col2, #T_0165d_row3_col3, #T_0165d_row3_col4, #T_0165d_row3_col5, #T_0165d_row3_col6, #T_0165d_row3_col7, #T_0165d_row4_col0, #T_0165d_row4_col1, #T_0165d_row4_col2, #T_0165d_row4_col3, #T_0165d_row4_col4, #T_0165d_row4_col5, #T_0165d_row4_col6, #T_0165d_row4_col7, #T_0165d_row5_col0, #T_0165d_row5_col1, #T_0165d_row5_col2, #T_0165d_row5_col3, #T_0165d_row5_col4, #T_0165d_row5_col5, #T_0165d_row5_col6, #T_0165d_row5_col7, #T_0165d_row6_col0, #T_0165d_row6_col1, #T_0165d_row6_col2, #T_0165d_row6_col3, #T_0165d_row6_col4, #T_0165d_row6_col5, #T_0165d_row6_col6, #T_0165d_row6_col7, #T_0165d_row7_col0, #T_0165d_row7_col2, #T_0165d_row7_col4, #T_0165d_row7_col5, #T_0165d_row7_col6, #T_0165d_row7_col7 {\n",
       "  text-align: left;\n",
       "}\n",
       "#T_0165d_row0_col2, #T_0165d_row0_col4, #T_0165d_row0_col5, #T_0165d_row0_col6, #T_0165d_row0_col7, #T_0165d_row7_col1, #T_0165d_row7_col3 {\n",
       "  text-align: left;\n",
       "  background-color: yellow;\n",
       "}\n",
       "#T_0165d_row0_col8, #T_0165d_row2_col8, #T_0165d_row3_col8, #T_0165d_row4_col8, #T_0165d_row5_col8, #T_0165d_row6_col8, #T_0165d_row7_col8 {\n",
       "  text-align: left;\n",
       "  background-color: lightgrey;\n",
       "}\n",
       "#T_0165d_row1_col8 {\n",
       "  text-align: left;\n",
       "  background-color: yellow;\n",
       "  background-color: lightgrey;\n",
       "}\n",
       "</style>\n",
       "<table id=\"T_0165d\">\n",
       "  <thead>\n",
       "    <tr>\n",
       "      <th class=\"blank level0\" >&nbsp;</th>\n",
       "      <th id=\"T_0165d_level0_col0\" class=\"col_heading level0 col0\" >Model</th>\n",
       "      <th id=\"T_0165d_level0_col1\" class=\"col_heading level0 col1\" >Accuracy</th>\n",
       "      <th id=\"T_0165d_level0_col2\" class=\"col_heading level0 col2\" >AUC</th>\n",
       "      <th id=\"T_0165d_level0_col3\" class=\"col_heading level0 col3\" >Recall</th>\n",
       "      <th id=\"T_0165d_level0_col4\" class=\"col_heading level0 col4\" >Prec.</th>\n",
       "      <th id=\"T_0165d_level0_col5\" class=\"col_heading level0 col5\" >F1</th>\n",
       "      <th id=\"T_0165d_level0_col6\" class=\"col_heading level0 col6\" >Kappa</th>\n",
       "      <th id=\"T_0165d_level0_col7\" class=\"col_heading level0 col7\" >MCC</th>\n",
       "      <th id=\"T_0165d_level0_col8\" class=\"col_heading level0 col8\" >TT (Sec)</th>\n",
       "    </tr>\n",
       "  </thead>\n",
       "  <tbody>\n",
       "    <tr>\n",
       "      <th id=\"T_0165d_level0_row0\" class=\"row_heading level0 row0\" >lightgbm</th>\n",
       "      <td id=\"T_0165d_row0_col0\" class=\"data row0 col0\" >Light Gradient Boosting Machine</td>\n",
       "      <td id=\"T_0165d_row0_col1\" class=\"data row0 col1\" >0.8765</td>\n",
       "      <td id=\"T_0165d_row0_col2\" class=\"data row0 col2\" >0.8756</td>\n",
       "      <td id=\"T_0165d_row0_col3\" class=\"data row0 col3\" >0.8765</td>\n",
       "      <td id=\"T_0165d_row0_col4\" class=\"data row0 col4\" >0.8526</td>\n",
       "      <td id=\"T_0165d_row0_col5\" class=\"data row0 col5\" >0.8551</td>\n",
       "      <td id=\"T_0165d_row0_col6\" class=\"data row0 col6\" >0.3722</td>\n",
       "      <td id=\"T_0165d_row0_col7\" class=\"data row0 col7\" >0.4011</td>\n",
       "      <td id=\"T_0165d_row0_col8\" class=\"data row0 col8\" >3.0640</td>\n",
       "    </tr>\n",
       "    <tr>\n",
       "      <th id=\"T_0165d_level0_row1\" class=\"row_heading level0 row1\" >rf</th>\n",
       "      <td id=\"T_0165d_row1_col0\" class=\"data row1 col0\" >Random Forest Classifier</td>\n",
       "      <td id=\"T_0165d_row1_col1\" class=\"data row1 col1\" >0.8618</td>\n",
       "      <td id=\"T_0165d_row1_col2\" class=\"data row1 col2\" >0.8593</td>\n",
       "      <td id=\"T_0165d_row1_col3\" class=\"data row1 col3\" >0.8618</td>\n",
       "      <td id=\"T_0165d_row1_col4\" class=\"data row1 col4\" >0.8082</td>\n",
       "      <td id=\"T_0165d_row1_col5\" class=\"data row1 col5\" >0.8105</td>\n",
       "      <td id=\"T_0165d_row1_col6\" class=\"data row1 col6\" >0.1301</td>\n",
       "      <td id=\"T_0165d_row1_col7\" class=\"data row1 col7\" >0.2104</td>\n",
       "      <td id=\"T_0165d_row1_col8\" class=\"data row1 col8\" >1.0730</td>\n",
       "    </tr>\n",
       "    <tr>\n",
       "      <th id=\"T_0165d_level0_row2\" class=\"row_heading level0 row2\" >et</th>\n",
       "      <td id=\"T_0165d_row2_col0\" class=\"data row2 col0\" >Extra Trees Classifier</td>\n",
       "      <td id=\"T_0165d_row2_col1\" class=\"data row2 col1\" >0.8635</td>\n",
       "      <td id=\"T_0165d_row2_col2\" class=\"data row2 col2\" >0.8578</td>\n",
       "      <td id=\"T_0165d_row2_col3\" class=\"data row2 col3\" >0.8635</td>\n",
       "      <td id=\"T_0165d_row2_col4\" class=\"data row2 col4\" >0.8139</td>\n",
       "      <td id=\"T_0165d_row2_col5\" class=\"data row2 col5\" >0.8163</td>\n",
       "      <td id=\"T_0165d_row2_col6\" class=\"data row2 col6\" >0.1642</td>\n",
       "      <td id=\"T_0165d_row2_col7\" class=\"data row2 col7\" >0.2390</td>\n",
       "      <td id=\"T_0165d_row2_col8\" class=\"data row2 col8\" >1.4310</td>\n",
       "    </tr>\n",
       "    <tr>\n",
       "      <th id=\"T_0165d_level0_row3\" class=\"row_heading level0 row3\" >knn</th>\n",
       "      <td id=\"T_0165d_row3_col0\" class=\"data row3 col0\" >K Neighbors Classifier</td>\n",
       "      <td id=\"T_0165d_row3_col1\" class=\"data row3 col1\" >0.8418</td>\n",
       "      <td id=\"T_0165d_row3_col2\" class=\"data row3 col2\" >0.6810</td>\n",
       "      <td id=\"T_0165d_row3_col3\" class=\"data row3 col3\" >0.8418</td>\n",
       "      <td id=\"T_0165d_row3_col4\" class=\"data row3 col4\" >0.7901</td>\n",
       "      <td id=\"T_0165d_row3_col5\" class=\"data row3 col5\" >0.8060</td>\n",
       "      <td id=\"T_0165d_row3_col6\" class=\"data row3 col6\" >0.1281</td>\n",
       "      <td id=\"T_0165d_row3_col7\" class=\"data row3 col7\" >0.1501</td>\n",
       "      <td id=\"T_0165d_row3_col8\" class=\"data row3 col8\" >1.6820</td>\n",
       "    </tr>\n",
       "    <tr>\n",
       "      <th id=\"T_0165d_level0_row4\" class=\"row_heading level0 row4\" >dt</th>\n",
       "      <td id=\"T_0165d_row4_col0\" class=\"data row4 col0\" >Decision Tree Classifier</td>\n",
       "      <td id=\"T_0165d_row4_col1\" class=\"data row4 col1\" >0.7982</td>\n",
       "      <td id=\"T_0165d_row4_col2\" class=\"data row4 col2\" >0.6335</td>\n",
       "      <td id=\"T_0165d_row4_col3\" class=\"data row4 col3\" >0.7982</td>\n",
       "      <td id=\"T_0165d_row4_col4\" class=\"data row4 col4\" >0.8054</td>\n",
       "      <td id=\"T_0165d_row4_col5\" class=\"data row4 col5\" >0.8016</td>\n",
       "      <td id=\"T_0165d_row4_col6\" class=\"data row4 col6\" >0.2258</td>\n",
       "      <td id=\"T_0165d_row4_col7\" class=\"data row4 col7\" >0.2262</td>\n",
       "      <td id=\"T_0165d_row4_col8\" class=\"data row4 col8\" >1.2130</td>\n",
       "    </tr>\n",
       "    <tr>\n",
       "      <th id=\"T_0165d_level0_row5\" class=\"row_heading level0 row5\" >dummy</th>\n",
       "      <td id=\"T_0165d_row5_col0\" class=\"data row5 col0\" >Dummy Classifier</td>\n",
       "      <td id=\"T_0165d_row5_col1\" class=\"data row5 col1\" >0.8553</td>\n",
       "      <td id=\"T_0165d_row5_col2\" class=\"data row5 col2\" >0.5000</td>\n",
       "      <td id=\"T_0165d_row5_col3\" class=\"data row5 col3\" >0.8553</td>\n",
       "      <td id=\"T_0165d_row5_col4\" class=\"data row5 col4\" >0.7316</td>\n",
       "      <td id=\"T_0165d_row5_col5\" class=\"data row5 col5\" >0.7887</td>\n",
       "      <td id=\"T_0165d_row5_col6\" class=\"data row5 col6\" >0.0000</td>\n",
       "      <td id=\"T_0165d_row5_col7\" class=\"data row5 col7\" >0.0000</td>\n",
       "      <td id=\"T_0165d_row5_col8\" class=\"data row5 col8\" >1.1370</td>\n",
       "    </tr>\n",
       "    <tr>\n",
       "      <th id=\"T_0165d_level0_row6\" class=\"row_heading level0 row6\" >ada</th>\n",
       "      <td id=\"T_0165d_row6_col0\" class=\"data row6 col0\" >Ada Boost Classifier</td>\n",
       "      <td id=\"T_0165d_row6_col1\" class=\"data row6 col1\" >0.8696</td>\n",
       "      <td id=\"T_0165d_row6_col2\" class=\"data row6 col2\" >0.0000</td>\n",
       "      <td id=\"T_0165d_row6_col3\" class=\"data row6 col3\" >0.8696</td>\n",
       "      <td id=\"T_0165d_row6_col4\" class=\"data row6 col4\" >0.8407</td>\n",
       "      <td id=\"T_0165d_row6_col5\" class=\"data row6 col5\" >0.8469</td>\n",
       "      <td id=\"T_0165d_row6_col6\" class=\"data row6 col6\" >0.3377</td>\n",
       "      <td id=\"T_0165d_row6_col7\" class=\"data row6 col7\" >0.3649</td>\n",
       "      <td id=\"T_0165d_row6_col8\" class=\"data row6 col8\" >1.9980</td>\n",
       "    </tr>\n",
       "    <tr>\n",
       "      <th id=\"T_0165d_level0_row7\" class=\"row_heading level0 row7\" >gbc</th>\n",
       "      <td id=\"T_0165d_row7_col0\" class=\"data row7 col0\" >Gradient Boosting Classifier</td>\n",
       "      <td id=\"T_0165d_row7_col1\" class=\"data row7 col1\" >0.8766</td>\n",
       "      <td id=\"T_0165d_row7_col2\" class=\"data row7 col2\" >0.0000</td>\n",
       "      <td id=\"T_0165d_row7_col3\" class=\"data row7 col3\" >0.8766</td>\n",
       "      <td id=\"T_0165d_row7_col4\" class=\"data row7 col4\" >0.8501</td>\n",
       "      <td id=\"T_0165d_row7_col5\" class=\"data row7 col5\" >0.8532</td>\n",
       "      <td id=\"T_0165d_row7_col6\" class=\"data row7 col6\" >0.3612</td>\n",
       "      <td id=\"T_0165d_row7_col7\" class=\"data row7 col7\" >0.3956</td>\n",
       "      <td id=\"T_0165d_row7_col8\" class=\"data row7 col8\" >2.8520</td>\n",
       "    </tr>\n",
       "  </tbody>\n",
       "</table>\n"
      ],
      "text/plain": [
       "<pandas.io.formats.style.Styler at 0x26d5ecc6cb0>"
      ]
     },
     "metadata": {},
     "output_type": "display_data"
    },
    {
     "data": {
      "text/html": [],
      "text/plain": [
       "<IPython.core.display.HTML object>"
      ]
     },
     "metadata": {},
     "output_type": "display_data"
    }
   ],
   "source": [
    "best = compare_models(fold=10, sort='AUC')"
   ]
  },
  {
   "cell_type": "code",
   "execution_count": 57,
   "id": "167e6f9e",
   "metadata": {},
   "outputs": [
    {
     "name": "stdout",
     "output_type": "stream",
     "text": [
      "Requirement already satisfied: lightgbm in c:\\users\\user\\anaconda3\\envs\\python310\\lib\\site-packages (4.6.0)\n",
      "Requirement already satisfied: numpy>=1.17.0 in c:\\users\\user\\anaconda3\\envs\\python310\\lib\\site-packages (from lightgbm) (1.26.4)\n",
      "Requirement already satisfied: scipy in c:\\users\\user\\anaconda3\\envs\\python310\\lib\\site-packages (from lightgbm) (1.11.4)\n"
     ]
    }
   ],
   "source": [
    "!pip install lightgbm"
   ]
  },
  {
   "cell_type": "code",
   "execution_count": 58,
   "id": "bc973104",
   "metadata": {},
   "outputs": [
    {
     "name": "stdout",
     "output_type": "stream",
     "text": [
      "4.6.0\n"
     ]
    }
   ],
   "source": [
    "import lightgbm as lgb\n",
    "print(lgb.__version__)"
   ]
  },
  {
   "cell_type": "code",
   "execution_count": 59,
   "id": "324365e5",
   "metadata": {},
   "outputs": [
    {
     "data": {
      "text/html": [],
      "text/plain": [
       "<IPython.core.display.HTML object>"
      ]
     },
     "metadata": {},
     "output_type": "display_data"
    },
    {
     "data": {
      "text/html": [
       "<style type=\"text/css\">\n",
       "#T_9b054_row5_col0, #T_9b054_row5_col1, #T_9b054_row5_col2, #T_9b054_row5_col3, #T_9b054_row5_col4, #T_9b054_row5_col5, #T_9b054_row5_col6 {\n",
       "  background: yellow;\n",
       "}\n",
       "</style>\n",
       "<table id=\"T_9b054\">\n",
       "  <thead>\n",
       "    <tr>\n",
       "      <th class=\"blank level0\" >&nbsp;</th>\n",
       "      <th id=\"T_9b054_level0_col0\" class=\"col_heading level0 col0\" >Accuracy</th>\n",
       "      <th id=\"T_9b054_level0_col1\" class=\"col_heading level0 col1\" >AUC</th>\n",
       "      <th id=\"T_9b054_level0_col2\" class=\"col_heading level0 col2\" >Recall</th>\n",
       "      <th id=\"T_9b054_level0_col3\" class=\"col_heading level0 col3\" >Prec.</th>\n",
       "      <th id=\"T_9b054_level0_col4\" class=\"col_heading level0 col4\" >F1</th>\n",
       "      <th id=\"T_9b054_level0_col5\" class=\"col_heading level0 col5\" >Kappa</th>\n",
       "      <th id=\"T_9b054_level0_col6\" class=\"col_heading level0 col6\" >MCC</th>\n",
       "    </tr>\n",
       "    <tr>\n",
       "      <th class=\"index_name level0\" >Fold</th>\n",
       "      <th class=\"blank col0\" >&nbsp;</th>\n",
       "      <th class=\"blank col1\" >&nbsp;</th>\n",
       "      <th class=\"blank col2\" >&nbsp;</th>\n",
       "      <th class=\"blank col3\" >&nbsp;</th>\n",
       "      <th class=\"blank col4\" >&nbsp;</th>\n",
       "      <th class=\"blank col5\" >&nbsp;</th>\n",
       "      <th class=\"blank col6\" >&nbsp;</th>\n",
       "    </tr>\n",
       "  </thead>\n",
       "  <tbody>\n",
       "    <tr>\n",
       "      <th id=\"T_9b054_level0_row0\" class=\"row_heading level0 row0\" >0</th>\n",
       "      <td id=\"T_9b054_row0_col0\" class=\"data row0 col0\" >0.8777</td>\n",
       "      <td id=\"T_9b054_row0_col1\" class=\"data row0 col1\" >0.8913</td>\n",
       "      <td id=\"T_9b054_row0_col2\" class=\"data row0 col2\" >0.8777</td>\n",
       "      <td id=\"T_9b054_row0_col3\" class=\"data row0 col3\" >0.8523</td>\n",
       "      <td id=\"T_9b054_row0_col4\" class=\"data row0 col4\" >0.8556</td>\n",
       "      <td id=\"T_9b054_row0_col5\" class=\"data row0 col5\" >0.3720</td>\n",
       "      <td id=\"T_9b054_row0_col6\" class=\"data row0 col6\" >0.4045</td>\n",
       "    </tr>\n",
       "    <tr>\n",
       "      <th id=\"T_9b054_level0_row1\" class=\"row_heading level0 row1\" >1</th>\n",
       "      <td id=\"T_9b054_row1_col0\" class=\"data row1 col0\" >0.8733</td>\n",
       "      <td id=\"T_9b054_row1_col1\" class=\"data row1 col1\" >0.8789</td>\n",
       "      <td id=\"T_9b054_row1_col2\" class=\"data row1 col2\" >0.8733</td>\n",
       "      <td id=\"T_9b054_row1_col3\" class=\"data row1 col3\" >0.8491</td>\n",
       "      <td id=\"T_9b054_row1_col4\" class=\"data row1 col4\" >0.8522</td>\n",
       "      <td id=\"T_9b054_row1_col5\" class=\"data row1 col5\" >0.3626</td>\n",
       "      <td id=\"T_9b054_row1_col6\" class=\"data row1 col6\" >0.3875</td>\n",
       "    </tr>\n",
       "    <tr>\n",
       "      <th id=\"T_9b054_level0_row2\" class=\"row_heading level0 row2\" >2</th>\n",
       "      <td id=\"T_9b054_row2_col0\" class=\"data row2 col0\" >0.8733</td>\n",
       "      <td id=\"T_9b054_row2_col1\" class=\"data row2 col1\" >0.8416</td>\n",
       "      <td id=\"T_9b054_row2_col2\" class=\"data row2 col2\" >0.8733</td>\n",
       "      <td id=\"T_9b054_row2_col3\" class=\"data row2 col3\" >0.8463</td>\n",
       "      <td id=\"T_9b054_row2_col4\" class=\"data row2 col4\" >0.8471</td>\n",
       "      <td id=\"T_9b054_row2_col5\" class=\"data row2 col5\" >0.3246</td>\n",
       "      <td id=\"T_9b054_row2_col6\" class=\"data row2 col6\" >0.3651</td>\n",
       "    </tr>\n",
       "    <tr>\n",
       "      <th id=\"T_9b054_level0_row3\" class=\"row_heading level0 row3\" >3</th>\n",
       "      <td id=\"T_9b054_row3_col0\" class=\"data row3 col0\" >0.8766</td>\n",
       "      <td id=\"T_9b054_row3_col1\" class=\"data row3 col1\" >0.8849</td>\n",
       "      <td id=\"T_9b054_row3_col2\" class=\"data row3 col2\" >0.8766</td>\n",
       "      <td id=\"T_9b054_row3_col3\" class=\"data row3 col3\" >0.8529</td>\n",
       "      <td id=\"T_9b054_row3_col4\" class=\"data row3 col4\" >0.8565</td>\n",
       "      <td id=\"T_9b054_row3_col5\" class=\"data row3 col5\" >0.3853</td>\n",
       "      <td id=\"T_9b054_row3_col6\" class=\"data row3 col6\" >0.4103</td>\n",
       "    </tr>\n",
       "    <tr>\n",
       "      <th id=\"T_9b054_level0_row4\" class=\"row_heading level0 row4\" >4</th>\n",
       "      <td id=\"T_9b054_row4_col0\" class=\"data row4 col0\" >0.8710</td>\n",
       "      <td id=\"T_9b054_row4_col1\" class=\"data row4 col1\" >0.8739</td>\n",
       "      <td id=\"T_9b054_row4_col2\" class=\"data row4 col2\" >0.8710</td>\n",
       "      <td id=\"T_9b054_row4_col3\" class=\"data row4 col3\" >0.8470</td>\n",
       "      <td id=\"T_9b054_row4_col4\" class=\"data row4 col4\" >0.8525</td>\n",
       "      <td id=\"T_9b054_row4_col5\" class=\"data row4 col5\" >0.3679</td>\n",
       "      <td id=\"T_9b054_row4_col6\" class=\"data row4 col6\" >0.3872</td>\n",
       "    </tr>\n",
       "    <tr>\n",
       "      <th id=\"T_9b054_level0_row5\" class=\"row_heading level0 row5\" >Mean</th>\n",
       "      <td id=\"T_9b054_row5_col0\" class=\"data row5 col0\" >0.8744</td>\n",
       "      <td id=\"T_9b054_row5_col1\" class=\"data row5 col1\" >0.8741</td>\n",
       "      <td id=\"T_9b054_row5_col2\" class=\"data row5 col2\" >0.8744</td>\n",
       "      <td id=\"T_9b054_row5_col3\" class=\"data row5 col3\" >0.8495</td>\n",
       "      <td id=\"T_9b054_row5_col4\" class=\"data row5 col4\" >0.8528</td>\n",
       "      <td id=\"T_9b054_row5_col5\" class=\"data row5 col5\" >0.3625</td>\n",
       "      <td id=\"T_9b054_row5_col6\" class=\"data row5 col6\" >0.3909</td>\n",
       "    </tr>\n",
       "    <tr>\n",
       "      <th id=\"T_9b054_level0_row6\" class=\"row_heading level0 row6\" >Std</th>\n",
       "      <td id=\"T_9b054_row6_col0\" class=\"data row6 col0\" >0.0025</td>\n",
       "      <td id=\"T_9b054_row6_col1\" class=\"data row6 col1\" >0.0173</td>\n",
       "      <td id=\"T_9b054_row6_col2\" class=\"data row6 col2\" >0.0025</td>\n",
       "      <td id=\"T_9b054_row6_col3\" class=\"data row6 col3\" >0.0027</td>\n",
       "      <td id=\"T_9b054_row6_col4\" class=\"data row6 col4\" >0.0033</td>\n",
       "      <td id=\"T_9b054_row6_col5\" class=\"data row6 col5\" >0.0204</td>\n",
       "      <td id=\"T_9b054_row6_col6\" class=\"data row6 col6\" >0.0158</td>\n",
       "    </tr>\n",
       "  </tbody>\n",
       "</table>\n"
      ],
      "text/plain": [
       "<pandas.io.formats.style.Styler at 0x26d5f246260>"
      ]
     },
     "metadata": {},
     "output_type": "display_data"
    },
    {
     "data": {
      "text/html": [],
      "text/plain": [
       "<IPython.core.display.HTML object>"
      ]
     },
     "metadata": {},
     "output_type": "display_data"
    }
   ],
   "source": [
    "lgbm_model = create_model('lightgbm')"
   ]
  },
  {
   "cell_type": "code",
   "execution_count": 60,
   "id": "cbe293c6",
   "metadata": {},
   "outputs": [
    {
     "data": {
      "text/html": [],
      "text/plain": [
       "<IPython.core.display.HTML object>"
      ]
     },
     "metadata": {},
     "output_type": "display_data"
    },
    {
     "data": {
      "image/png": "[encoded data removed]",
      "text/plain": [
       "<Figure size 800x500 with 1 Axes>"
      ]
     },
     "metadata": {},
     "output_type": "display_data"
    }
   ],
   "source": [
    "plot_model(lgbm_model, plot='feature')"
   ]
  },
  {
   "cell_type": "code",
   "execution_count": 65,
   "id": "c7d126db",
   "metadata": {},
   "outputs": [
    {
     "data": {
      "text/html": [
       "<div>\n",
       "<style scoped>\n",
       "    .dataframe tbody tr th:only-of-type {\n",
       "        vertical-align: middle;\n",
       "    }\n",
       "\n",
       "    .dataframe tbody tr th {\n",
       "        vertical-align: top;\n",
       "    }\n",
       "\n",
       "    .dataframe thead th {\n",
       "        text-align: right;\n",
       "    }\n",
       "</style>\n",
       "<table border=\"1\" class=\"dataframe\">\n",
       "  <thead>\n",
       "    <tr style=\"text-align: right;\">\n",
       "      <th></th>\n",
       "      <th>id</th>\n",
       "      <th>burnout60</th>\n",
       "      <th>area</th>\n",
       "      <th>gender</th>\n",
       "      <th>wtime_length5</th>\n",
       "      <th>age_group</th>\n",
       "      <th>emp_period_group</th>\n",
       "      <th>wtime_group</th>\n",
       "      <th>compsize_group</th>\n",
       "      <th>woutside_group</th>\n",
       "      <th>...</th>\n",
       "      <th>edu</th>\n",
       "      <th>marital</th>\n",
       "      <th>children</th>\n",
       "      <th>panel_survey</th>\n",
       "      <th>heal_abs1_group</th>\n",
       "      <th>ctime_group</th>\n",
       "      <th>disc_group</th>\n",
       "      <th>decla_group</th>\n",
       "      <th>winten2_group</th>\n",
       "      <th>winten3_group</th>\n",
       "    </tr>\n",
       "  </thead>\n",
       "  <tbody>\n",
       "    <tr>\n",
       "      <th>0</th>\n",
       "      <td>1000042_1</td>\n",
       "      <td>1</td>\n",
       "      <td>1</td>\n",
       "      <td>1</td>\n",
       "      <td>2</td>\n",
       "      <td>4</td>\n",
       "      <td>5</td>\n",
       "      <td>2</td>\n",
       "      <td>4</td>\n",
       "      <td>0</td>\n",
       "      <td>...</td>\n",
       "      <td>5.0</td>\n",
       "      <td>1.0</td>\n",
       "      <td>1.0</td>\n",
       "      <td>2</td>\n",
       "      <td>1</td>\n",
       "      <td>1</td>\n",
       "      <td>2</td>\n",
       "      <td>2</td>\n",
       "      <td>5.0</td>\n",
       "      <td>2</td>\n",
       "    </tr>\n",
       "    <tr>\n",
       "      <th>1</th>\n",
       "      <td>1000051_1</td>\n",
       "      <td>2</td>\n",
       "      <td>1</td>\n",
       "      <td>1</td>\n",
       "      <td>2</td>\n",
       "      <td>3</td>\n",
       "      <td>2</td>\n",
       "      <td>2</td>\n",
       "      <td>11</td>\n",
       "      <td>0</td>\n",
       "      <td>...</td>\n",
       "      <td>6.0</td>\n",
       "      <td>2.0</td>\n",
       "      <td>2.0</td>\n",
       "      <td>2</td>\n",
       "      <td>1</td>\n",
       "      <td>1</td>\n",
       "      <td>2</td>\n",
       "      <td>2</td>\n",
       "      <td>6.0</td>\n",
       "      <td>2</td>\n",
       "    </tr>\n",
       "    <tr>\n",
       "      <th>2</th>\n",
       "      <td>1000056_1</td>\n",
       "      <td>1</td>\n",
       "      <td>1</td>\n",
       "      <td>1</td>\n",
       "      <td>2</td>\n",
       "      <td>3</td>\n",
       "      <td>2</td>\n",
       "      <td>2</td>\n",
       "      <td>1</td>\n",
       "      <td>0</td>\n",
       "      <td>...</td>\n",
       "      <td>5.0</td>\n",
       "      <td>2.0</td>\n",
       "      <td>2.0</td>\n",
       "      <td>2</td>\n",
       "      <td>1</td>\n",
       "      <td>1</td>\n",
       "      <td>2</td>\n",
       "      <td>2</td>\n",
       "      <td>5.0</td>\n",
       "      <td>2</td>\n",
       "    </tr>\n",
       "    <tr>\n",
       "      <th>3</th>\n",
       "      <td>1000069_1</td>\n",
       "      <td>1</td>\n",
       "      <td>1</td>\n",
       "      <td>1</td>\n",
       "      <td>2</td>\n",
       "      <td>3</td>\n",
       "      <td>2</td>\n",
       "      <td>2</td>\n",
       "      <td>10</td>\n",
       "      <td>0</td>\n",
       "      <td>...</td>\n",
       "      <td>6.0</td>\n",
       "      <td>1.0</td>\n",
       "      <td>1.0</td>\n",
       "      <td>2</td>\n",
       "      <td>1</td>\n",
       "      <td>2</td>\n",
       "      <td>2</td>\n",
       "      <td>2</td>\n",
       "      <td>7.0</td>\n",
       "      <td>2</td>\n",
       "    </tr>\n",
       "    <tr>\n",
       "      <th>5</th>\n",
       "      <td>1000077_1</td>\n",
       "      <td>1</td>\n",
       "      <td>1</td>\n",
       "      <td>1</td>\n",
       "      <td>2</td>\n",
       "      <td>3</td>\n",
       "      <td>2</td>\n",
       "      <td>2</td>\n",
       "      <td>10</td>\n",
       "      <td>0</td>\n",
       "      <td>...</td>\n",
       "      <td>6.0</td>\n",
       "      <td>1.0</td>\n",
       "      <td>2.0</td>\n",
       "      <td>2</td>\n",
       "      <td>1</td>\n",
       "      <td>1</td>\n",
       "      <td>2</td>\n",
       "      <td>2</td>\n",
       "      <td>6.0</td>\n",
       "      <td>2</td>\n",
       "    </tr>\n",
       "  </tbody>\n",
       "</table>\n",
       "<p>5 rows × 172 columns</p>\n",
       "</div>"
      ],
      "text/plain": [
       "          id burnout60  area  gender  wtime_length5  age_group  \\\n",
       "0  1000042_1         1     1       1              2          4   \n",
       "1  1000051_1         2     1       1              2          3   \n",
       "2  1000056_1         1     1       1              2          3   \n",
       "3  1000069_1         1     1       1              2          3   \n",
       "5  1000077_1         1     1       1              2          3   \n",
       "\n",
       "   emp_period_group  wtime_group  compsize_group  woutside_group  ...  edu  \\\n",
       "0                 5            2               4               0  ...  5.0   \n",
       "1                 2            2              11               0  ...  6.0   \n",
       "2                 2            2               1               0  ...  5.0   \n",
       "3                 2            2              10               0  ...  6.0   \n",
       "5                 2            2              10               0  ...  6.0   \n",
       "\n",
       "   marital  children  panel_survey  heal_abs1_group  ctime_group  disc_group  \\\n",
       "0      1.0       1.0             2                1            1           2   \n",
       "1      2.0       2.0             2                1            1           2   \n",
       "2      2.0       2.0             2                1            1           2   \n",
       "3      1.0       1.0             2                1            2           2   \n",
       "5      1.0       2.0             2                1            1           2   \n",
       "\n",
       "   decla_group  winten2_group  winten3_group  \n",
       "0            2            5.0              2  \n",
       "1            2            6.0              2  \n",
       "2            2            5.0              2  \n",
       "3            2            7.0              2  \n",
       "5            2            6.0              2  \n",
       "\n",
       "[5 rows x 172 columns]"
      ]
     },
     "execution_count": 65,
     "metadata": {},
     "output_type": "execute_result"
    }
   ],
   "source": [
    " df_new.head()"
   ]
  },
  {
   "cell_type": "code",
   "execution_count": 69,
   "id": "477e1592",
   "metadata": {},
   "outputs": [],
   "source": [
    "from sklearn.model_selection import cross_validate\n",
    "from lightgbm import LGBMClassifier\n",
    "lgb = LGBMClassifier(random_state=42)\n"
   ]
  },
  {
   "cell_type": "code",
   "execution_count": 142,
   "id": "40c6a60d",
   "metadata": {},
   "outputs": [
    {
     "name": "stdout",
     "output_type": "stream",
     "text": [
      "{'fit_time': array([2.8380599 , 2.86925435, 2.84607816, 3.30367136, 3.31078434,\n",
      "       2.84116483, 2.89284682, 2.85656953, 2.99327254, 2.88282275]), 'score_time': array([0.02608514, 0.02268887, 0.02207589, 0.02052927, 0.02203631,\n",
      "       0.01741147, 0.03947997, 0.02687526, 0.02865362, 0.03533387]), 'test_score': array([0.86444444, 0.89      , 0.86222222, 0.88333333, 0.86651835,\n",
      "       0.88431591, 0.88320356, 0.87541713, 0.88209121, 0.88542825]), 'train_score': array([0.98702743, 0.98702743, 0.98727452, 0.98789227, 0.98987029,\n",
      "       0.98752316, 0.98912909, 0.98863496, 0.98838789, 0.9869055 ])}\n"
     ]
    }
   ],
   "source": [
    "### Feature Selection - Embedded 방식 ###\n",
    "\n",
    "from sklearn.compose import ColumnTransformer\n",
    "from sklearn.preprocessing import OneHotEncoder\n",
    "from sklearn.pipeline import Pipeline\n",
    "import numpy as np\n",
    "\n",
    "# 식별자 컬럼은 제거\n",
    "X_ = X_train.drop(columns=['id'], errors='ignore')\n",
    "\n",
    "num_cols = X_.select_dtypes(include=[np.number, 'bool']).columns\n",
    "cat_cols = X_.select_dtypes(include=['object']).columns\n",
    "\n",
    "preprocess = ColumnTransformer(\n",
    "    transformers=[\n",
    "        ('num', 'passthrough', num_cols),\n",
    "        ('cat', OneHotEncoder(handle_unknown='ignore', sparse_output=False), cat_cols),\n",
    "    ]\n",
    ")\n",
    "\n",
    "clf = Pipeline(steps=[\n",
    "    ('pre', preprocess),\n",
    "    ('model', LGBMClassifier(random_state=42))\n",
    "])\n",
    "\n",
    "scores = cross_validate(clf, X_, y_train, cv=10, n_jobs=-1, return_train_score=True)\n",
    "print(scores)\n"
   ]
  },
  {
   "cell_type": "code",
   "execution_count": 143,
   "id": "889c2de1",
   "metadata": {},
   "outputs": [
    {
     "name": "stdout",
     "output_type": "stream",
     "text": [
      "Object columns: []\n"
     ]
    }
   ],
   "source": [
    "### object 컬럼 확인\n",
    "obj_cols = X.select_dtypes(include=[\"object\"]).columns.tolist()\n",
    "print(\"Object columns:\", obj_cols)"
   ]
  },
  {
   "cell_type": "code",
   "execution_count": 145,
   "id": "ab6c9e83",
   "metadata": {},
   "outputs": [
    {
     "name": "stdout",
     "output_type": "stream",
     "text": [
      "   train_score_mean  train_score_std  test_score_mean  test_score_std\n",
      "0          0.987967         0.000958         0.877697        0.009389\n"
     ]
    }
   ],
   "source": [
    "# 교차검증 실행 (이미 실행했다면 생략)\n",
    "scores = cross_validate(clf, X_, y_train, cv=10, n_jobs=-1, return_train_score=True)\n",
    "\n",
    "# 평균/표준편차 정리\n",
    "summary = {\n",
    "    \"train_score_mean\": np.mean(scores['train_score']),\n",
    "    \"train_score_std\": np.std(scores['train_score']),\n",
    "    \"test_score_mean\": np.mean(scores['test_score']),\n",
    "    \"test_score_std\": np.std(scores['test_score']),\n",
    "}\n",
    "\n",
    "# 보기 좋게 DataFrame으로 변환\n",
    "summary_df = pd.DataFrame([summary])\n",
    "print(summary_df)\n"
   ]
  },
  {
   "cell_type": "code",
   "execution_count": 144,
   "id": "94712f1a",
   "metadata": {},
   "outputs": [
    {
     "name": "stdout",
     "output_type": "stream",
     "text": [
      "[LightGBM] [Info] Auto-choosing row-wise multi-threading, the overhead of testing was 0.000969 seconds.\n",
      "You can set `force_row_wise=true` to remove the overhead.\n",
      "And if memory is not enough, you can set `force_col_wise=true`.\n",
      "[LightGBM] [Info] Total Bins 767\n",
      "[LightGBM] [Info] Number of data points in the train set: 8994, number of used features: 162\n",
      "[LightGBM] [Info] Start training from score -0.161329\n",
      "[LightGBM] [Info] Start training from score -2.049000\n",
      "[LightGBM] [Info] Start training from score -3.905816\n",
      "Original feature number: 171\n",
      "Selected feature number: 70\n",
      "Selected features: ['area', 'age_group', 'emp_period_group', 'compsize_group', 'woutside4_group_a', 'earning2_group_b', 'occ_group_a', 'emp_manaqual_a', 'emp_manaqual_b', 'emp_manaqual_c', 'emp_manaqual_d', 'emp_manaqual_e', 'emp_comp_ass_b', 'emp_comp_ass_c', 'emp_comp_ass_d', 'emp_comp_ass_e', 'emp_comp_ass_f', 'emp_winflu_a', 'emp_winflu_b', 'emp_winflu_c', 'comp_female', 'comp_sjob', 'imte1', 'imte2', 'imte3', 'imte4', 'imte5', 'safeinform', 'wsituation3', 'wsituation4', 'wsituation5', 'wsituation11', 'wsituation6', 'wsituation7', 'wsituation8', 'wsituation13', 'wstat1', 'wstat2', 'wstat3', 'wstat5', 'wstat6', 'wstat7', 'wtime_ftwork', 'wtime_ftcomtool', 'wtime_private', 'hazard_phy_b', 'hazard_erg_a', 'hazard_erg_b', 'hazard_erg_c', 'hazard_erg_d', 'hazard_erg_e', 'winterrupt1', 'satisfaction', 'wpalce_ch', 'wwa1', 'wwa3', 'wwa4', 'wwa5', 'heal_cond', 'sleep1', 'who1', 'who2', 'who3', 'who4', 'who5', 'woutside3', 'income_con', 'income_bal', 'edu', 'winten2_group']\n"
     ]
    }
   ],
   "source": [
    "from sklearn.feature_selection import SelectFromModel\n",
    "from sklearn.model_selection import train_test_split\n",
    "import lightgbm as lgb\n",
    "\n",
    "# feature/target 분리\n",
    "X = df_new.drop(\"burnout60\", axis=1)   # 입력 변수\n",
    "y = df_new[\"burnout60\"]                # 타깃 변수\n",
    "\n",
    "# train/val 분리 (한 번만 실행)\n",
    "X_train, X_val, y_train, y_val = train_test_split(\n",
    "    X, y, test_size=0.2, random_state=42\n",
    ")\n",
    "\n",
    "# LightGBM 모델 설정 및 학습\n",
    "lgbm = lgb.LGBMClassifier(\n",
    "    n_estimators=500,\n",
    "    learning_rate=0.05,\n",
    "    random_state=42\n",
    ")\n",
    "lgbm.fit(X_train, y_train)\n",
    "\n",
    "# Embedded Feature Selection\n",
    "selector = SelectFromModel(lgbm, threshold=\"mean\", prefit=True)\n",
    "X_train_selected = selector.transform(X_train)\n",
    "X_val_selected = selector.transform(X_val)\n",
    "\n",
    "print(\"Original feature number:\", X_train.shape[1])\n",
    "print(\"Selected feature number:\", X_train_selected.shape[1])\n",
    "\n",
    "# 선택된 feature 이름 출력\n",
    "selected_features = X.columns[selector.get_support()]\n",
    "print(\"Selected features:\", selected_features.tolist())\n"
   ]
  },
  {
   "cell_type": "code",
   "execution_count": 146,
   "id": "6bbf7632",
   "metadata": {},
   "outputs": [
    {
     "name": "stdout",
     "output_type": "stream",
     "text": [
      "[LightGBM] [Info] Auto-choosing row-wise multi-threading, the overhead of testing was 0.001122 seconds.\n",
      "You can set `force_row_wise=true` to remove the overhead.\n",
      "And if memory is not enough, you can set `force_col_wise=true`.\n",
      "[LightGBM] [Info] Total Bins 767\n",
      "[LightGBM] [Info] Number of data points in the train set: 8994, number of used features: 162\n",
      "[LightGBM] [Info] Start training from score -0.161329\n",
      "[LightGBM] [Info] Start training from score -2.049000\n",
      "[LightGBM] [Info] Start training from score -3.905816\n",
      "=== Baseline (모든 특성) ===\n",
      "Accuracy : 0.8844\n",
      "Precision: 0.8650\n"
     ]
    }
   ],
   "source": [
    "# 1) Baseline: 전체 특성으로 학습\n",
    "from sklearn.metrics import accuracy_score, precision_score\n",
    "\n",
    "lgbm.fit(X_train, y_train)\n",
    "\n",
    "y_pred_base = lgbm.predict(X_val)\n",
    "\n",
    "acc_base = accuracy_score(y_val, y_pred_base)\n",
    "prec_base = precision_score(y_val, y_pred_base, average=\"weighted\")  # 다중분류면 \"weighted\"\n",
    "\n",
    "print(\"=== Baseline (모든 특성) ===\")\n",
    "print(f\"Accuracy : {acc_base:.4f}\")\n",
    "print(f\"Precision: {prec_base:.4f}\")"
   ]
  },
  {
   "cell_type": "code",
   "execution_count": 147,
   "id": "9072ac80",
   "metadata": {},
   "outputs": [
    {
     "name": "stdout",
     "output_type": "stream",
     "text": [
      "\n",
      "선택된 특성 개수: 70 / 171\n",
      "선택된 특성 리스트: ['area', 'age_group', 'emp_period_group', 'compsize_group', 'woutside4_group_a', 'earning2_group_b', 'occ_group_a', 'emp_manaqual_a', 'emp_manaqual_b', 'emp_manaqual_c', 'emp_manaqual_d', 'emp_manaqual_e', 'emp_comp_ass_b', 'emp_comp_ass_c', 'emp_comp_ass_d', 'emp_comp_ass_e', 'emp_comp_ass_f', 'emp_winflu_a', 'emp_winflu_b', 'emp_winflu_c', 'comp_female', 'comp_sjob', 'imte1', 'imte2', 'imte3', 'imte4', 'imte5', 'safeinform', 'wsituation3', 'wsituation4', 'wsituation5', 'wsituation11', 'wsituation6', 'wsituation7', 'wsituation8', 'wsituation13', 'wstat1', 'wstat2', 'wstat3', 'wstat5', 'wstat6', 'wstat7', 'wtime_ftwork', 'wtime_ftcomtool', 'wtime_private', 'hazard_phy_b', 'hazard_erg_a', 'hazard_erg_b', 'hazard_erg_c', 'hazard_erg_d', 'hazard_erg_e', 'winterrupt1', 'satisfaction', 'wpalce_ch', 'wwa1', 'wwa3', 'wwa4', 'wwa5', 'heal_cond', 'sleep1', 'who1', 'who2', 'who3', 'who4', 'who5', 'woutside3', 'income_con', 'income_bal', 'edu', 'winten2_group']\n"
     ]
    }
   ],
   "source": [
    "# 2) Embedded Feature Selection\n",
    "selected_mask = selector.get_support()\n",
    "selected_cols = X.columns[selected_mask].tolist()\n",
    "\n",
    "X_train_sel_df = X_train[selected_cols].copy()\n",
    "X_val_sel_df   = X_val[selected_cols].copy()\n",
    "\n",
    "print(f\"\\n선택된 특성 개수: {len(selected_cols)} / {X_train.shape[1]}\")\n",
    "print(\"선택된 특성 리스트:\", selected_cols)"
   ]
  },
  {
   "cell_type": "code",
   "execution_count": 148,
   "id": "b77acac2",
   "metadata": {},
   "outputs": [
    {
     "name": "stdout",
     "output_type": "stream",
     "text": [
      "[LightGBM] [Info] Auto-choosing row-wise multi-threading, the overhead of testing was 0.000294 seconds.\n",
      "You can set `force_row_wise=true` to remove the overhead.\n",
      "And if memory is not enough, you can set `force_col_wise=true`.\n",
      "[LightGBM] [Info] Total Bins 458\n",
      "[LightGBM] [Info] Number of data points in the train set: 8994, number of used features: 70\n",
      "[LightGBM] [Info] Start training from score -0.161329\n",
      "[LightGBM] [Info] Start training from score -2.049000\n",
      "[LightGBM] [Info] Start training from score -3.905816\n",
      "\n",
      "=== Selected Features (임베디드 선택) ===\n",
      "Accuracy : 0.8853\n",
      "Precision: 0.8626\n"
     ]
    }
   ],
   "source": [
    "# 3) 선택된 특성으로 재학습\n",
    "sel_model = lgb.LGBMClassifier(\n",
    "    n_estimators=500,\n",
    "    learning_rate=0.05,\n",
    "    random_state=42\n",
    ")\n",
    "sel_model.fit(X_train_sel_df, y_train)\n",
    "\n",
    "y_pred_sel = sel_model.predict(X_val_sel_df)\n",
    "\n",
    "acc_sel = accuracy_score(y_val, y_pred_sel)\n",
    "prec_sel = precision_score(y_val, y_pred_sel, average=\"weighted\")\n",
    "\n",
    "print(\"\\n=== Selected Features (임베디드 선택) ===\")\n",
    "print(f\"Accuracy : {acc_sel:.4f}\")\n",
    "print(f\"Precision: {prec_sel:.4f}\")"
   ]
  },
  {
   "cell_type": "code",
   "execution_count": 161,
   "id": "bcac67da",
   "metadata": {},
   "outputs": [
    {
     "name": "stdout",
     "output_type": "stream",
     "text": [
      "\n",
      "=== 성능 비교 ===\n",
      "      metric  All features  Selected features\n",
      "0   Accuracy      0.884393           0.885282\n",
      "1  Precision      0.865023           0.862611\n"
     ]
    }
   ],
   "source": [
    "# 4) 성능 비교 표\n",
    "summary = pd.DataFrame({\n",
    "    \"metric\": [\"Accuracy\", \"Precision\"],\n",
    "    \"All features\": [acc_base, prec_base],\n",
    "    \"Selected features\": [acc_sel, prec_sel]\n",
    "})\n",
    "print(\"\\n=== 성능 비교 ===\")\n",
    "print(summary)\n"
   ]
  },
  {
   "cell_type": "code",
   "execution_count": 164,
   "id": "2ad0bf64",
   "metadata": {},
   "outputs": [
    {
     "data": {
      "text/html": [
       "<div>\n",
       "<style scoped>\n",
       "    .dataframe tbody tr th:only-of-type {\n",
       "        vertical-align: middle;\n",
       "    }\n",
       "\n",
       "    .dataframe tbody tr th {\n",
       "        vertical-align: top;\n",
       "    }\n",
       "\n",
       "    .dataframe thead th {\n",
       "        text-align: right;\n",
       "    }\n",
       "</style>\n",
       "<table border=\"1\" class=\"dataframe\">\n",
       "  <thead>\n",
       "    <tr style=\"text-align: right;\">\n",
       "      <th></th>\n",
       "      <th>feature</th>\n",
       "      <th>importance</th>\n",
       "      <th>selected</th>\n",
       "      <th>importance_pct</th>\n",
       "    </tr>\n",
       "  </thead>\n",
       "  <tbody>\n",
       "    <tr>\n",
       "      <th>1</th>\n",
       "      <td>area</td>\n",
       "      <td>1141.0</td>\n",
       "      <td>True</td>\n",
       "      <td>2.535556</td>\n",
       "    </tr>\n",
       "    <tr>\n",
       "      <th>70</th>\n",
       "      <td>wsituation11</td>\n",
       "      <td>829.0</td>\n",
       "      <td>True</td>\n",
       "      <td>1.842222</td>\n",
       "    </tr>\n",
       "    <tr>\n",
       "      <th>73</th>\n",
       "      <td>wsituation8</td>\n",
       "      <td>824.0</td>\n",
       "      <td>True</td>\n",
       "      <td>1.831111</td>\n",
       "    </tr>\n",
       "    <tr>\n",
       "      <th>36</th>\n",
       "      <td>emp_manaqual_a</td>\n",
       "      <td>781.0</td>\n",
       "      <td>True</td>\n",
       "      <td>1.735556</td>\n",
       "    </tr>\n",
       "    <tr>\n",
       "      <th>74</th>\n",
       "      <td>wsituation13</td>\n",
       "      <td>698.0</td>\n",
       "      <td>True</td>\n",
       "      <td>1.551111</td>\n",
       "    </tr>\n",
       "    <tr>\n",
       "      <th>130</th>\n",
       "      <td>wwa1</td>\n",
       "      <td>666.0</td>\n",
       "      <td>True</td>\n",
       "      <td>1.480000</td>\n",
       "    </tr>\n",
       "    <tr>\n",
       "      <th>78</th>\n",
       "      <td>wstat5</td>\n",
       "      <td>662.0</td>\n",
       "      <td>True</td>\n",
       "      <td>1.471111</td>\n",
       "    </tr>\n",
       "    <tr>\n",
       "      <th>14</th>\n",
       "      <td>occ_group_a</td>\n",
       "      <td>658.0</td>\n",
       "      <td>True</td>\n",
       "      <td>1.462222</td>\n",
       "    </tr>\n",
       "    <tr>\n",
       "      <th>50</th>\n",
       "      <td>emp_winflu_c</td>\n",
       "      <td>650.0</td>\n",
       "      <td>True</td>\n",
       "      <td>1.444444</td>\n",
       "    </tr>\n",
       "    <tr>\n",
       "      <th>49</th>\n",
       "      <td>emp_winflu_b</td>\n",
       "      <td>641.0</td>\n",
       "      <td>True</td>\n",
       "      <td>1.424444</td>\n",
       "    </tr>\n",
       "  </tbody>\n",
       "</table>\n",
       "</div>"
      ],
      "text/plain": [
       "            feature  importance  selected  importance_pct\n",
       "1              area      1141.0      True        2.535556\n",
       "70     wsituation11       829.0      True        1.842222\n",
       "73      wsituation8       824.0      True        1.831111\n",
       "36   emp_manaqual_a       781.0      True        1.735556\n",
       "74     wsituation13       698.0      True        1.551111\n",
       "130            wwa1       666.0      True        1.480000\n",
       "78           wstat5       662.0      True        1.471111\n",
       "14      occ_group_a       658.0      True        1.462222\n",
       "50     emp_winflu_c       650.0      True        1.444444\n",
       "49     emp_winflu_b       641.0      True        1.424444"
      ]
     },
     "execution_count": 164,
     "metadata": {},
     "output_type": "execute_result"
    }
   ],
   "source": [
    "### 시각화\n",
    "# 1) 중요도 테이블 만들기 (선택됨/제외됨 표시)\n",
    "\n",
    "# 학습된 모델의 중요도 정리 (LightGBM의 전체 특성 중요도)\n",
    "imp_df = pd.DataFrame({\n",
    "    \"feature\": X.columns,\n",
    "    \"importance\": lgbm.feature_importances_.astype(float)\n",
    "}).sort_values(\"importance\", ascending=False)\n",
    "\n",
    "# 선택 여부 컬럼 추가\n",
    "support_mask = selector.get_support()\n",
    "imp_df[\"selected\"] = imp_df[\"feature\"].isin(X.columns[support_mask])\n",
    "\n",
    "# 중요도 정규화(퍼센트)\n",
    "imp_df[\"importance_pct\"] = 100 * imp_df[\"importance\"] / (imp_df[\"importance\"].sum() + 1e-12)\n",
    "\n",
    "imp_df.head(10)\n"
   ]
  },
  {
   "cell_type": "code",
   "execution_count": 165,
   "id": "7636c97e",
   "metadata": {},
   "outputs": [
    {
     "data": {
      "image/png": "[encoded data removed]",
      "text/plain": [
       "<Figure size 800x900 with 1 Axes>"
      ]
     },
     "metadata": {},
     "output_type": "display_data"
    }
   ],
   "source": [
    "# 2) 상위 N개 중요도 막대 그래프 (선택된 특성 하이라이트)\n",
    "\n",
    "import matplotlib.pyplot as plt\n",
    "\n",
    "N = 30  # 상위 몇 개를 볼지\n",
    "top = imp_df.head(N).iloc[::-1]  # barh는 뒤집어 주면 보기 좋아짐\n",
    "\n",
    "plt.figure(figsize=(8, max(6, N*0.3)))\n",
    "bars = plt.barh(top[\"feature\"], top[\"importance\"])\n",
    "\n",
    "# 선택된 특성은 두께/외곽선으로 하이라이트\n",
    "for i, sel in enumerate(top[\"selected\"]):\n",
    "    if sel:\n",
    "        bars[i].set_linewidth(2.0)\n",
    "        bars[i].set_edgecolor(\"black\")  # matplotlib 기본 팔레트 내 색 사용\n",
    "    else:\n",
    "        bars[i].set_alpha(0.5)\n",
    "\n",
    "plt.title(f\"Top {N} Feature Importances (LightGBM)\")\n",
    "plt.xlabel(\"Importance\")\n",
    "plt.ylabel(\"Feature\")\n",
    "plt.tight_layout()\n",
    "plt.show()\n"
   ]
  },
  {
   "cell_type": "code",
   "execution_count": 166,
   "id": "0265673f",
   "metadata": {},
   "outputs": [
    {
     "data": {
      "image/png": "[encoded data removed]",
      "text/plain": [
       "<Figure size 700x400 with 1 Axes>"
      ]
     },
     "metadata": {},
     "output_type": "display_data"
    }
   ],
   "source": [
    "# 3) 누적 중요도 그래프 (얼마나 줄여도 되는지 감 잡기)\n",
    "\n",
    "cum = imp_df.copy()\n",
    "cum[\"cum_importance_pct\"] = cum[\"importance_pct\"].cumsum()\n",
    "\n",
    "plt.figure(figsize=(7,4))\n",
    "plt.plot(np.arange(1, len(cum)+1), cum[\"cum_importance_pct\"], marker=\"o\")\n",
    "plt.axhline(95, linestyle=\"--\")  # 95% 선\n",
    "plt.title(\"Cumulative Feature Importance (%)\")\n",
    "plt.xlabel(\"Number of Features (sorted by importance)\")\n",
    "plt.ylabel(\"Cumulative Importance (%)\")\n",
    "plt.tight_layout()\n",
    "plt.show()\n"
   ]
  },
  {
   "cell_type": "code",
   "execution_count": 167,
   "id": "1af7143e",
   "metadata": {},
   "outputs": [
    {
     "data": {
      "image/png": "[encoded data removed]",
      "text/plain": [
       "<Figure size 800x900 with 1 Axes>"
      ]
     },
     "metadata": {},
     "output_type": "display_data"
    }
   ],
   "source": [
    "# 4) 선택 임계값(평균 중요도)과의 비교 시각화\n",
    "\n",
    "thresh = imp_df[\"importance\"].mean()\n",
    "\n",
    "plt.figure(figsize=(8, max(6, N*0.3)))\n",
    "top = imp_df.head(N).iloc[::-1]\n",
    "bars = plt.barh(top[\"feature\"], top[\"importance\"])\n",
    "\n",
    "# 평균선\n",
    "plt.axvline(thresh, linestyle=\"--\")\n",
    "\n",
    "# 선택된 특성 강조\n",
    "for i, sel in enumerate(top[\"selected\"]):\n",
    "    if sel:\n",
    "        bars[i].set_linewidth(2.0)\n",
    "        bars[i].set_edgecolor(\"black\")\n",
    "    else:\n",
    "        bars[i].set_alpha(0.5)\n",
    "\n",
    "plt.title(f\"Top {N} Importances with Mean Threshold\")\n",
    "plt.xlabel(\"Importance\")\n",
    "plt.ylabel(\"Feature\")\n",
    "plt.tight_layout()\n",
    "plt.show()\n"
   ]
  },
  {
   "cell_type": "code",
   "execution_count": 168,
   "id": "f72e7621",
   "metadata": {},
   "outputs": [
    {
     "data": {
      "image/png": "[encoded data removed]",
      "text/plain": [
       "<Figure size 600x400 with 1 Axes>"
      ]
     },
     "metadata": {},
     "output_type": "display_data"
    }
   ],
   "source": [
    "# 5) 선택 전/후 성능 및 특성 수 비교(요약 바차트)\n",
    "\n",
    "# 이미 이전 단계에서 계산했을 것으로 가정:\n",
    "# acc_base, prec_base, acc_sel, prec_sel\n",
    "\n",
    "labels = [\"Accuracy\", \"Precision\"]\n",
    "all_features_scores = [acc_base, prec_base]\n",
    "selected_features_scores = [acc_sel, prec_sel]\n",
    "\n",
    "x = np.arange(len(labels))\n",
    "width = 0.35\n",
    "\n",
    "plt.figure(figsize=(6,4))\n",
    "plt.bar(x - width/2, all_features_scores, width, label=\"All\")\n",
    "plt.bar(x + width/2, selected_features_scores, width, label=\"Selected\")\n",
    "plt.xticks(x, labels)\n",
    "plt.ylim(0, 1.0)\n",
    "plt.title(\"Performance: All vs Selected Features\")\n",
    "plt.legend()\n",
    "plt.tight_layout()\n",
    "plt.show()\n"
   ]
  },
  {
   "cell_type": "code",
   "execution_count": 170,
   "id": "59e3ad9a",
   "metadata": {},
   "outputs": [
    {
     "name": "stdout",
     "output_type": "stream",
     "text": [
      "선택된 특성 개수: 70\n"
     ]
    },
    {
     "data": {
      "text/html": [
       "<div>\n",
       "<style scoped>\n",
       "    .dataframe tbody tr th:only-of-type {\n",
       "        vertical-align: middle;\n",
       "    }\n",
       "\n",
       "    .dataframe tbody tr th {\n",
       "        vertical-align: top;\n",
       "    }\n",
       "\n",
       "    .dataframe thead th {\n",
       "        text-align: right;\n",
       "    }\n",
       "</style>\n",
       "<table border=\"1\" class=\"dataframe\">\n",
       "  <thead>\n",
       "    <tr style=\"text-align: right;\">\n",
       "      <th></th>\n",
       "      <th>feature</th>\n",
       "      <th>importance</th>\n",
       "      <th>selected</th>\n",
       "      <th>importance_pct</th>\n",
       "    </tr>\n",
       "  </thead>\n",
       "  <tbody>\n",
       "    <tr>\n",
       "      <th>1</th>\n",
       "      <td>area</td>\n",
       "      <td>1141.0</td>\n",
       "      <td>True</td>\n",
       "      <td>2.535556</td>\n",
       "    </tr>\n",
       "    <tr>\n",
       "      <th>70</th>\n",
       "      <td>wsituation11</td>\n",
       "      <td>829.0</td>\n",
       "      <td>True</td>\n",
       "      <td>1.842222</td>\n",
       "    </tr>\n",
       "    <tr>\n",
       "      <th>73</th>\n",
       "      <td>wsituation8</td>\n",
       "      <td>824.0</td>\n",
       "      <td>True</td>\n",
       "      <td>1.831111</td>\n",
       "    </tr>\n",
       "    <tr>\n",
       "      <th>36</th>\n",
       "      <td>emp_manaqual_a</td>\n",
       "      <td>781.0</td>\n",
       "      <td>True</td>\n",
       "      <td>1.735556</td>\n",
       "    </tr>\n",
       "    <tr>\n",
       "      <th>74</th>\n",
       "      <td>wsituation13</td>\n",
       "      <td>698.0</td>\n",
       "      <td>True</td>\n",
       "      <td>1.551111</td>\n",
       "    </tr>\n",
       "    <tr>\n",
       "      <th>130</th>\n",
       "      <td>wwa1</td>\n",
       "      <td>666.0</td>\n",
       "      <td>True</td>\n",
       "      <td>1.480000</td>\n",
       "    </tr>\n",
       "    <tr>\n",
       "      <th>78</th>\n",
       "      <td>wstat5</td>\n",
       "      <td>662.0</td>\n",
       "      <td>True</td>\n",
       "      <td>1.471111</td>\n",
       "    </tr>\n",
       "    <tr>\n",
       "      <th>14</th>\n",
       "      <td>occ_group_a</td>\n",
       "      <td>658.0</td>\n",
       "      <td>True</td>\n",
       "      <td>1.462222</td>\n",
       "    </tr>\n",
       "    <tr>\n",
       "      <th>50</th>\n",
       "      <td>emp_winflu_c</td>\n",
       "      <td>650.0</td>\n",
       "      <td>True</td>\n",
       "      <td>1.444444</td>\n",
       "    </tr>\n",
       "    <tr>\n",
       "      <th>49</th>\n",
       "      <td>emp_winflu_b</td>\n",
       "      <td>641.0</td>\n",
       "      <td>True</td>\n",
       "      <td>1.424444</td>\n",
       "    </tr>\n",
       "    <tr>\n",
       "      <th>154</th>\n",
       "      <td>who3</td>\n",
       "      <td>622.0</td>\n",
       "      <td>True</td>\n",
       "      <td>1.382222</td>\n",
       "    </tr>\n",
       "    <tr>\n",
       "      <th>67</th>\n",
       "      <td>wsituation3</td>\n",
       "      <td>617.0</td>\n",
       "      <td>True</td>\n",
       "      <td>1.371111</td>\n",
       "    </tr>\n",
       "    <tr>\n",
       "      <th>100</th>\n",
       "      <td>hazard_erg_b</td>\n",
       "      <td>614.0</td>\n",
       "      <td>True</td>\n",
       "      <td>1.364444</td>\n",
       "    </tr>\n",
       "    <tr>\n",
       "      <th>99</th>\n",
       "      <td>hazard_erg_a</td>\n",
       "      <td>612.0</td>\n",
       "      <td>True</td>\n",
       "      <td>1.360000</td>\n",
       "    </tr>\n",
       "    <tr>\n",
       "      <th>79</th>\n",
       "      <td>wstat6</td>\n",
       "      <td>611.0</td>\n",
       "      <td>True</td>\n",
       "      <td>1.357778</td>\n",
       "    </tr>\n",
       "    <tr>\n",
       "      <th>48</th>\n",
       "      <td>emp_winflu_a</td>\n",
       "      <td>593.0</td>\n",
       "      <td>True</td>\n",
       "      <td>1.317778</td>\n",
       "    </tr>\n",
       "    <tr>\n",
       "      <th>169</th>\n",
       "      <td>winten2_group</td>\n",
       "      <td>593.0</td>\n",
       "      <td>True</td>\n",
       "      <td>1.317778</td>\n",
       "    </tr>\n",
       "    <tr>\n",
       "      <th>131</th>\n",
       "      <td>wwa3</td>\n",
       "      <td>586.0</td>\n",
       "      <td>True</td>\n",
       "      <td>1.302222</td>\n",
       "    </tr>\n",
       "    <tr>\n",
       "      <th>76</th>\n",
       "      <td>wstat2</td>\n",
       "      <td>575.0</td>\n",
       "      <td>True</td>\n",
       "      <td>1.277778</td>\n",
       "    </tr>\n",
       "    <tr>\n",
       "      <th>7</th>\n",
       "      <td>compsize_group</td>\n",
       "      <td>573.0</td>\n",
       "      <td>True</td>\n",
       "      <td>1.273333</td>\n",
       "    </tr>\n",
       "  </tbody>\n",
       "</table>\n",
       "</div>"
      ],
      "text/plain": [
       "            feature  importance  selected  importance_pct\n",
       "1              area      1141.0      True        2.535556\n",
       "70     wsituation11       829.0      True        1.842222\n",
       "73      wsituation8       824.0      True        1.831111\n",
       "36   emp_manaqual_a       781.0      True        1.735556\n",
       "74     wsituation13       698.0      True        1.551111\n",
       "130            wwa1       666.0      True        1.480000\n",
       "78           wstat5       662.0      True        1.471111\n",
       "14      occ_group_a       658.0      True        1.462222\n",
       "50     emp_winflu_c       650.0      True        1.444444\n",
       "49     emp_winflu_b       641.0      True        1.424444\n",
       "154            who3       622.0      True        1.382222\n",
       "67      wsituation3       617.0      True        1.371111\n",
       "100    hazard_erg_b       614.0      True        1.364444\n",
       "99     hazard_erg_a       612.0      True        1.360000\n",
       "79           wstat6       611.0      True        1.357778\n",
       "48     emp_winflu_a       593.0      True        1.317778\n",
       "169   winten2_group       593.0      True        1.317778\n",
       "131            wwa3       586.0      True        1.302222\n",
       "76           wstat2       575.0      True        1.277778\n",
       "7    compsize_group       573.0      True        1.273333"
      ]
     },
     "execution_count": 170,
     "metadata": {},
     "output_type": "execute_result"
    }
   ],
   "source": [
    "# 선택된 특성만 따로 보기 (표/리스트)\n",
    "\n",
    "selected_only = imp_df[imp_df[\"selected\"]].copy().sort_values(\"importance\", ascending=False)\n",
    "print(\"선택된 특성 개수:\", selected_only.shape[0])\n",
    "selected_only.head(20)\n"
   ]
  },
  {
   "cell_type": "code",
   "execution_count": 171,
   "id": "4a9a0428",
   "metadata": {},
   "outputs": [
    {
     "name": "stdout",
     "output_type": "stream",
     "text": [
      "Requirement already satisfied: shap in c:\\users\\user\\anaconda3\\envs\\python310\\lib\\site-packages (0.48.0)\n",
      "Requirement already satisfied: numpy in c:\\users\\user\\anaconda3\\envs\\python310\\lib\\site-packages (from shap) (1.26.4)\n",
      "Requirement already satisfied: scipy in c:\\users\\user\\anaconda3\\envs\\python310\\lib\\site-packages (from shap) (1.11.4)\n",
      "Requirement already satisfied: scikit-learn in c:\\users\\user\\anaconda3\\envs\\python310\\lib\\site-packages (from shap) (1.4.2)\n",
      "Requirement already satisfied: pandas in c:\\users\\user\\anaconda3\\envs\\python310\\lib\\site-packages (from shap) (2.1.4)\n",
      "Requirement already satisfied: tqdm>=4.27.0 in c:\\users\\user\\anaconda3\\envs\\python310\\lib\\site-packages (from shap) (4.67.1)\n",
      "Requirement already satisfied: packaging>20.9 in c:\\users\\user\\anaconda3\\envs\\python310\\lib\\site-packages (from shap) (25.0)\n",
      "Requirement already satisfied: slicer==0.0.8 in c:\\users\\user\\anaconda3\\envs\\python310\\lib\\site-packages (from shap) (0.0.8)\n",
      "Requirement already satisfied: numba>=0.54 in c:\\users\\user\\anaconda3\\envs\\python310\\lib\\site-packages (from shap) (0.61.2)\n",
      "Requirement already satisfied: cloudpickle in c:\\users\\user\\anaconda3\\envs\\python310\\lib\\site-packages (from shap) (3.1.1)\n",
      "Requirement already satisfied: typing-extensions in c:\\users\\user\\anaconda3\\envs\\python310\\lib\\site-packages (from shap) (4.14.1)\n",
      "Requirement already satisfied: llvmlite<0.45,>=0.44.0dev0 in c:\\users\\user\\anaconda3\\envs\\python310\\lib\\site-packages (from numba>=0.54->shap) (0.44.0)\n",
      "Requirement already satisfied: colorama in c:\\users\\user\\anaconda3\\envs\\python310\\lib\\site-packages (from tqdm>=4.27.0->shap) (0.4.6)\n",
      "Requirement already satisfied: python-dateutil>=2.8.2 in c:\\users\\user\\anaconda3\\envs\\python310\\lib\\site-packages (from pandas->shap) (2.9.0.post0)\n",
      "Requirement already satisfied: pytz>=2020.1 in c:\\users\\user\\anaconda3\\envs\\python310\\lib\\site-packages (from pandas->shap) (2025.2)\n",
      "Requirement already satisfied: tzdata>=2022.1 in c:\\users\\user\\anaconda3\\envs\\python310\\lib\\site-packages (from pandas->shap) (2025.2)\n",
      "Requirement already satisfied: six>=1.5 in c:\\users\\user\\anaconda3\\envs\\python310\\lib\\site-packages (from python-dateutil>=2.8.2->pandas->shap) (1.17.0)\n",
      "Requirement already satisfied: joblib>=1.2.0 in c:\\users\\user\\anaconda3\\envs\\python310\\lib\\site-packages (from scikit-learn->shap) (1.3.2)\n",
      "Requirement already satisfied: threadpoolctl>=2.0.0 in c:\\users\\user\\anaconda3\\envs\\python310\\lib\\site-packages (from scikit-learn->shap) (3.6.0)\n"
     ]
    }
   ],
   "source": [
    "!pip install shap\n"
   ]
  },
  {
   "cell_type": "code",
   "execution_count": 172,
   "id": "d160e2c3",
   "metadata": {},
   "outputs": [],
   "source": [
    "\n",
    "# 설명할 데이터 (선택된 특성만)\n",
    "X_val_used = X_val[selected_cols].copy()\n",
    "\n",
    "# LightGBM용 TreeExplainer\n",
    "explainer = shap.TreeExplainer(sel_model)\n",
    "\n",
    "# 큰 데이터면 샘플링(속도/가독성)\n",
    "N = min(2000, len(X_val_used))\n",
    "idx = np.random.RandomState(42).choice(len(X_val_used), N, replace=False)\n",
    "X_val_sample = X_val_used.iloc[idx]\n",
    "\n",
    "# SHAP 값 계산\n",
    "# (경고 억제를 원하면 check_additivity=False 사용 가능)\n",
    "shap_values = explainer.shap_values(X_val_sample)\n"
   ]
  },
  {
   "cell_type": "code",
   "execution_count": 173,
   "id": "cd5e4de8",
   "metadata": {},
   "outputs": [],
   "source": [
    "# 다중/이진 자동 분기\n",
    "is_multiclass = isinstance(shap_values, list)\n",
    "\n",
    "if is_multiclass:\n",
    "    # 클래스별 SHAP 배열을 쓴다. (예: 평균 절댓값 최대 클래스, 또는 특정 클래스 선택)\n",
    "    # 1) 평균 절댓값이 가장 큰 클래스를 대표로 시각화 (전반적 경향 확인용)\n",
    "    mean_abs = [np.abs(v).mean() for v in shap_values]\n",
    "    target_class = int(np.argmax(mean_abs))\n",
    "    sv_for_plot = shap_values[target_class]\n",
    "    class_info = f\"(multi-class, class={target_class})\"\n",
    "else:\n",
    "    sv_for_plot = shap_values\n",
    "    class_info = \"(binary)\"\n"
   ]
  },
  {
   "cell_type": "code",
   "execution_count": 174,
   "id": "408c1a9b",
   "metadata": {},
   "outputs": [
    {
     "data": {
      "image/png": "[encoded data removed]",
      "text/plain": [
       "<Figure size 1150x660 with 3 Axes>"
      ]
     },
     "metadata": {},
     "output_type": "display_data"
    }
   ],
   "source": [
    "# Beeswarm (개별 샘플 분포 + 영향)\n",
    "\n",
    "shap.summary_plot(sv_for_plot, X_val_sample, show=False)\n",
    "import matplotlib.pyplot as plt\n",
    "plt.title(f\"SHAP Beeswarm {class_info}\")\n",
    "plt.show()\n"
   ]
  },
  {
   "cell_type": "code",
   "execution_count": 101,
   "id": "98780c13",
   "metadata": {},
   "outputs": [
    {
     "data": {
      "image/png": "[encoded data removed]",
      "text/plain": [
       "<Figure size 800x950 with 1 Axes>"
      ]
     },
     "metadata": {},
     "output_type": "display_data"
    }
   ],
   "source": [
    "# Bar (평균 절댓값 중요도)\n",
    "\n",
    "shap.summary_plot(sv_for_plot, X_val_sample, plot_type=\"bar\", show=False)\n",
    "import matplotlib.pyplot as plt\n",
    "plt.title(f\"SHAP Mean |Impact| (Bar) {class_info}\")\n",
    "plt.show()\n"
   ]
  },
  {
   "cell_type": "code",
   "execution_count": 107,
   "id": "52bb6791",
   "metadata": {},
   "outputs": [
    {
     "data": {
      "image/png": "[encoded data removed]",
      "text/plain": [
       "<Figure size 800x300 with 3 Axes>"
      ]
     },
     "metadata": {},
     "output_type": "display_data"
    }
   ],
   "source": [
    "# 하나의 인스턴스 Waterfall \n",
    "\n",
    "i = 0              # 샘플 인덱스\n",
    "target_class = 0   # 분석할 클래스 인덱스 지정\n",
    "\n",
    "ex = shap.Explanation(\n",
    "    values = shap_values[target_class][i],           # 선택 클래스의 shap 값\n",
    "    base_values = explainer.expected_value[target_class], # 선택 클래스의 expected value (스칼라)\n",
    "    data = X_val_sample.iloc[i],\n",
    "    feature_names = X_val_sample.columns\n",
    ")\n",
    "\n",
    "shap.plots.waterfall(ex, max_display=20)\n"
   ]
  },
  {
   "cell_type": "code",
   "execution_count": null,
   "id": "18297dd0",
   "metadata": {},
   "outputs": [],
   "source": [
    "### feature selection + shap\n",
    "\n",
    "import shap\n",
    "import re\n",
    "from scipy import sparse"
   ]
  },
  {
   "cell_type": "code",
   "execution_count": 137,
   "id": "924241bc",
   "metadata": {},
   "outputs": [],
   "source": [
    "# 함수 호출 전에 딱 2줄만 추가\n",
    "import numpy as np, pandas as pd\n",
    "X_train = X_train.replace({pd.NA: np.nan})  # NAType → np.nan\n"
   ]
  },
  {
   "cell_type": "code",
   "execution_count": 136,
   "id": "33cbf888",
   "metadata": {},
   "outputs": [
    {
     "ename": "TypeError",
     "evalue": "float() argument must be a string or a real number, not 'NAType'",
     "output_type": "error",
     "traceback": [
      "\u001b[1;31m---------------------------------------------------------------------------\u001b[0m",
      "\u001b[1;31mTypeError\u001b[0m                                 Traceback (most recent call last)",
      "Cell \u001b[1;32mIn[136], line 178\u001b[0m\n\u001b[0;32m    163\u001b[0m         \u001b[38;5;28;01mreturn\u001b[39;00m df_importance_expanded, \u001b[38;5;28;01mNone\u001b[39;00m, selected_features\n\u001b[0;32m    165\u001b[0m \u001b[38;5;66;03m# ================================\u001b[39;00m\n\u001b[0;32m    166\u001b[0m \u001b[38;5;66;03m# 사용 예시\u001b[39;00m\n\u001b[0;32m    167\u001b[0m \u001b[38;5;66;03m# ================================\u001b[39;00m\n\u001b[1;32m   (...)\u001b[0m\n\u001b[0;32m    175\u001b[0m \u001b[38;5;66;03m# preprocess, _, _ = build_preprocess(X_train)  # (선택) 직접 만들고 싶으면\u001b[39;00m\n\u001b[0;32m    176\u001b[0m \u001b[38;5;66;03m# model = LGBMClassifier(random_state=42)       # (선택) 하이퍼파라미터 설정 가능\u001b[39;00m\n\u001b[1;32m--> 178\u001b[0m df_expanded, df_grouped, selected \u001b[38;5;241m=\u001b[39m \u001b[43mshap_feature_selection\u001b[49m\u001b[43m(\u001b[49m\n\u001b[0;32m    179\u001b[0m \u001b[43m    \u001b[49m\u001b[43mX_train\u001b[49m\u001b[43m,\u001b[49m\u001b[43m \u001b[49m\u001b[43my_train\u001b[49m\u001b[43m,\u001b[49m\n\u001b[0;32m    180\u001b[0m \u001b[43m    \u001b[49m\u001b[43mmodel\u001b[49m\u001b[38;5;241;43m=\u001b[39;49m\u001b[38;5;28;43;01mNone\u001b[39;49;00m\u001b[43m,\u001b[49m\n\u001b[0;32m    181\u001b[0m \u001b[43m    \u001b[49m\u001b[43mpreprocess\u001b[49m\u001b[38;5;241;43m=\u001b[39;49m\u001b[38;5;28;43;01mNone\u001b[39;49;00m\u001b[43m,\u001b[49m\n\u001b[0;32m    182\u001b[0m \u001b[43m    \u001b[49m\u001b[43mn_splits\u001b[49m\u001b[38;5;241;43m=\u001b[39;49m\u001b[38;5;241;43m5\u001b[39;49m\u001b[43m,\u001b[49m\n\u001b[0;32m    183\u001b[0m \u001b[43m    \u001b[49m\u001b[43mrandom_state\u001b[49m\u001b[38;5;241;43m=\u001b[39;49m\u001b[38;5;241;43m42\u001b[39;49m\u001b[43m,\u001b[49m\n\u001b[0;32m    184\u001b[0m \u001b[43m    \u001b[49m\u001b[43mtop_k\u001b[49m\u001b[38;5;241;43m=\u001b[39;49m\u001b[38;5;241;43m30\u001b[39;49m\u001b[43m,\u001b[49m\n\u001b[0;32m    185\u001b[0m \u001b[43m    \u001b[49m\u001b[43mgroup_ohe\u001b[49m\u001b[38;5;241;43m=\u001b[39;49m\u001b[38;5;28;43;01mTrue\u001b[39;49;00m\n\u001b[0;32m    186\u001b[0m \u001b[43m)\u001b[49m\n\u001b[0;32m    188\u001b[0m \u001b[38;5;28mprint\u001b[39m(\u001b[38;5;124m\"\u001b[39m\u001b[38;5;124m▶ 확장 피처 상위 10개\u001b[39m\u001b[38;5;124m\"\u001b[39m)\n\u001b[0;32m    189\u001b[0m \u001b[38;5;28mprint\u001b[39m(df_expanded\u001b[38;5;241m.\u001b[39mhead(\u001b[38;5;241m10\u001b[39m))\n",
      "Cell \u001b[1;32mIn[136], line 132\u001b[0m, in \u001b[0;36mshap_feature_selection\u001b[1;34m(X, y, model, preprocess, n_splits, random_state, top_k, group_ohe)\u001b[0m\n\u001b[0;32m    130\u001b[0m \u001b[38;5;66;03m# 모델 학습 (전처리 결과에 직접 학습)\u001b[39;00m\n\u001b[0;32m    131\u001b[0m clf \u001b[38;5;241m=\u001b[39m LGBMClassifier(random_state\u001b[38;5;241m=\u001b[39mrandom_state)\n\u001b[1;32m--> 132\u001b[0m \u001b[43mclf\u001b[49m\u001b[38;5;241;43m.\u001b[39;49m\u001b[43mfit\u001b[49m\u001b[43m(\u001b[49m\u001b[43mX_tr_t\u001b[49m\u001b[43m,\u001b[49m\u001b[43m \u001b[49m\u001b[43my_tr\u001b[49m\u001b[43m)\u001b[49m\n\u001b[0;32m    134\u001b[0m \u001b[38;5;66;03m# SHAP 설명자\u001b[39;00m\n\u001b[0;32m    135\u001b[0m explainer \u001b[38;5;241m=\u001b[39m shap\u001b[38;5;241m.\u001b[39mTreeExplainer(clf, feature_perturbation\u001b[38;5;241m=\u001b[39m\u001b[38;5;124m\"\u001b[39m\u001b[38;5;124mtree_path_dependent\u001b[39m\u001b[38;5;124m\"\u001b[39m)\n",
      "File \u001b[1;32mc:\\Users\\user\\anaconda3\\envs\\python310\\lib\\site-packages\\lightgbm\\sklearn.py:1560\u001b[0m, in \u001b[0;36mLGBMClassifier.fit\u001b[1;34m(self, X, y, sample_weight, init_score, eval_set, eval_names, eval_sample_weight, eval_class_weight, eval_init_score, eval_metric, feature_name, categorical_feature, callbacks, init_model)\u001b[0m\n\u001b[0;32m   1557\u001b[0m         \u001b[38;5;28;01melse\u001b[39;00m:\n\u001b[0;32m   1558\u001b[0m             valid_sets\u001b[38;5;241m.\u001b[39mappend((valid_x, \u001b[38;5;28mself\u001b[39m\u001b[38;5;241m.\u001b[39m_le\u001b[38;5;241m.\u001b[39mtransform(valid_y)))\n\u001b[1;32m-> 1560\u001b[0m \u001b[38;5;28;43msuper\u001b[39;49m\u001b[43m(\u001b[49m\u001b[43m)\u001b[49m\u001b[38;5;241;43m.\u001b[39;49m\u001b[43mfit\u001b[49m\u001b[43m(\u001b[49m\n\u001b[0;32m   1561\u001b[0m \u001b[43m    \u001b[49m\u001b[43mX\u001b[49m\u001b[43m,\u001b[49m\n\u001b[0;32m   1562\u001b[0m \u001b[43m    \u001b[49m\u001b[43m_y\u001b[49m\u001b[43m,\u001b[49m\n\u001b[0;32m   1563\u001b[0m \u001b[43m    \u001b[49m\u001b[43msample_weight\u001b[49m\u001b[38;5;241;43m=\u001b[39;49m\u001b[43msample_weight\u001b[49m\u001b[43m,\u001b[49m\n\u001b[0;32m   1564\u001b[0m \u001b[43m    \u001b[49m\u001b[43minit_score\u001b[49m\u001b[38;5;241;43m=\u001b[39;49m\u001b[43minit_score\u001b[49m\u001b[43m,\u001b[49m\n\u001b[0;32m   1565\u001b[0m \u001b[43m    \u001b[49m\u001b[43meval_set\u001b[49m\u001b[38;5;241;43m=\u001b[39;49m\u001b[43mvalid_sets\u001b[49m\u001b[43m,\u001b[49m\n\u001b[0;32m   1566\u001b[0m \u001b[43m    \u001b[49m\u001b[43meval_names\u001b[49m\u001b[38;5;241;43m=\u001b[39;49m\u001b[43meval_names\u001b[49m\u001b[43m,\u001b[49m\n\u001b[0;32m   1567\u001b[0m \u001b[43m    \u001b[49m\u001b[43meval_sample_weight\u001b[49m\u001b[38;5;241;43m=\u001b[39;49m\u001b[43meval_sample_weight\u001b[49m\u001b[43m,\u001b[49m\n\u001b[0;32m   1568\u001b[0m \u001b[43m    \u001b[49m\u001b[43meval_class_weight\u001b[49m\u001b[38;5;241;43m=\u001b[39;49m\u001b[43meval_class_weight\u001b[49m\u001b[43m,\u001b[49m\n\u001b[0;32m   1569\u001b[0m \u001b[43m    \u001b[49m\u001b[43meval_init_score\u001b[49m\u001b[38;5;241;43m=\u001b[39;49m\u001b[43meval_init_score\u001b[49m\u001b[43m,\u001b[49m\n\u001b[0;32m   1570\u001b[0m \u001b[43m    \u001b[49m\u001b[43meval_metric\u001b[49m\u001b[38;5;241;43m=\u001b[39;49m\u001b[43meval_metric\u001b[49m\u001b[43m,\u001b[49m\n\u001b[0;32m   1571\u001b[0m \u001b[43m    \u001b[49m\u001b[43mfeature_name\u001b[49m\u001b[38;5;241;43m=\u001b[39;49m\u001b[43mfeature_name\u001b[49m\u001b[43m,\u001b[49m\n\u001b[0;32m   1572\u001b[0m \u001b[43m    \u001b[49m\u001b[43mcategorical_feature\u001b[49m\u001b[38;5;241;43m=\u001b[39;49m\u001b[43mcategorical_feature\u001b[49m\u001b[43m,\u001b[49m\n\u001b[0;32m   1573\u001b[0m \u001b[43m    \u001b[49m\u001b[43mcallbacks\u001b[49m\u001b[38;5;241;43m=\u001b[39;49m\u001b[43mcallbacks\u001b[49m\u001b[43m,\u001b[49m\n\u001b[0;32m   1574\u001b[0m \u001b[43m    \u001b[49m\u001b[43minit_model\u001b[49m\u001b[38;5;241;43m=\u001b[39;49m\u001b[43minit_model\u001b[49m\u001b[43m,\u001b[49m\n\u001b[0;32m   1575\u001b[0m \u001b[43m\u001b[49m\u001b[43m)\u001b[49m\n\u001b[0;32m   1576\u001b[0m \u001b[38;5;28;01mreturn\u001b[39;00m \u001b[38;5;28mself\u001b[39m\n",
      "File \u001b[1;32mc:\\Users\\user\\anaconda3\\envs\\python310\\lib\\site-packages\\lightgbm\\sklearn.py:949\u001b[0m, in \u001b[0;36mLGBMModel.fit\u001b[1;34m(self, X, y, sample_weight, init_score, group, eval_set, eval_names, eval_sample_weight, eval_class_weight, eval_init_score, eval_group, eval_metric, feature_name, categorical_feature, callbacks, init_model)\u001b[0m\n\u001b[0;32m    946\u001b[0m params[\u001b[38;5;124m\"\u001b[39m\u001b[38;5;124mmetric\u001b[39m\u001b[38;5;124m\"\u001b[39m] \u001b[38;5;241m=\u001b[39m [metric \u001b[38;5;28;01mfor\u001b[39;00m metric \u001b[38;5;129;01min\u001b[39;00m params[\u001b[38;5;124m\"\u001b[39m\u001b[38;5;124mmetric\u001b[39m\u001b[38;5;124m\"\u001b[39m] \u001b[38;5;28;01mif\u001b[39;00m metric \u001b[38;5;129;01mis\u001b[39;00m \u001b[38;5;129;01mnot\u001b[39;00m \u001b[38;5;28;01mNone\u001b[39;00m]\n\u001b[0;32m    948\u001b[0m \u001b[38;5;28;01mif\u001b[39;00m \u001b[38;5;129;01mnot\u001b[39;00m \u001b[38;5;28misinstance\u001b[39m(X, (pd_DataFrame, dt_DataTable)):\n\u001b[1;32m--> 949\u001b[0m     _X, _y \u001b[38;5;241m=\u001b[39m \u001b[43m_LGBMValidateData\u001b[49m\u001b[43m(\u001b[49m\n\u001b[0;32m    950\u001b[0m \u001b[43m        \u001b[49m\u001b[38;5;28;43mself\u001b[39;49m\u001b[43m,\u001b[49m\n\u001b[0;32m    951\u001b[0m \u001b[43m        \u001b[49m\u001b[43mX\u001b[49m\u001b[43m,\u001b[49m\n\u001b[0;32m    952\u001b[0m \u001b[43m        \u001b[49m\u001b[43my\u001b[49m\u001b[43m,\u001b[49m\n\u001b[0;32m    953\u001b[0m \u001b[43m        \u001b[49m\u001b[43mreset\u001b[49m\u001b[38;5;241;43m=\u001b[39;49m\u001b[38;5;28;43;01mTrue\u001b[39;49;00m\u001b[43m,\u001b[49m\n\u001b[0;32m    954\u001b[0m \u001b[43m        \u001b[49m\u001b[38;5;66;43;03m# allow any input type (this validation is done further down, in lgb.Dataset())\u001b[39;49;00m\n\u001b[0;32m    955\u001b[0m \u001b[43m        \u001b[49m\u001b[43maccept_sparse\u001b[49m\u001b[38;5;241;43m=\u001b[39;49m\u001b[38;5;28;43;01mTrue\u001b[39;49;00m\u001b[43m,\u001b[49m\n\u001b[0;32m    956\u001b[0m \u001b[43m        \u001b[49m\u001b[38;5;66;43;03m# do not raise an error if Inf of NaN values are found (LightGBM handles these internally)\u001b[39;49;00m\n\u001b[0;32m    957\u001b[0m \u001b[43m        \u001b[49m\u001b[43mensure_all_finite\u001b[49m\u001b[38;5;241;43m=\u001b[39;49m\u001b[38;5;28;43;01mFalse\u001b[39;49;00m\u001b[43m,\u001b[49m\n\u001b[0;32m    958\u001b[0m \u001b[43m        \u001b[49m\u001b[38;5;66;43;03m# raise an error on 0-row and 1-row inputs\u001b[39;49;00m\n\u001b[0;32m    959\u001b[0m \u001b[43m        \u001b[49m\u001b[43mensure_min_samples\u001b[49m\u001b[38;5;241;43m=\u001b[39;49m\u001b[38;5;241;43m2\u001b[39;49m\u001b[43m,\u001b[49m\n\u001b[0;32m    960\u001b[0m \u001b[43m    \u001b[49m\u001b[43m)\u001b[49m\n\u001b[0;32m    961\u001b[0m     \u001b[38;5;28;01mif\u001b[39;00m sample_weight \u001b[38;5;129;01mis\u001b[39;00m \u001b[38;5;129;01mnot\u001b[39;00m \u001b[38;5;28;01mNone\u001b[39;00m:\n\u001b[0;32m    962\u001b[0m         sample_weight \u001b[38;5;241m=\u001b[39m _LGBMCheckSampleWeight(sample_weight, _X)\n",
      "File \u001b[1;32mc:\\Users\\user\\anaconda3\\envs\\python310\\lib\\site-packages\\lightgbm\\compat.py:78\u001b[0m, in \u001b[0;36mvalidate_data\u001b[1;34m(_estimator, X, y, accept_sparse, ensure_all_finite, ensure_min_samples, **ignored_kwargs)\u001b[0m\n\u001b[0;32m     71\u001b[0m     X \u001b[38;5;241m=\u001b[39m check_array(\n\u001b[0;32m     72\u001b[0m         X,\n\u001b[0;32m     73\u001b[0m         accept_sparse\u001b[38;5;241m=\u001b[39maccept_sparse,\n\u001b[0;32m     74\u001b[0m         force_all_finite\u001b[38;5;241m=\u001b[39mensure_all_finite,\n\u001b[0;32m     75\u001b[0m         ensure_min_samples\u001b[38;5;241m=\u001b[39mensure_min_samples,\n\u001b[0;32m     76\u001b[0m     )\n\u001b[0;32m     77\u001b[0m \u001b[38;5;28;01melse\u001b[39;00m:\n\u001b[1;32m---> 78\u001b[0m     X, y \u001b[38;5;241m=\u001b[39m \u001b[43mcheck_X_y\u001b[49m\u001b[43m(\u001b[49m\n\u001b[0;32m     79\u001b[0m \u001b[43m        \u001b[49m\u001b[43mX\u001b[49m\u001b[43m,\u001b[49m\n\u001b[0;32m     80\u001b[0m \u001b[43m        \u001b[49m\u001b[43my\u001b[49m\u001b[43m,\u001b[49m\n\u001b[0;32m     81\u001b[0m \u001b[43m        \u001b[49m\u001b[43maccept_sparse\u001b[49m\u001b[38;5;241;43m=\u001b[39;49m\u001b[43maccept_sparse\u001b[49m\u001b[43m,\u001b[49m\n\u001b[0;32m     82\u001b[0m \u001b[43m        \u001b[49m\u001b[43mforce_all_finite\u001b[49m\u001b[38;5;241;43m=\u001b[39;49m\u001b[43mensure_all_finite\u001b[49m\u001b[43m,\u001b[49m\n\u001b[0;32m     83\u001b[0m \u001b[43m        \u001b[49m\u001b[43mensure_min_samples\u001b[49m\u001b[38;5;241;43m=\u001b[39;49m\u001b[43mensure_min_samples\u001b[49m\u001b[43m,\u001b[49m\n\u001b[0;32m     84\u001b[0m \u001b[43m    \u001b[49m\u001b[43m)\u001b[49m\n\u001b[0;32m     86\u001b[0m     \u001b[38;5;66;03m# this only needs to be updated at fit() time\u001b[39;00m\n\u001b[0;32m     87\u001b[0m     _estimator\u001b[38;5;241m.\u001b[39mn_features_in_ \u001b[38;5;241m=\u001b[39m n_features_in_\n",
      "File \u001b[1;32mc:\\Users\\user\\anaconda3\\envs\\python310\\lib\\site-packages\\sklearn\\utils\\validation.py:1263\u001b[0m, in \u001b[0;36mcheck_X_y\u001b[1;34m(X, y, accept_sparse, accept_large_sparse, dtype, order, copy, force_all_finite, ensure_2d, allow_nd, multi_output, ensure_min_samples, ensure_min_features, y_numeric, estimator)\u001b[0m\n\u001b[0;32m   1258\u001b[0m         estimator_name \u001b[38;5;241m=\u001b[39m _check_estimator_name(estimator)\n\u001b[0;32m   1259\u001b[0m     \u001b[38;5;28;01mraise\u001b[39;00m \u001b[38;5;167;01mValueError\u001b[39;00m(\n\u001b[0;32m   1260\u001b[0m         \u001b[38;5;124mf\u001b[39m\u001b[38;5;124m\"\u001b[39m\u001b[38;5;132;01m{\u001b[39;00mestimator_name\u001b[38;5;132;01m}\u001b[39;00m\u001b[38;5;124m requires y to be passed, but the target y is None\u001b[39m\u001b[38;5;124m\"\u001b[39m\n\u001b[0;32m   1261\u001b[0m     )\n\u001b[1;32m-> 1263\u001b[0m X \u001b[38;5;241m=\u001b[39m \u001b[43mcheck_array\u001b[49m\u001b[43m(\u001b[49m\n\u001b[0;32m   1264\u001b[0m \u001b[43m    \u001b[49m\u001b[43mX\u001b[49m\u001b[43m,\u001b[49m\n\u001b[0;32m   1265\u001b[0m \u001b[43m    \u001b[49m\u001b[43maccept_sparse\u001b[49m\u001b[38;5;241;43m=\u001b[39;49m\u001b[43maccept_sparse\u001b[49m\u001b[43m,\u001b[49m\n\u001b[0;32m   1266\u001b[0m \u001b[43m    \u001b[49m\u001b[43maccept_large_sparse\u001b[49m\u001b[38;5;241;43m=\u001b[39;49m\u001b[43maccept_large_sparse\u001b[49m\u001b[43m,\u001b[49m\n\u001b[0;32m   1267\u001b[0m \u001b[43m    \u001b[49m\u001b[43mdtype\u001b[49m\u001b[38;5;241;43m=\u001b[39;49m\u001b[43mdtype\u001b[49m\u001b[43m,\u001b[49m\n\u001b[0;32m   1268\u001b[0m \u001b[43m    \u001b[49m\u001b[43morder\u001b[49m\u001b[38;5;241;43m=\u001b[39;49m\u001b[43morder\u001b[49m\u001b[43m,\u001b[49m\n\u001b[0;32m   1269\u001b[0m \u001b[43m    \u001b[49m\u001b[43mcopy\u001b[49m\u001b[38;5;241;43m=\u001b[39;49m\u001b[43mcopy\u001b[49m\u001b[43m,\u001b[49m\n\u001b[0;32m   1270\u001b[0m \u001b[43m    \u001b[49m\u001b[43mforce_all_finite\u001b[49m\u001b[38;5;241;43m=\u001b[39;49m\u001b[43mforce_all_finite\u001b[49m\u001b[43m,\u001b[49m\n\u001b[0;32m   1271\u001b[0m \u001b[43m    \u001b[49m\u001b[43mensure_2d\u001b[49m\u001b[38;5;241;43m=\u001b[39;49m\u001b[43mensure_2d\u001b[49m\u001b[43m,\u001b[49m\n\u001b[0;32m   1272\u001b[0m \u001b[43m    \u001b[49m\u001b[43mallow_nd\u001b[49m\u001b[38;5;241;43m=\u001b[39;49m\u001b[43mallow_nd\u001b[49m\u001b[43m,\u001b[49m\n\u001b[0;32m   1273\u001b[0m \u001b[43m    \u001b[49m\u001b[43mensure_min_samples\u001b[49m\u001b[38;5;241;43m=\u001b[39;49m\u001b[43mensure_min_samples\u001b[49m\u001b[43m,\u001b[49m\n\u001b[0;32m   1274\u001b[0m \u001b[43m    \u001b[49m\u001b[43mensure_min_features\u001b[49m\u001b[38;5;241;43m=\u001b[39;49m\u001b[43mensure_min_features\u001b[49m\u001b[43m,\u001b[49m\n\u001b[0;32m   1275\u001b[0m \u001b[43m    \u001b[49m\u001b[43mestimator\u001b[49m\u001b[38;5;241;43m=\u001b[39;49m\u001b[43mestimator\u001b[49m\u001b[43m,\u001b[49m\n\u001b[0;32m   1276\u001b[0m \u001b[43m    \u001b[49m\u001b[43minput_name\u001b[49m\u001b[38;5;241;43m=\u001b[39;49m\u001b[38;5;124;43m\"\u001b[39;49m\u001b[38;5;124;43mX\u001b[39;49m\u001b[38;5;124;43m\"\u001b[39;49m\u001b[43m,\u001b[49m\n\u001b[0;32m   1277\u001b[0m \u001b[43m\u001b[49m\u001b[43m)\u001b[49m\n\u001b[0;32m   1279\u001b[0m y \u001b[38;5;241m=\u001b[39m _check_y(y, multi_output\u001b[38;5;241m=\u001b[39mmulti_output, y_numeric\u001b[38;5;241m=\u001b[39my_numeric, estimator\u001b[38;5;241m=\u001b[39mestimator)\n\u001b[0;32m   1281\u001b[0m check_consistent_length(X, y)\n",
      "File \u001b[1;32mc:\\Users\\user\\anaconda3\\envs\\python310\\lib\\site-packages\\sklearn\\utils\\validation.py:997\u001b[0m, in \u001b[0;36mcheck_array\u001b[1;34m(array, accept_sparse, accept_large_sparse, dtype, order, copy, force_all_finite, ensure_2d, allow_nd, ensure_min_samples, ensure_min_features, estimator, input_name)\u001b[0m\n\u001b[0;32m    995\u001b[0m         array \u001b[38;5;241m=\u001b[39m xp\u001b[38;5;241m.\u001b[39mastype(array, dtype, copy\u001b[38;5;241m=\u001b[39m\u001b[38;5;28;01mFalse\u001b[39;00m)\n\u001b[0;32m    996\u001b[0m     \u001b[38;5;28;01melse\u001b[39;00m:\n\u001b[1;32m--> 997\u001b[0m         array \u001b[38;5;241m=\u001b[39m \u001b[43m_asarray_with_order\u001b[49m\u001b[43m(\u001b[49m\u001b[43marray\u001b[49m\u001b[43m,\u001b[49m\u001b[43m \u001b[49m\u001b[43morder\u001b[49m\u001b[38;5;241;43m=\u001b[39;49m\u001b[43morder\u001b[49m\u001b[43m,\u001b[49m\u001b[43m \u001b[49m\u001b[43mdtype\u001b[49m\u001b[38;5;241;43m=\u001b[39;49m\u001b[43mdtype\u001b[49m\u001b[43m,\u001b[49m\u001b[43m \u001b[49m\u001b[43mxp\u001b[49m\u001b[38;5;241;43m=\u001b[39;49m\u001b[43mxp\u001b[49m\u001b[43m)\u001b[49m\n\u001b[0;32m    998\u001b[0m \u001b[38;5;28;01mexcept\u001b[39;00m ComplexWarning \u001b[38;5;28;01mas\u001b[39;00m complex_warning:\n\u001b[0;32m    999\u001b[0m     \u001b[38;5;28;01mraise\u001b[39;00m \u001b[38;5;167;01mValueError\u001b[39;00m(\n\u001b[0;32m   1000\u001b[0m         \u001b[38;5;124m\"\u001b[39m\u001b[38;5;124mComplex data not supported\u001b[39m\u001b[38;5;130;01m\\n\u001b[39;00m\u001b[38;5;132;01m{}\u001b[39;00m\u001b[38;5;130;01m\\n\u001b[39;00m\u001b[38;5;124m\"\u001b[39m\u001b[38;5;241m.\u001b[39mformat(array)\n\u001b[0;32m   1001\u001b[0m     ) \u001b[38;5;28;01mfrom\u001b[39;00m\u001b[38;5;250m \u001b[39m\u001b[38;5;21;01mcomplex_warning\u001b[39;00m\n",
      "File \u001b[1;32mc:\\Users\\user\\anaconda3\\envs\\python310\\lib\\site-packages\\sklearn\\utils\\_array_api.py:521\u001b[0m, in \u001b[0;36m_asarray_with_order\u001b[1;34m(array, dtype, order, copy, xp)\u001b[0m\n\u001b[0;32m    519\u001b[0m     array \u001b[38;5;241m=\u001b[39m numpy\u001b[38;5;241m.\u001b[39marray(array, order\u001b[38;5;241m=\u001b[39morder, dtype\u001b[38;5;241m=\u001b[39mdtype)\n\u001b[0;32m    520\u001b[0m \u001b[38;5;28;01melse\u001b[39;00m:\n\u001b[1;32m--> 521\u001b[0m     array \u001b[38;5;241m=\u001b[39m \u001b[43mnumpy\u001b[49m\u001b[38;5;241;43m.\u001b[39;49m\u001b[43masarray\u001b[49m\u001b[43m(\u001b[49m\u001b[43marray\u001b[49m\u001b[43m,\u001b[49m\u001b[43m \u001b[49m\u001b[43morder\u001b[49m\u001b[38;5;241;43m=\u001b[39;49m\u001b[43morder\u001b[49m\u001b[43m,\u001b[49m\u001b[43m \u001b[49m\u001b[43mdtype\u001b[49m\u001b[38;5;241;43m=\u001b[39;49m\u001b[43mdtype\u001b[49m\u001b[43m)\u001b[49m\n\u001b[0;32m    523\u001b[0m \u001b[38;5;66;03m# At this point array is a NumPy ndarray. We convert it to an array\u001b[39;00m\n\u001b[0;32m    524\u001b[0m \u001b[38;5;66;03m# container that is consistent with the input's namespace.\u001b[39;00m\n\u001b[0;32m    525\u001b[0m \u001b[38;5;28;01mreturn\u001b[39;00m xp\u001b[38;5;241m.\u001b[39masarray(array)\n",
      "\u001b[1;31mTypeError\u001b[0m: float() argument must be a string or a real number, not 'NAType'"
     ]
    }
   ],
   "source": [
    "def build_preprocess(X):\n",
    "    num_cols = X.select_dtypes(include=[np.number, 'bool']).columns.tolist()\n",
    "    cat_cols = X.select_dtypes(include=['object', 'category']).columns.tolist()\n",
    "    pre = ColumnTransformer(\n",
    "        transformers=[\n",
    "            ('num', 'passthrough', num_cols),\n",
    "            ('cat', OneHotEncoder(handle_unknown='ignore', sparse_output=False), cat_cols),\n",
    "        ]\n",
    "    )\n",
    "    return pre, num_cols, cat_cols\n",
    "\n",
    "def get_feature_names(pre, num_cols, cat_cols):\n",
    "    # ColumnTransformer + OneHotEncoder의 출력 이름\n",
    "    # scikit-learn 1.0+ 에서 제공\n",
    "    names = []\n",
    "    # 숫자 특성: 'num__col'\n",
    "    names += [f'num__{c}' for c in num_cols]\n",
    "    # 범주 특성: 'cat__원본특성=카테고리'\n",
    "    if len(cat_cols) > 0:\n",
    "        ohe = pre.named_transformers_['cat']\n",
    "        ohe_names = ohe.get_feature_names_out(cat_cols).tolist()\n",
    "        names += [f'cat__{n}' for n in ohe_names]\n",
    "    return np.array(names)\n",
    "\n",
    "def _to_dense(X_mat):\n",
    "    if sparse.issparse(X_mat):\n",
    "        return X_mat.toarray()\n",
    "    return X_mat\n",
    "\n",
    "def _mean_abs_shap_values(explainer, X_mat):\n",
    "    # shap_values는 버전에 따라 모양이 다름:\n",
    "    # - 바이너리: (n_samples, n_features)\n",
    "    # - 멀티클래스: (n_classes, n_samples, n_features) 또는 (n_samples, n_features, n_classes)\n",
    "    sv = explainer(X_mat, check_additivity=False).values\n",
    "    if sv is None:\n",
    "        # 구버전 API 호환\n",
    "        sv = explainer.shap_values(X_mat)\n",
    "    sv = np.asarray(sv)\n",
    "\n",
    "    if sv.ndim == 2:\n",
    "        # (n_samples, n_features)\n",
    "        return np.mean(np.abs(sv), axis=0)\n",
    "    elif sv.ndim == 3:\n",
    "        # (n_classes, n_samples, n_features) OR (n_samples, n_features, n_classes)\n",
    "        # 두 경우를 모두 커버\n",
    "        if sv.shape[0] < 10 and sv.shape[0] != X_mat.shape[0]:\n",
    "            # (n_classes, n_samples, n_features) 로 가정\n",
    "            sv_abs = np.abs(sv)  # (C, N, F)\n",
    "            sv_abs = sv_abs.mean(axis=1)  # (C, F)\n",
    "            return sv_abs.mean(axis=0)    # (F,)\n",
    "        else:\n",
    "            # (n_samples, n_features, n_classes)\n",
    "            sv_abs = np.abs(sv).mean(axis=2)  # (N, F)\n",
    "            return sv_abs.mean(axis=0)        # (F,)\n",
    "    else:\n",
    "        raise ValueError(f\"Unexpected SHAP shape: {sv.shape}\")\n",
    "\n",
    "def _group_to_original_cols(feature_names, importances):\n",
    "    \"\"\"\n",
    "    OHE된 'cat__col=value'들을 원본 'col' 기준으로 합산.\n",
    "    또한 'num__col'은 그대로 사용.\n",
    "    \"\"\"\n",
    "    base_names = []\n",
    "    for name in feature_names:\n",
    "        # 패턴: 'num__col' 또는 'cat__원본=값'\n",
    "        m = re.match(r'^(?:num|cat)__(.*)$', name)\n",
    "        inner = m.group(1) if m else name\n",
    "        # OHE면 '원본=값' → '원본'으로 축약\n",
    "        if '=' in inner:\n",
    "            base_names.append(inner.split('=')[0])\n",
    "        else:\n",
    "            base_names.append(inner)\n",
    "    df = pd.DataFrame({'feature_expanded': feature_names,\n",
    "                       'base_feature': base_names,\n",
    "                       'importance': importances})\n",
    "    grouped = df.groupby('base_feature', as_index=False)['importance'].sum()\n",
    "    grouped.sort_values('importance', ascending=False, inplace=True)\n",
    "    grouped['rank'] = np.arange(1, len(grouped)+1)\n",
    "    return grouped[['base_feature', 'importance', 'rank']]\n",
    "\n",
    "def shap_feature_selection(\n",
    "    X, y,\n",
    "    model=None,\n",
    "    preprocess=None,\n",
    "    n_splits=5,\n",
    "    random_state=42,\n",
    "    top_k=30,\n",
    "    group_ohe=True\n",
    "):\n",
    "    \"\"\"\n",
    "    반환:\n",
    "      - df_importance_expanded: OHE 포함(확장) 피처 중요도\n",
    "      - df_importance_grouped: 원본 피처 기준 집계 중요도 (group_ohe=True일 때)\n",
    "      - selected_features: 최종 선택된 top_k 피처 리스트 (원본 피처 기준)\n",
    "    \"\"\"\n",
    "    if model is None:\n",
    "        model = LGBMClassifier(random_state=random_state)\n",
    "\n",
    "    if preprocess is None:\n",
    "        preprocess, num_cols, cat_cols = build_preprocess(X)\n",
    "    else:\n",
    "        # 가능하면 자동 추출 시도\n",
    "        try:\n",
    "            num_cols = preprocess.transformers_[0][2]\n",
    "            cat_cols = preprocess.transformers_[1][2]\n",
    "        except Exception:\n",
    "            num_cols = X.select_dtypes(include=[np.number, 'bool']).columns.tolist()\n",
    "            cat_cols = X.select_dtypes(include=['object', 'category']).columns.tolist()\n",
    "\n",
    "    skf = StratifiedKFold(n_splits=n_splits, shuffle=True, random_state=random_state)\n",
    "\n",
    "    # 확장 피처 이름/중요도 누적\n",
    "    expanded_names_global = None\n",
    "    expanded_importance_sum = None\n",
    "\n",
    "    for fold, (tr_idx, va_idx) in enumerate(skf.split(X, y), 1):\n",
    "        X_tr, y_tr = X.iloc[tr_idx], y.iloc[tr_idx]\n",
    "        X_va, y_va = X.iloc[va_idx], y.iloc[va_idx]\n",
    "\n",
    "        # 전처리 학습 & 변환\n",
    "        preprocess_fitted = preprocess.fit(X_tr)\n",
    "        X_tr_t = _to_dense(preprocess_fitted.transform(X_tr))\n",
    "        X_va_t = _to_dense(preprocess_fitted.transform(X_va))\n",
    "\n",
    "        # 확장 피처 이름\n",
    "        feat_names = get_feature_names(preprocess_fitted, num_cols, cat_cols)\n",
    "        if expanded_names_global is None:\n",
    "            expanded_names_global = feat_names\n",
    "\n",
    "        # 모델 학습 (전처리 결과에 직접 학습)\n",
    "        clf = LGBMClassifier(random_state=random_state)\n",
    "        clf.fit(X_tr_t, y_tr)\n",
    "\n",
    "        # SHAP 설명자\n",
    "        explainer = shap.TreeExplainer(clf, feature_perturbation=\"tree_path_dependent\")\n",
    "        imp_fold = _mean_abs_shap_values(explainer, X_va_t)  # (n_features,)\n",
    "\n",
    "        # 길이 체크 (SHAP-이름 불일치 방지)\n",
    "        if len(imp_fold) != len(feat_names):\n",
    "            raise ValueError(f\"Mismatch: SHAP features={len(imp_fold)} vs names={len(feat_names)}\")\n",
    "\n",
    "        if expanded_importance_sum is None:\n",
    "            expanded_importance_sum = np.zeros_like(imp_fold, dtype=float)\n",
    "        expanded_importance_sum += imp_fold\n",
    "\n",
    "    # 폴드 평균\n",
    "    expanded_importance_mean = expanded_importance_sum / n_splits\n",
    "    df_importance_expanded = pd.DataFrame({\n",
    "        'feature_expanded': expanded_names_global,\n",
    "        'importance': expanded_importance_mean\n",
    "    }).sort_values('importance', ascending=False, ignore_index=True)\n",
    "    df_importance_expanded['rank'] = df_importance_expanded.index + 1\n",
    "\n",
    "    if group_ohe:\n",
    "        df_importance_grouped = _group_to_original_cols(\n",
    "            df_importance_expanded['feature_expanded'].values,\n",
    "            df_importance_expanded['importance'].values\n",
    "        )\n",
    "        selected_features = df_importance_grouped.head(top_k)['base_feature'].tolist()\n",
    "        return df_importance_expanded, df_importance_grouped, selected_features\n",
    "    else:\n",
    "        selected_features = df_importance_expanded.head(top_k)['feature_expanded'].tolist()\n",
    "        return df_importance_expanded, None, selected_features\n",
    "\n",
    "# ================================\n",
    "# 사용 예시\n",
    "# ================================\n",
    "# X_train, y_train 이 준비되어 있다고 가정\n",
    "# 전처리 자동 구성 + LGBM + 5-Fold CV로 SHAP 기반 중요도 집계\n",
    "# OHE는 원본 피처로 묶어서(top_k=30) 선택\n",
    "# df_expanded: OHE 확장 피처별 중요도 / df_grouped: 원본 피처별 중요도\n",
    "# selected: 최종 선택 피처(원본 기준)\n",
    "# df_grouped를 보고 top_k 조정하면 됨.\n",
    "\n",
    "# preprocess, _, _ = build_preprocess(X_train)  # (선택) 직접 만들고 싶으면\n",
    "# model = LGBMClassifier(random_state=42)       # (선택) 하이퍼파라미터 설정 가능\n",
    "\n",
    "df_expanded, df_grouped, selected = shap_feature_selection(\n",
    "    X_train, y_train,\n",
    "    model=None,\n",
    "    preprocess=None,\n",
    "    n_splits=5,\n",
    "    random_state=42,\n",
    "    top_k=30,\n",
    "    group_ohe=True\n",
    ")\n",
    "\n",
    "print(\"▶ 확장 피처 상위 10개\")\n",
    "print(df_expanded.head(10))\n",
    "print(\"\\n▶ 원본 피처(묶음) 상위 10개\")\n",
    "print(df_grouped.head(10))\n",
    "print(\"\\n▶ 최종 선택 피처 목록 (top_k):\")\n",
    "print(selected)\n"
   ]
  }
 ],
 "metadata": {
  "kernelspec": {
   "display_name": "python310",
   "language": "python",
   "name": "python3"
  },
  "language_info": {
   "codemirror_mode": {
    "name": "ipython",
    "version": 3
   },
   "file_extension": ".py",
   "mimetype": "text/x-python",
   "name": "python",
   "nbconvert_exporter": "python",
   "pygments_lexer": "ipython3",
   "version": "3.10.12"
  }
 },
 "nbformat": 4,
 "nbformat_minor": 5
}
